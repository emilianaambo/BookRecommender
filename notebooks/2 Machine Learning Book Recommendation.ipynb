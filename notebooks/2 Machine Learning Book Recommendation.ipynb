{
 "cells": [
  {
   "cell_type": "markdown",
   "metadata": {},
   "source": [
    "## Machine Learning: Data Modeling & Evaluation"
   ]
  },
  {
   "cell_type": "code",
   "execution_count": 1,
   "metadata": {},
   "outputs": [],
   "source": [
    "import os\n",
    "import time\n",
    "\n",
    "from pyspark.sql import SparkSession\n",
    "import pyspark \n",
    "\n",
    "from pyspark.sql.functions import lit\n",
    "from pyspark.ml.feature import IndexToString\n",
    "from pyspark.ml.feature import StringIndexer\n",
    "from pyspark.sql.functions import col\n",
    "from pyspark.ml.tuning import ParamGridBuilder, TrainValidationSplit,CrossValidator\n",
    "from pyspark.ml.evaluation import RegressionEvaluator\n",
    "from pyspark.ml.recommendation import ALS\n",
    "from pyspark.ml import Pipeline, PipelineModel\n",
    "\n",
    "import math\n",
    "import numpy as np\n",
    "import pandas as pd\n",
    "\n",
    "\n",
    "import seaborn as sns\n",
    "import matplotlib.pyplot as plt\n",
    "\n",
    "%matplotlib inline"
   ]
  },
  {
   "cell_type": "code",
   "execution_count": 2,
   "metadata": {},
   "outputs": [
    {
     "data": {
      "text/html": [
       "\n",
       "        <div>\n",
       "            <p><b>SparkContext</b></p>\n",
       "\n",
       "            <p><a href=\"http://dc498eb111b1:4040\">Spark UI</a></p>\n",
       "\n",
       "            <dl>\n",
       "              <dt>Version</dt>\n",
       "                <dd><code>v2.4.4</code></dd>\n",
       "              <dt>Master</dt>\n",
       "                <dd><code>local[*]</code></dd>\n",
       "              <dt>AppName</dt>\n",
       "                <dd><code>Book Recommender</code></dd>\n",
       "            </dl>\n",
       "        </div>\n",
       "        "
      ],
      "text/plain": [
       "<SparkContext master=local[*] appName=Book Recommender>"
      ]
     },
     "execution_count": 2,
     "metadata": {},
     "output_type": "execute_result"
    }
   ],
   "source": [
    "spark = SparkSession \\\n",
    "    .builder \\\n",
    "    .appName(\"Book Recommender\") \\\n",
    "    .config(\"spark.some.config.option\", \"some-value\") \\\n",
    "    .config(\"spark.executor.memory\",\"3g\") \\\n",
    "    .config(\"spark.driver.maxResultSize\", \"1g\") \\\n",
    "    .config(\"spark.executor.pyspark.memory\",\"3g\") \\\n",
    "    .getOrCreate()\n",
    "\n",
    "sc = spark.sparkContext\n",
    "sc"
   ]
  },
  {
   "cell_type": "markdown",
   "metadata": {},
   "source": [
    "### Loading Dataset"
   ]
  },
  {
   "cell_type": "code",
   "execution_count": 3,
   "metadata": {},
   "outputs": [],
   "source": [
    "df = spark.read.csv(path = '../data/processed/explicit_ratings_books.csv', header = True,inferSchema = True)"
   ]
  },
  {
   "cell_type": "code",
   "execution_count": 4,
   "metadata": {
    "scrolled": true
   },
   "outputs": [
    {
     "name": "stdout",
     "output_type": "stream",
     "text": [
      "root\n",
      " |-- userID: integer (nullable = true)\n",
      " |-- ISBN: string (nullable = true)\n",
      " |-- rating: integer (nullable = true)\n",
      " |-- title: string (nullable = true)\n",
      " |-- author: string (nullable = true)\n",
      " |-- yearOfPublication: string (nullable = true)\n",
      " |-- publisher: string (nullable = true)\n",
      " |-- age: string (nullable = true)\n",
      " |-- country: string (nullable = true)\n",
      "\n"
     ]
    }
   ],
   "source": [
    "df.printSchema()"
   ]
  },
  {
   "cell_type": "code",
   "execution_count": 5,
   "metadata": {},
   "outputs": [
    {
     "name": "stdout",
     "output_type": "stream",
     "text": [
      "+------+----------+------+--------------------+----------------+-----------------+--------------------+---+-------------+\n",
      "|userID|      ISBN|rating|               title|          author|yearOfPublication|           publisher|age|      country|\n",
      "+------+----------+------+--------------------+----------------+-----------------+--------------------+---+-------------+\n",
      "|276726|0155061224|     5|    Rites of Passage|      Judith Rae|             2001|              Heinle| 34|          usa|\n",
      "|276729|052165615X|     3|      Help!: Level 1|   Philip Prowse|             1999|Cambridge Univers...| 16|      croatia|\n",
      "|276729|0521795028|     6|The Amsterdam Con...|     Sue Leather|             2001|Cambridge Univers...| 16|      croatia|\n",
      "|276744|038550120X|     7|     A Painted House|    JOHN GRISHAM|             2001|           Doubleday| 34|          usa|\n",
      "|276747|0060517794|     9|Little Altars Eve...|   Rebecca Wells|             2003|         HarperTorch| 25|          usa|\n",
      "|276747|0671537458|     9|   Waiting to Exhale|  Terry McMillan|             1995|              Pocket| 25|          usa|\n",
      "|276747|0679776818|     8|Birdsong: A Novel...|Sebastian Faulks|             1997|   Vintage Books USA| 25|          usa|\n",
      "|276747|0943066433|     7|How to Deal With ...|   Rick Brinkman|             1995|    Careertrack Inc.| 25|          usa|\n",
      "|276747|1885408226|     7|The Golden Rule o...|        Aye Jaye|             1998|Listen &amp; Live...| 25|          usa|\n",
      "|276748|0747558167|     6|Apricots on the N...| Colette Rossant|             2002|Bloomsbury Publis...| 39| saudi arabia|\n",
      "+------+----------+------+--------------------+----------------+-----------------+--------------------+---+-------------+\n",
      "only showing top 10 rows\n",
      "\n"
     ]
    }
   ],
   "source": [
    "df.show(10,truncate=True)"
   ]
  },
  {
   "cell_type": "code",
   "execution_count": 6,
   "metadata": {},
   "outputs": [
    {
     "data": {
      "text/plain": [
       "383842"
      ]
     },
     "execution_count": 6,
     "metadata": {},
     "output_type": "execute_result"
    }
   ],
   "source": [
    "df.count()"
   ]
  },
  {
   "cell_type": "code",
   "execution_count": 7,
   "metadata": {},
   "outputs": [
    {
     "data": {
      "text/plain": [
       "DataFrame[summary: string, userID: string, ISBN: string, rating: string, title: string, author: string, yearOfPublication: string, publisher: string, age: string, country: string]"
      ]
     },
     "execution_count": 7,
     "metadata": {},
     "output_type": "execute_result"
    }
   ],
   "source": [
    "df.describe()"
   ]
  },
  {
   "cell_type": "markdown",
   "metadata": {},
   "source": [
    "## Collaborative Filtering: Data Modeling using Alternating Least Square matrix (ALS)   "
   ]
  },
  {
   "cell_type": "markdown",
   "metadata": {},
   "source": [
    "### Select required columns (UserID, ISBN, Ratings)"
   ]
  },
  {
   "cell_type": "code",
   "execution_count": 8,
   "metadata": {},
   "outputs": [
    {
     "name": "stdout",
     "output_type": "stream",
     "text": [
      "+------+----------+------+\n",
      "|userID|      ISBN|rating|\n",
      "+------+----------+------+\n",
      "|276726|0155061224|     5|\n",
      "|276729|052165615X|     3|\n",
      "|276729|0521795028|     6|\n",
      "|276744|038550120X|     7|\n",
      "|276747|0060517794|     9|\n",
      "|276747|0671537458|     9|\n",
      "|276747|0679776818|     8|\n",
      "|276747|0943066433|     7|\n",
      "|276747|1885408226|     7|\n",
      "|276748|0747558167|     6|\n",
      "|276751|3596218098|     8|\n",
      "|276754|0684867621|     8|\n",
      "|276755|0451166892|     5|\n",
      "|276762|0380711524|     5|\n",
      "|276762|3453092007|     8|\n",
      "|276772|0553572369|     7|\n",
      "|276772|3499230933|    10|\n",
      "|276772|3596151465|    10|\n",
      "|276774|3442136644|     9|\n",
      "|276786|8437606322|     8|\n",
      "+------+----------+------+\n",
      "only showing top 20 rows\n",
      "\n"
     ]
    }
   ],
   "source": [
    "# selecting the columns to work with in the dataset, we do not need all columns for the prediction, only userID, ISBN & rating column \n",
    "data=df.select(df['userID'],df['ISBN'],df['rating'])\n",
    "data.show()"
   ]
  },
  {
   "cell_type": "markdown",
   "metadata": {},
   "source": [
    "### Converting String Columns to index"
   ]
  },
  {
   "cell_type": "markdown",
   "metadata": {},
   "source": [
    "ALS only accepts values in numeric form as parameters so before creating the ALS model we need to  to transform userID and ISBN columns into index form (unique ids).\n"
   ]
  },
  {
   "cell_type": "code",
   "execution_count": 9,
   "metadata": {},
   "outputs": [
    {
     "name": "stdout",
     "output_type": "stream",
     "text": [
      "+------+----------+------+------------+----------+\n",
      "|userID|      ISBN|rating|userID_index|ISBN_index|\n",
      "+------+----------+------+------------+----------+\n",
      "|276726|0155061224|     5|     60067.0|   55543.0|\n",
      "|276729|052165615X|     3|     23114.0|  134282.0|\n",
      "|276729|0521795028|     6|     23114.0|   52232.0|\n",
      "|276744|038550120X|     7|     61595.0|     218.0|\n",
      "|276747|0060517794|     9|     11845.0|    1071.0|\n",
      "|276747|0671537458|     9|     11845.0|    2642.0|\n",
      "|276747|0679776818|     8|     11845.0|    1869.0|\n",
      "|276747|0943066433|     7|     11845.0|  149514.0|\n",
      "|276747|1885408226|     7|     11845.0|   72929.0|\n",
      "|276748|0747558167|     6|     58244.0|   28184.0|\n",
      "|276751|3596218098|     8|     60760.0|  134102.0|\n",
      "|276754|0684867621|     8|     35835.0|     373.0|\n",
      "|276755|0451166892|     5|     63300.0|     197.0|\n",
      "|276762|0380711524|     5|     27654.0|    2670.0|\n",
      "|276762|3453092007|     8|     27654.0|   22005.0|\n",
      "|276772|0553572369|     7|     20024.0|    7200.0|\n",
      "|276772|3499230933|    10|     20024.0|    9215.0|\n",
      "|276772|3596151465|    10|     20024.0|   33366.0|\n",
      "|276774|3442136644|     9|     50200.0|   20856.0|\n",
      "|276786|8437606322|     8|     22745.0|   44557.0|\n",
      "+------+----------+------+------------+----------+\n",
      "only showing top 20 rows\n",
      "\n"
     ]
    }
   ],
   "source": [
    "# Converting String columns (userID & ISBN) to index\n",
    "s_indexer = [StringIndexer(inputCol=column, outputCol=column+\"_index\") for column in list(set(data.columns)-set(['rating'])) ]\n",
    "pipeline = Pipeline(stages=s_indexer)\n",
    "dftransform = pipeline.fit(data).transform(data)\n",
    "dftransform.show()"
   ]
  },
  {
   "cell_type": "markdown",
   "metadata": {},
   "source": [
    "**NOTE:** Since the dataset is pretty huge, limited it to work with only 50000 records for now, because more than that is too much of a bottleneck for my laptop and required so much processing power and I could not run/accomplish much."
   ]
  },
  {
   "cell_type": "code",
   "execution_count": 10,
   "metadata": {},
   "outputs": [
    {
     "name": "stdout",
     "output_type": "stream",
     "text": [
      "+------+----------+------+------------+----------+\n",
      "|userID|      ISBN|rating|userID_index|ISBN_index|\n",
      "+------+----------+------+------------+----------+\n",
      "|276726|0155061224|     5|     60067.0|   55543.0|\n",
      "|276729|052165615X|     3|     23114.0|  134282.0|\n",
      "|276729|0521795028|     6|     23114.0|   52232.0|\n",
      "|276744|038550120X|     7|     61595.0|     218.0|\n",
      "|276747|0060517794|     9|     11845.0|    1071.0|\n",
      "|276747|0671537458|     9|     11845.0|    2642.0|\n",
      "|276747|0679776818|     8|     11845.0|    1869.0|\n",
      "|276747|0943066433|     7|     11845.0|  149514.0|\n",
      "|276747|1885408226|     7|     11845.0|   72929.0|\n",
      "|276748|0747558167|     6|     58244.0|   28184.0|\n",
      "|276751|3596218098|     8|     60760.0|  134102.0|\n",
      "|276754|0684867621|     8|     35835.0|     373.0|\n",
      "|276755|0451166892|     5|     63300.0|     197.0|\n",
      "|276762|0380711524|     5|     27654.0|    2670.0|\n",
      "|276762|3453092007|     8|     27654.0|   22005.0|\n",
      "|276772|0553572369|     7|     20024.0|    7200.0|\n",
      "|276772|3499230933|    10|     20024.0|    9215.0|\n",
      "|276772|3596151465|    10|     20024.0|   33366.0|\n",
      "|276774|3442136644|     9|     50200.0|   20856.0|\n",
      "|276786|8437606322|     8|     22745.0|   44557.0|\n",
      "+------+----------+------+------------+----------+\n",
      "only showing top 20 rows\n",
      "\n"
     ]
    }
   ],
   "source": [
    "# limiting it to work with only 50000 records\n",
    "dftransform = dftransform.limit(50000)\n",
    "dftransform.show()"
   ]
  },
  {
   "cell_type": "markdown",
   "metadata": {},
   "source": [
    "### Splitting into Train and Test data"
   ]
  },
  {
   "cell_type": "markdown",
   "metadata": {},
   "source": [
    "\n",
    "In order to train, we are going to split the data into 80% training set and 20% testing set."
   ]
  },
  {
   "cell_type": "code",
   "execution_count": 11,
   "metadata": {},
   "outputs": [
    {
     "name": "stdout",
     "output_type": "stream",
     "text": [
      "\n",
      "* Spliting training and testing datasets\n",
      "  Train dataset: 40006 rows\n",
      "  Test dataset:  9994 rows\n"
     ]
    }
   ],
   "source": [
    "# splitting dataset into train and test\n",
    "print (\"\\n* Spliting training and testing datasets\")\n",
    "(train,test)=dftransform.randomSplit([0.8, 0.2],seed = 1 )\n",
    "print(\"  Train dataset:\", train.count(), \"rows\")\n",
    "print(\"  Test dataset: \", test.count(), \"rows\")"
   ]
  },
  {
   "cell_type": "markdown",
   "metadata": {},
   "source": [
    "### ALS modeling and fitting data"
   ]
  },
  {
   "cell_type": "markdown",
   "metadata": {},
   "source": [
    " Will be making use of Alternating least square matrix factorization method,which is a collaborative filtering algorithm. "
   ]
  },
  {
   "cell_type": "code",
   "execution_count": 12,
   "metadata": {},
   "outputs": [],
   "source": [
    "# Build the recommendation model by using ALS on the training data\n",
    "# Note: setting cold start strategy to 'drop' to ensure we don't get NaN evaluation metrics\n",
    "als=ALS(maxIter=22,regParam=0.7,rank=12,userCol=\"userID_index\",itemCol=\"ISBN_index\",ratingCol=\"rating\",coldStartStrategy=\"drop\",nonnegative=True)\n",
    "model=als.fit(train)"
   ]
  },
  {
   "cell_type": "markdown",
   "metadata": {},
   "source": [
    "### Predictions and Model Evaluation (RMSE )"
   ]
  },
  {
   "cell_type": "code",
   "execution_count": 13,
   "metadata": {},
   "outputs": [],
   "source": [
    "# function to calculate RMSE/MSE\n",
    "evaluator = RegressionEvaluator(metricName=\"rmse\", labelCol=\"rating\",\n",
    "                                predictionCol=\"prediction\")\n",
    "def RMSE(predictions):\n",
    "    return evaluator.evaluate(predictions)"
   ]
  },
  {
   "cell_type": "code",
   "execution_count": 14,
   "metadata": {},
   "outputs": [
    {
     "name": "stdout",
     "output_type": "stream",
     "text": [
      "RMSE = 2.623985726417399\n",
      "Predictions:\n",
      "+------+----------+------+------------+----------+----------+\n",
      "|userID|      ISBN|rating|userID_index|ISBN_index|prediction|\n",
      "+------+----------+------+------------+----------+----------+\n",
      "|  7915|0609804138|     3|      1144.0|     148.0| 7.1597757|\n",
      "|  5737|0609804138|     9|     16014.0|     148.0|  5.397538|\n",
      "| 25844|0609804138|     9|     17800.0|     148.0|  7.094673|\n",
      "|  4225|0451202341|     6|     14840.0|     496.0| 5.5235248|\n",
      "|   486|0451202341|     8|     16433.0|     496.0| 6.1267595|\n",
      "|  7253|067101420X|     8|     19889.0|     833.0| 3.3797696|\n",
      "| 25981|067101420X|     5|        46.0|     833.0| 3.3571694|\n",
      "| 11676|067101420X|     4|         0.0|     833.0| 3.8147435|\n",
      "| 27647|0140276904|     5|       593.0|    1580.0| 6.4095345|\n",
      "| 16504|0140276904|     5|      3207.0|    1580.0|  6.465555|\n",
      "| 22365|0425097722|     9|      2726.0|    1959.0|   7.21601|\n",
      "| 20201|0812551478|    10|       894.0|    2122.0|  5.795143|\n",
      "| 28451|0515119202|     6|      2424.0|    2142.0| 3.5017602|\n",
      "|  7346|0345316002|     7|        55.0|    2866.0|  7.478404|\n",
      "|  2033|0380775123|    10|       287.0|    3918.0| 6.6143312|\n",
      "| 30127|0671776126|     8|      8520.0|    4519.0| 6.9471445|\n",
      "| 26221|0552998338|     7|     26947.0|    6620.0| 7.9077415|\n",
      "| 11718|0375415351|    10|      2199.0|    7833.0|  7.055946|\n",
      "| 28016|0451628055|    10|      2530.0|    8086.0|  7.758561|\n",
      "|  7286|0819830992|     8|       413.0|   23364.0|  9.253195|\n",
      "+------+----------+------+------------+----------+----------+\n",
      "only showing top 20 rows\n",
      "\n"
     ]
    }
   ],
   "source": [
    "# Evaluating the model by computing the RMSE on the test data\n",
    "predictions=model.transform(test)\n",
    "print('RMSE = ' + str(RMSE(predictions)))\n",
    "print(\"Predictions:\")\n",
    "predictions.show()"
   ]
  },
  {
   "cell_type": "markdown",
   "metadata": {},
   "source": [
    "### Recommendations"
   ]
  },
  {
   "cell_type": "code",
   "execution_count": 15,
   "metadata": {},
   "outputs": [
    {
     "name": "stdout",
     "output_type": "stream",
     "text": [
      "Top 10 book recommendations for each user :\n",
      "+------------+--------------------+\n",
      "|userID_index|     recommendations|\n",
      "+------------+--------------------+\n",
      "|        7340|[[92616, 9.222811...|\n",
      "|       21220|[[92616, 11.20486...|\n",
      "|       54190|[[109600, 7.79588...|\n",
      "|       56110|[[147463, 6.25453...|\n",
      "|       56640|[[108426, 9.65228...|\n",
      "|       11141|[[6644, 7.652112]...|\n",
      "|       23271|[[24002, 7.313163...|\n",
      "|       57201|[[5586, 9.949873]...|\n",
      "|       10362|[[24002, 9.760585...|\n",
      "|       67492|[[48770, 8.670118...|\n",
      "+------------+--------------------+\n",
      "only showing top 10 rows\n",
      "\n"
     ]
    }
   ],
   "source": [
    "print(\"Top 10 book recommendations for each user :\")\n",
    "user_recs=model.recommendForAllUsers(10).show(10)"
   ]
  },
  {
   "cell_type": "code",
   "execution_count": 16,
   "metadata": {},
   "outputs": [
    {
     "name": "stdout",
     "output_type": "stream",
     "text": [
      "Top 10 user recommendations for each Book :\n",
      "+----------+--------------------+\n",
      "|ISBN_index|     recommendations|\n",
      "+----------+--------------------+\n",
      "|       148|[[26093, 10.47134...|\n",
      "|       463|[[22278, 8.438749...|\n",
      "|       471|[[22278, 9.702738...|\n",
      "|       496|[[45913, 9.177088...|\n",
      "|       833|[[22278, 6.221591...|\n",
      "|      1088|[[46035, 7.733388...|\n",
      "|      1238|[[22278, 11.40866...|\n",
      "|      1342|[[22278, 6.279748...|\n",
      "|      1580|[[26093, 9.067789...|\n",
      "|      1591|[[22278, 11.33785...|\n",
      "+----------+--------------------+\n",
      "only showing top 10 rows\n",
      "\n"
     ]
    }
   ],
   "source": [
    "print(\"Top 10 user recommendations for each Book :\")\n",
    "book_recs=model.recommendForAllItems(10).show(10)"
   ]
  },
  {
   "cell_type": "markdown",
   "metadata": {},
   "source": [
    "### Testing Book Recommendations Model"
   ]
  },
  {
   "cell_type": "code",
   "execution_count": 17,
   "metadata": {},
   "outputs": [],
   "source": [
    "# The following function is to test predictions for selected user\n",
    "def recommendBooks(model, user, num_rec):\n",
    "    print(\"Results of distinct books from the selected user :\")\n",
    "    # Here we create a dataset with distinct books as one column and the userID \n",
    "    items_user = train.select(\"ISBN_index\").distinct().withColumn(\"userID_index\", lit(user))\n",
    "    items_user.show(n=5)\n",
    "\n",
    "    # filter out Books that the user has already rated \n",
    "    booksrated = train.filter(train.userID_index == user).select(\"ISBN_index\", \"userID_index\")\n",
    "\n",
    "    # application of the trained book als recommender system\n",
    "    predictions = model.transform(items_user.subtract(booksrated)).dropna().orderBy(\"prediction\", ascending=False).limit(num_rec).select(\"ISBN_index\", \"prediction\")\n",
    "\n",
    "    # convert index back to original ISBN\n",
    "    print(\"Predicted Recommended Books for the user with the Original ISBN :\")\n",
    "    converter = IndexToString(inputCol=\"ISBN_index\", outputCol=\"original_ISBN\")\n",
    "    converted = converter.transform(predictions)\n",
    "    converted.show()"
   ]
  },
  {
   "cell_type": "code",
   "execution_count": 18,
   "metadata": {},
   "outputs": [
    {
     "name": "stdout",
     "output_type": "stream",
     "text": [
      "Results of distinct books from the selected user :\n",
      "+----------+------------+\n",
      "|ISBN_index|userID_index|\n",
      "+----------+------------+\n",
      "|    5547.0|        3207|\n",
      "|  102800.0|        3207|\n",
      "|   98687.0|        3207|\n",
      "|   94472.0|        3207|\n",
      "|   96814.0|        3207|\n",
      "+----------+------------+\n",
      "only showing top 5 rows\n",
      "\n",
      "Predicted Recommended Books for the user with the Original ISBN :\n",
      "+----------+----------+-------------+\n",
      "|ISBN_index|prediction|original_ISBN|\n",
      "+----------+----------+-------------+\n",
      "|   24002.0|  10.40366|   0670829390|\n",
      "|   41441.0|  9.947877|   0783547528|\n",
      "|   46846.0|  9.947877|   0743526279|\n",
      "|  136945.0|  9.947877|   0671432672|\n",
      "|  121820.0|  9.947877|   0895860775|\n",
      "|   63469.0|  9.947877|   0793820103|\n",
      "|   44687.0|  9.947877|   042509345X|\n",
      "|   14704.0|  9.947877|   0671827847|\n",
      "|    7072.0|  9.947877|   0843950463|\n",
      "|  141471.0|  9.947877|   0843122749|\n",
      "+----------+----------+-------------+\n",
      "\n"
     ]
    }
   ],
   "source": [
    "#  random picked user from dataset of userID_index:3207 and display 10 book recommendations for the user\n",
    "recommendBooks(model,3207,10)"
   ]
  },
  {
   "cell_type": "markdown",
   "metadata": {},
   "source": [
    "### Prediction Visualization"
   ]
  },
  {
   "cell_type": "markdown",
   "metadata": {},
   "source": [
    "Plot to compare the true and predicted ratings."
   ]
  },
  {
   "cell_type": "code",
   "execution_count": 19,
   "metadata": {},
   "outputs": [
    {
     "data": {
      "image/png": "[encoded data removed]",
      "text/plain": [
       "<Figure size 720x576 with 1 Axes>"
      ]
     },
     "metadata": {
      "needs_background": "light"
     },
     "output_type": "display_data"
    }
   ],
   "source": [
    "# plot predictions\n",
    "\n",
    "df = predictions.toPandas()\n",
    "x = np.arange(0.5, 10.1, 0.5) \n",
    "fig = plt.figure(figsize=(10,8))\n",
    "plt.tick_params(labelsize=15)\n",
    "plt.scatter(df.rating, df.prediction, s = 10, alpha = 0.2)\n",
    "plt.plot(x, x, c = 'r')\n",
    "plt.xlabel('rating', fontsize=20)\n",
    "plt.ylabel('prediction', fontsize=20)\n",
    "plt.title('Predictions', fontsize=20)\n",
    "plt.show()"
   ]
  },
  {
   "cell_type": "markdown",
   "metadata": {},
   "source": [
    "We can see from the plot, the predictions from the model were fairly not bad."
   ]
  },
  {
   "cell_type": "markdown",
   "metadata": {},
   "source": [
    "## Conclusions and Future Steps\n"
   ]
  },
  {
   "cell_type": "markdown",
   "metadata": {},
   "source": [
    "In this project we were able to build a book recommender that could predict books for users. We have also used the ALS colaborative filtering method and have seen, the model works fairly okay, but not as good as I expected it according to the RMSE, probably also due to the fact that we didnt use the complete large dataset, which would have given better results. We have made use of only 3 columns in the dataset, namely  \"user ID\", \"ISBN\", and \"rating\". We also discovered that the matrix factorization way can help solve the popular bias and user/item cold-start problems in collaborative filtering.\n",
    "\n",
    "A limit is that we could not use all the data as I wanted, but had to take a portion of it for training because of limitations with computing power.\n",
    "\n",
    "In future, to do more anaylsis with the dataset and work with more variables (columns) such as country etc and use other machine learning algorithms for training such as SVM etc to build better model or compare against.\n",
    "\n",
    "Also use this model and develop a userfriendly frontend application to recommend books to new and old users. "
   ]
  },
  {
   "cell_type": "code",
   "execution_count": null,
   "metadata": {},
   "outputs": [],
   "source": []
  }
 ],
 "metadata": {
  "kernelspec": {
   "display_name": "Python 3",
   "language": "python",
   "name": "python3"
  },
  "language_info": {
   "codemirror_mode": {
    "name": "ipython",
    "version": 3
   },
   "file_extension": ".py",
   "mimetype": "text/x-python",
   "name": "python",
   "nbconvert_exporter": "python",
   "pygments_lexer": "ipython3",
   "version": "3.7.3"
  }
 },
 "nbformat": 4,
 "nbformat_minor": 2
}
