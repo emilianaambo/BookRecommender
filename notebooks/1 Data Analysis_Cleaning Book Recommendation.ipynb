{
 "cells": [
  {
   "cell_type": "markdown",
   "metadata": {},
   "source": [
    "# Data Analysis/Cleaning"
   ]
  },
  {
   "cell_type": "code",
   "execution_count": null,
   "metadata": {},
   "outputs": [],
   "source": [
    "# install required libraries \n",
    "!pip install pandas==0.25.1\n",
    "!pip install numpy==1.17.3\n",
    "!pip install matplotlib==3.1.2\n",
    "!pip install seaborn==0.10.0"
   ]
  },
  {
   "cell_type": "code",
   "execution_count": 1,
   "metadata": {},
   "outputs": [],
   "source": [
    "import pandas as pd\n",
    "import numpy as np\n",
    "import warnings\n",
    "warnings.filterwarnings('ignore') \n",
    "import matplotlib.pyplot as plt\n",
    "import seaborn as sns\n",
    "\n",
    "%matplotlib inline"
   ]
  },
  {
   "cell_type": "code",
   "execution_count": 2,
   "metadata": {},
   "outputs": [],
   "source": [
    "plt.rcParams['figure.figsize'] = (10, 10)"
   ]
  },
  {
   "cell_type": "code",
   "execution_count": 3,
   "metadata": {},
   "outputs": [
    {
     "name": "stderr",
     "output_type": "stream",
     "text": [
      "b'Skipping line 6452: expected 8 fields, saw 9\\nSkipping line 43667: expected 8 fields, saw 10\\nSkipping line 51751: expected 8 fields, saw 9\\n'\n",
      "b'Skipping line 92038: expected 8 fields, saw 9\\nSkipping line 104319: expected 8 fields, saw 9\\nSkipping line 121768: expected 8 fields, saw 9\\n'\n",
      "b'Skipping line 144058: expected 8 fields, saw 9\\nSkipping line 150789: expected 8 fields, saw 9\\nSkipping line 157128: expected 8 fields, saw 9\\nSkipping line 180189: expected 8 fields, saw 9\\nSkipping line 185738: expected 8 fields, saw 9\\n'\n",
      "b'Skipping line 209388: expected 8 fields, saw 9\\nSkipping line 220626: expected 8 fields, saw 9\\nSkipping line 227933: expected 8 fields, saw 11\\nSkipping line 228957: expected 8 fields, saw 10\\nSkipping line 245933: expected 8 fields, saw 9\\nSkipping line 251296: expected 8 fields, saw 9\\nSkipping line 259941: expected 8 fields, saw 9\\nSkipping line 261529: expected 8 fields, saw 9\\n'\n"
     ]
    }
   ],
   "source": [
    "# Reading the csv files\n",
    "dfbooks=pd.read_csv('../data/raw/BX-Books.csv', sep=';', error_bad_lines=False, encoding=\"latin-1\")\n",
    "dfbooks.columns = ['ISBN', 'title', 'author', 'yearOfPublication', 'publisher', 'imageUrlS', 'imageUrlM', 'imageUrlL']\n",
    "dfusers=pd.read_csv('../data/raw/BX-Users.csv', sep=';', error_bad_lines=False, encoding=\"latin-1\")\n",
    "dfusers.columns = ['userID', 'location', 'age']\n",
    "dfratings= pd.read_csv('../data/raw/BX-Book-Ratings.csv', sep=';', error_bad_lines=False, encoding=\"latin-1\")\n",
    "dfratings.columns = ['userID', 'ISBN', 'rating']"
   ]
  },
  {
   "cell_type": "code",
   "execution_count": 4,
   "metadata": {},
   "outputs": [
    {
     "data": {
      "text/html": [
       "<div>\n",
       "<style scoped>\n",
       "    .dataframe tbody tr th:only-of-type {\n",
       "        vertical-align: middle;\n",
       "    }\n",
       "\n",
       "    .dataframe tbody tr th {\n",
       "        vertical-align: top;\n",
       "    }\n",
       "\n",
       "    .dataframe thead th {\n",
       "        text-align: right;\n",
       "    }\n",
       "</style>\n",
       "<table border=\"1\" class=\"dataframe\">\n",
       "  <thead>\n",
       "    <tr style=\"text-align: right;\">\n",
       "      <th></th>\n",
       "      <th>ISBN</th>\n",
       "      <th>title</th>\n",
       "      <th>author</th>\n",
       "      <th>yearOfPublication</th>\n",
       "      <th>publisher</th>\n",
       "      <th>imageUrlS</th>\n",
       "      <th>imageUrlM</th>\n",
       "      <th>imageUrlL</th>\n",
       "    </tr>\n",
       "  </thead>\n",
       "  <tbody>\n",
       "    <tr>\n",
       "      <th>68212</th>\n",
       "      <td>0802491618</td>\n",
       "      <td>Women Leaving the Workplace: How to Make the T...</td>\n",
       "      <td>Larry Burkett</td>\n",
       "      <td>1995</td>\n",
       "      <td>Moody Pr</td>\n",
       "      <td>http://images.amazon.com/images/P/0802491618.0...</td>\n",
       "      <td>http://images.amazon.com/images/P/0802491618.0...</td>\n",
       "      <td>http://images.amazon.com/images/P/0802491618.0...</td>\n",
       "    </tr>\n",
       "    <tr>\n",
       "      <th>133444</th>\n",
       "      <td>1556617313</td>\n",
       "      <td>Red Sky in Mourning: Helen Bradley Mysteries (...</td>\n",
       "      <td>Patricia H. Rushford</td>\n",
       "      <td>1997</td>\n",
       "      <td>Bethany House Publishers</td>\n",
       "      <td>http://images.amazon.com/images/P/1556617313.0...</td>\n",
       "      <td>http://images.amazon.com/images/P/1556617313.0...</td>\n",
       "      <td>http://images.amazon.com/images/P/1556617313.0...</td>\n",
       "    </tr>\n",
       "    <tr>\n",
       "      <th>193511</th>\n",
       "      <td>0816022186</td>\n",
       "      <td>The Cultural Atlas of Mesopotamia and the Anci...</td>\n",
       "      <td>Michael Roaf</td>\n",
       "      <td>1990</td>\n",
       "      <td>Facts on File</td>\n",
       "      <td>http://images.amazon.com/images/P/0816022186.0...</td>\n",
       "      <td>http://images.amazon.com/images/P/0816022186.0...</td>\n",
       "      <td>http://images.amazon.com/images/P/0816022186.0...</td>\n",
       "    </tr>\n",
       "    <tr>\n",
       "      <th>181440</th>\n",
       "      <td>0571147267</td>\n",
       "      <td>Selling Hitler</td>\n",
       "      <td>Robert Harris</td>\n",
       "      <td>0</td>\n",
       "      <td>Faber Faber Inc</td>\n",
       "      <td>http://images.amazon.com/images/P/0571147267.0...</td>\n",
       "      <td>http://images.amazon.com/images/P/0571147267.0...</td>\n",
       "      <td>http://images.amazon.com/images/P/0571147267.0...</td>\n",
       "    </tr>\n",
       "    <tr>\n",
       "      <th>246030</th>\n",
       "      <td>039444826X</td>\n",
       "      <td>Tent of miracles</td>\n",
       "      <td>Jorge Amado</td>\n",
       "      <td>1971</td>\n",
       "      <td>Knopf</td>\n",
       "      <td>http://images.amazon.com/images/P/039444826X.0...</td>\n",
       "      <td>http://images.amazon.com/images/P/039444826X.0...</td>\n",
       "      <td>http://images.amazon.com/images/P/039444826X.0...</td>\n",
       "    </tr>\n",
       "  </tbody>\n",
       "</table>\n",
       "</div>"
      ],
      "text/plain": [
       "              ISBN                                              title  \\\n",
       "68212   0802491618  Women Leaving the Workplace: How to Make the T...   \n",
       "133444  1556617313  Red Sky in Mourning: Helen Bradley Mysteries (...   \n",
       "193511  0816022186  The Cultural Atlas of Mesopotamia and the Anci...   \n",
       "181440  0571147267                                     Selling Hitler   \n",
       "246030  039444826X                                   Tent of miracles   \n",
       "\n",
       "                      author yearOfPublication                 publisher  \\\n",
       "68212          Larry Burkett              1995                  Moody Pr   \n",
       "133444  Patricia H. Rushford              1997  Bethany House Publishers   \n",
       "193511          Michael Roaf              1990             Facts on File   \n",
       "181440         Robert Harris                 0           Faber Faber Inc   \n",
       "246030           Jorge Amado              1971                     Knopf   \n",
       "\n",
       "                                                imageUrlS  \\\n",
       "68212   http://images.amazon.com/images/P/0802491618.0...   \n",
       "133444  http://images.amazon.com/images/P/1556617313.0...   \n",
       "193511  http://images.amazon.com/images/P/0816022186.0...   \n",
       "181440  http://images.amazon.com/images/P/0571147267.0...   \n",
       "246030  http://images.amazon.com/images/P/039444826X.0...   \n",
       "\n",
       "                                                imageUrlM  \\\n",
       "68212   http://images.amazon.com/images/P/0802491618.0...   \n",
       "133444  http://images.amazon.com/images/P/1556617313.0...   \n",
       "193511  http://images.amazon.com/images/P/0816022186.0...   \n",
       "181440  http://images.amazon.com/images/P/0571147267.0...   \n",
       "246030  http://images.amazon.com/images/P/039444826X.0...   \n",
       "\n",
       "                                                imageUrlL  \n",
       "68212   http://images.amazon.com/images/P/0802491618.0...  \n",
       "133444  http://images.amazon.com/images/P/1556617313.0...  \n",
       "193511  http://images.amazon.com/images/P/0816022186.0...  \n",
       "181440  http://images.amazon.com/images/P/0571147267.0...  \n",
       "246030  http://images.amazon.com/images/P/039444826X.0...  "
      ]
     },
     "execution_count": 4,
     "metadata": {},
     "output_type": "execute_result"
    }
   ],
   "source": [
    "# view the 5 random records from a books dataframe to see how the data is \n",
    "dfbooks.sample(5)"
   ]
  },
  {
   "cell_type": "code",
   "execution_count": 5,
   "metadata": {},
   "outputs": [
    {
     "data": {
      "text/html": [
       "<div>\n",
       "<style scoped>\n",
       "    .dataframe tbody tr th:only-of-type {\n",
       "        vertical-align: middle;\n",
       "    }\n",
       "\n",
       "    .dataframe tbody tr th {\n",
       "        vertical-align: top;\n",
       "    }\n",
       "\n",
       "    .dataframe thead th {\n",
       "        text-align: right;\n",
       "    }\n",
       "</style>\n",
       "<table border=\"1\" class=\"dataframe\">\n",
       "  <thead>\n",
       "    <tr style=\"text-align: right;\">\n",
       "      <th></th>\n",
       "      <th>userID</th>\n",
       "      <th>ISBN</th>\n",
       "      <th>rating</th>\n",
       "    </tr>\n",
       "  </thead>\n",
       "  <tbody>\n",
       "    <tr>\n",
       "      <th>1045467</th>\n",
       "      <td>250163</td>\n",
       "      <td>0743411218</td>\n",
       "      <td>0</td>\n",
       "    </tr>\n",
       "    <tr>\n",
       "      <th>465320</th>\n",
       "      <td>110973</td>\n",
       "      <td>0965605914</td>\n",
       "      <td>9</td>\n",
       "    </tr>\n",
       "    <tr>\n",
       "      <th>906439</th>\n",
       "      <td>219973</td>\n",
       "      <td>880639990X</td>\n",
       "      <td>10</td>\n",
       "    </tr>\n",
       "    <tr>\n",
       "      <th>332568</th>\n",
       "      <td>78973</td>\n",
       "      <td>0375504613</td>\n",
       "      <td>7</td>\n",
       "    </tr>\n",
       "    <tr>\n",
       "      <th>91827</th>\n",
       "      <td>20427</td>\n",
       "      <td>3150000734</td>\n",
       "      <td>9</td>\n",
       "    </tr>\n",
       "  </tbody>\n",
       "</table>\n",
       "</div>"
      ],
      "text/plain": [
       "         userID        ISBN  rating\n",
       "1045467  250163  0743411218       0\n",
       "465320   110973  0965605914       9\n",
       "906439   219973  880639990X      10\n",
       "332568    78973  0375504613       7\n",
       "91827     20427  3150000734       9"
      ]
     },
     "execution_count": 5,
     "metadata": {},
     "output_type": "execute_result"
    }
   ],
   "source": [
    "# view the 5 random records from a ratings dataframe to see how the data is \n",
    "dfratings.sample(5)"
   ]
  },
  {
   "cell_type": "code",
   "execution_count": 6,
   "metadata": {},
   "outputs": [
    {
     "data": {
      "text/html": [
       "<div>\n",
       "<style scoped>\n",
       "    .dataframe tbody tr th:only-of-type {\n",
       "        vertical-align: middle;\n",
       "    }\n",
       "\n",
       "    .dataframe tbody tr th {\n",
       "        vertical-align: top;\n",
       "    }\n",
       "\n",
       "    .dataframe thead th {\n",
       "        text-align: right;\n",
       "    }\n",
       "</style>\n",
       "<table border=\"1\" class=\"dataframe\">\n",
       "  <thead>\n",
       "    <tr style=\"text-align: right;\">\n",
       "      <th></th>\n",
       "      <th>userID</th>\n",
       "      <th>location</th>\n",
       "      <th>age</th>\n",
       "    </tr>\n",
       "  </thead>\n",
       "  <tbody>\n",
       "    <tr>\n",
       "      <th>40529</th>\n",
       "      <td>40530</td>\n",
       "      <td>philadelphia, pennsylvania, usa</td>\n",
       "      <td>37.0</td>\n",
       "    </tr>\n",
       "    <tr>\n",
       "      <th>132633</th>\n",
       "      <td>132634</td>\n",
       "      <td>mieres, asturies, spain</td>\n",
       "      <td>27.0</td>\n",
       "    </tr>\n",
       "    <tr>\n",
       "      <th>173375</th>\n",
       "      <td>173376</td>\n",
       "      <td>atlanta, georgia, usa</td>\n",
       "      <td>NaN</td>\n",
       "    </tr>\n",
       "    <tr>\n",
       "      <th>138270</th>\n",
       "      <td>138271</td>\n",
       "      <td>indianapolis, indiana, usa</td>\n",
       "      <td>NaN</td>\n",
       "    </tr>\n",
       "    <tr>\n",
       "      <th>55773</th>\n",
       "      <td>55774</td>\n",
       "      <td>carp, ontario, canada</td>\n",
       "      <td>NaN</td>\n",
       "    </tr>\n",
       "  </tbody>\n",
       "</table>\n",
       "</div>"
      ],
      "text/plain": [
       "        userID                         location   age\n",
       "40529    40530  philadelphia, pennsylvania, usa  37.0\n",
       "132633  132634          mieres, asturies, spain  27.0\n",
       "173375  173376            atlanta, georgia, usa   NaN\n",
       "138270  138271       indianapolis, indiana, usa   NaN\n",
       "55773    55774            carp, ontario, canada   NaN"
      ]
     },
     "execution_count": 6,
     "metadata": {},
     "output_type": "execute_result"
    }
   ],
   "source": [
    "# view the 5 random records from a users dataframe to see how the data is \n",
    "dfusers.sample(5)"
   ]
  },
  {
   "cell_type": "code",
   "execution_count": 7,
   "metadata": {},
   "outputs": [
    {
     "name": "stdout",
     "output_type": "stream",
     "text": [
      "(271360, 8)\n",
      "(278858, 3)\n",
      "(1149780, 3)\n"
     ]
    }
   ],
   "source": [
    "# viewing the shapes of the different datasets\n",
    "print(dfbooks.shape)\n",
    "print(dfusers.shape)\n",
    "print(dfratings.shape)"
   ]
  },
  {
   "cell_type": "markdown",
   "metadata": {},
   "source": [
    "## Users Dataset"
   ]
  },
  {
   "cell_type": "code",
   "execution_count": 8,
   "metadata": {},
   "outputs": [
    {
     "data": {
      "text/plain": [
       "Index(['userID', 'location', 'age'], dtype='object')"
      ]
     },
     "execution_count": 8,
     "metadata": {},
     "output_type": "execute_result"
    }
   ],
   "source": [
    "# viewing columns in Users dataframe\n",
    "dfusers.columns"
   ]
  },
  {
   "cell_type": "code",
   "execution_count": 9,
   "metadata": {},
   "outputs": [
    {
     "name": "stdout",
     "output_type": "stream",
     "text": [
      "<class 'pandas.core.frame.DataFrame'>\n",
      "RangeIndex: 278858 entries, 0 to 278857\n",
      "Data columns (total 3 columns):\n",
      "userID      278858 non-null int64\n",
      "location    278858 non-null object\n",
      "age         168096 non-null float64\n",
      "dtypes: float64(1), int64(1), object(1)\n",
      "memory usage: 6.4+ MB\n"
     ]
    }
   ],
   "source": [
    "# checks details for users dataframe using info()\n",
    "dfusers.info()"
   ]
  },
  {
   "cell_type": "code",
   "execution_count": 10,
   "metadata": {},
   "outputs": [
    {
     "data": {
      "text/html": [
       "<div>\n",
       "<style scoped>\n",
       "    .dataframe tbody tr th:only-of-type {\n",
       "        vertical-align: middle;\n",
       "    }\n",
       "\n",
       "    .dataframe tbody tr th {\n",
       "        vertical-align: top;\n",
       "    }\n",
       "\n",
       "    .dataframe thead th {\n",
       "        text-align: right;\n",
       "    }\n",
       "</style>\n",
       "<table border=\"1\" class=\"dataframe\">\n",
       "  <thead>\n",
       "    <tr style=\"text-align: right;\">\n",
       "      <th></th>\n",
       "      <th>userID</th>\n",
       "      <th>location</th>\n",
       "      <th>age</th>\n",
       "    </tr>\n",
       "  </thead>\n",
       "  <tbody>\n",
       "    <tr>\n",
       "      <th>count</th>\n",
       "      <td>278858.00000</td>\n",
       "      <td>278858</td>\n",
       "      <td>168096.000000</td>\n",
       "    </tr>\n",
       "    <tr>\n",
       "      <th>unique</th>\n",
       "      <td>NaN</td>\n",
       "      <td>57339</td>\n",
       "      <td>NaN</td>\n",
       "    </tr>\n",
       "    <tr>\n",
       "      <th>top</th>\n",
       "      <td>NaN</td>\n",
       "      <td>london, england, united kingdom</td>\n",
       "      <td>NaN</td>\n",
       "    </tr>\n",
       "    <tr>\n",
       "      <th>freq</th>\n",
       "      <td>NaN</td>\n",
       "      <td>2506</td>\n",
       "      <td>NaN</td>\n",
       "    </tr>\n",
       "    <tr>\n",
       "      <th>mean</th>\n",
       "      <td>139429.50000</td>\n",
       "      <td>NaN</td>\n",
       "      <td>34.751434</td>\n",
       "    </tr>\n",
       "    <tr>\n",
       "      <th>std</th>\n",
       "      <td>80499.51502</td>\n",
       "      <td>NaN</td>\n",
       "      <td>14.428097</td>\n",
       "    </tr>\n",
       "    <tr>\n",
       "      <th>min</th>\n",
       "      <td>1.00000</td>\n",
       "      <td>NaN</td>\n",
       "      <td>0.000000</td>\n",
       "    </tr>\n",
       "    <tr>\n",
       "      <th>25%</th>\n",
       "      <td>69715.25000</td>\n",
       "      <td>NaN</td>\n",
       "      <td>24.000000</td>\n",
       "    </tr>\n",
       "    <tr>\n",
       "      <th>50%</th>\n",
       "      <td>139429.50000</td>\n",
       "      <td>NaN</td>\n",
       "      <td>32.000000</td>\n",
       "    </tr>\n",
       "    <tr>\n",
       "      <th>75%</th>\n",
       "      <td>209143.75000</td>\n",
       "      <td>NaN</td>\n",
       "      <td>44.000000</td>\n",
       "    </tr>\n",
       "    <tr>\n",
       "      <th>max</th>\n",
       "      <td>278858.00000</td>\n",
       "      <td>NaN</td>\n",
       "      <td>244.000000</td>\n",
       "    </tr>\n",
       "  </tbody>\n",
       "</table>\n",
       "</div>"
      ],
      "text/plain": [
       "              userID                         location            age\n",
       "count   278858.00000                           278858  168096.000000\n",
       "unique           NaN                            57339            NaN\n",
       "top              NaN  london, england, united kingdom            NaN\n",
       "freq             NaN                             2506            NaN\n",
       "mean    139429.50000                              NaN      34.751434\n",
       "std      80499.51502                              NaN      14.428097\n",
       "min          1.00000                              NaN       0.000000\n",
       "25%      69715.25000                              NaN      24.000000\n",
       "50%     139429.50000                              NaN      32.000000\n",
       "75%     209143.75000                              NaN      44.000000\n",
       "max     278858.00000                              NaN     244.000000"
      ]
     },
     "execution_count": 10,
     "metadata": {},
     "output_type": "execute_result"
    }
   ],
   "source": [
    "# Viewing a description of all columns of Users dataframe  \n",
    "dfusers.describe(include='all')"
   ]
  },
  {
   "cell_type": "code",
   "execution_count": 11,
   "metadata": {},
   "outputs": [
    {
     "data": {
      "text/plain": [
       "userID      278858\n",
       "location    278858\n",
       "age         168096\n",
       "dtype: int64"
      ]
     },
     "execution_count": 11,
     "metadata": {},
     "output_type": "execute_result"
    }
   ],
   "source": [
    "# viewing count of records in each column\n",
    "dfusers.count()"
   ]
  },
  {
   "cell_type": "code",
   "execution_count": 12,
   "metadata": {},
   "outputs": [
    {
     "data": {
      "text/plain": [
       "userID           0\n",
       "location         0\n",
       "age         110762\n",
       "dtype: int64"
      ]
     },
     "execution_count": 12,
     "metadata": {},
     "output_type": "execute_result"
    }
   ],
   "source": [
    "# Checking for any missing values\n",
    "dfusers.isnull().sum()"
   ]
  },
  {
   "cell_type": "code",
   "execution_count": 13,
   "metadata": {},
   "outputs": [
    {
     "data": {
      "text/plain": [
       "0         False\n",
       "1         False\n",
       "2         False\n",
       "3         False\n",
       "4         False\n",
       "          ...  \n",
       "278853    False\n",
       "278854    False\n",
       "278855    False\n",
       "278856    False\n",
       "278857    False\n",
       "Length: 278858, dtype: bool"
      ]
     },
     "execution_count": 13,
     "metadata": {},
     "output_type": "execute_result"
    }
   ],
   "source": [
    "# Checking for any duplicates\n",
    "dfusers.duplicated()"
   ]
  },
  {
   "cell_type": "markdown",
   "metadata": {},
   "source": [
    "##### Handling outliers with age column"
   ]
  },
  {
   "cell_type": "code",
   "execution_count": 14,
   "metadata": {},
   "outputs": [
    {
     "name": "stdout",
     "output_type": "stream",
     "text": [
      "[nan, 0.0, 1.0, 2.0, 3.0, 4.0, 5.0, 6.0, 7.0, 8.0, 9.0, 10.0, 11.0, 12.0, 13.0, 14.0, 15.0, 16.0, 17.0, 18.0, 19.0, 20.0, 21.0, 22.0, 23.0, 24.0, 25.0, 26.0, 27.0, 28.0, 29.0, 30.0, 31.0, 32.0, 33.0, 34.0, 35.0, 36.0, 37.0, 38.0, 39.0, 40.0, 41.0, 42.0, 43.0, 44.0, 45.0, 46.0, 47.0, 48.0, 49.0, 50.0, 51.0, 52.0, 53.0, 54.0, 55.0, 56.0, 57.0, 58.0, 59.0, 60.0, 61.0, 62.0, 63.0, 64.0, 65.0, 66.0, 67.0, 68.0, 69.0, 70.0, 71.0, 72.0, 73.0, 74.0, 75.0, 76.0, 77.0, 78.0, 79.0, 80.0, 81.0, 82.0, 83.0, 84.0, 85.0, 86.0, 87.0, 88.0, 89.0, 90.0, 91.0, 92.0, 93.0, 94.0, 95.0, 96.0, 97.0, 98.0, 99.0, 100.0, 101.0, 102.0, 103.0, 104.0, 105.0, 106.0, 107.0, 108.0, 109.0, 110.0, 111.0, 113.0, 114.0, 115.0, 116.0, 118.0, 119.0, 123.0, 124.0, 127.0, 128.0, 132.0, 133.0, 136.0, 137.0, 138.0, 140.0, 141.0, 143.0, 146.0, 147.0, 148.0, 151.0, 152.0, 156.0, 157.0, 159.0, 162.0, 168.0, 172.0, 175.0, 183.0, 186.0, 189.0, 199.0, 200.0, 201.0, 204.0, 207.0, 208.0, 209.0, 210.0, 212.0, 219.0, 220.0, 223.0, 226.0, 228.0, 229.0, 230.0, 231.0, 237.0, 239.0, 244.0]\n"
     ]
    }
   ],
   "source": [
    "# checking unique sorted values in the Age column\n",
    "print(sorted(dfusers.age.unique()))"
   ]
  },
  {
   "cell_type": "markdown",
   "metadata": {},
   "source": [
    "If we inspect closely the results,there is a discovery of data entries that are invalid like for example 0, ages less than 10 (I believe 10 will be a perfect age for child to probably rate books) and nan including bigger numbers more than 100 like 220 etc and we all know that all those are ridiculous numbers for age."
   ]
  },
  {
   "cell_type": "markdown",
   "metadata": {},
   "source": [
    "Next, I will handle the invalid entries as follows: I will set the age values that are less than 10 and values that are more than 100 to NaN."
   ]
  },
  {
   "cell_type": "code",
   "execution_count": 15,
   "metadata": {
    "scrolled": true
   },
   "outputs": [
    {
     "data": {
      "text/html": [
       "<div>\n",
       "<style scoped>\n",
       "    .dataframe tbody tr th:only-of-type {\n",
       "        vertical-align: middle;\n",
       "    }\n",
       "\n",
       "    .dataframe tbody tr th {\n",
       "        vertical-align: top;\n",
       "    }\n",
       "\n",
       "    .dataframe thead th {\n",
       "        text-align: right;\n",
       "    }\n",
       "</style>\n",
       "<table border=\"1\" class=\"dataframe\">\n",
       "  <thead>\n",
       "    <tr style=\"text-align: right;\">\n",
       "      <th></th>\n",
       "      <th>userID</th>\n",
       "      <th>location</th>\n",
       "      <th>age</th>\n",
       "    </tr>\n",
       "  </thead>\n",
       "  <tbody>\n",
       "    <tr>\n",
       "      <th>0</th>\n",
       "      <td>1</td>\n",
       "      <td>nyc, new york, usa</td>\n",
       "      <td>NaN</td>\n",
       "    </tr>\n",
       "    <tr>\n",
       "      <th>1</th>\n",
       "      <td>2</td>\n",
       "      <td>stockton, california, usa</td>\n",
       "      <td>18.0</td>\n",
       "    </tr>\n",
       "    <tr>\n",
       "      <th>2</th>\n",
       "      <td>3</td>\n",
       "      <td>moscow, yukon territory, russia</td>\n",
       "      <td>NaN</td>\n",
       "    </tr>\n",
       "    <tr>\n",
       "      <th>3</th>\n",
       "      <td>4</td>\n",
       "      <td>porto, v.n.gaia, portugal</td>\n",
       "      <td>17.0</td>\n",
       "    </tr>\n",
       "    <tr>\n",
       "      <th>4</th>\n",
       "      <td>5</td>\n",
       "      <td>farnborough, hants, united kingdom</td>\n",
       "      <td>NaN</td>\n",
       "    </tr>\n",
       "  </tbody>\n",
       "</table>\n",
       "</div>"
      ],
      "text/plain": [
       "   userID                            location   age\n",
       "0       1                  nyc, new york, usa   NaN\n",
       "1       2           stockton, california, usa  18.0\n",
       "2       3     moscow, yukon territory, russia   NaN\n",
       "3       4           porto, v.n.gaia, portugal  17.0\n",
       "4       5  farnborough, hants, united kingdom   NaN"
      ]
     },
     "execution_count": 15,
     "metadata": {},
     "output_type": "execute_result"
    }
   ],
   "source": [
    "# Setting the invalid age entries to NaN\n",
    "\n",
    "dfusers.loc[(dfusers.age < 10), 'age'] = np.nan\n",
    "dfusers.loc[(dfusers.age > 100), 'age'] = np.nan\n",
    "dfusers.head()"
   ]
  },
  {
   "cell_type": "markdown",
   "metadata": {},
   "source": [
    "To change the age column to int datatype, we will have to convert to convert NaNs to number values so in this case we use the mean of age column to replace them with."
   ]
  },
  {
   "cell_type": "code",
   "execution_count": 16,
   "metadata": {},
   "outputs": [
    {
     "data": {
      "text/html": [
       "<div>\n",
       "<style scoped>\n",
       "    .dataframe tbody tr th:only-of-type {\n",
       "        vertical-align: middle;\n",
       "    }\n",
       "\n",
       "    .dataframe tbody tr th {\n",
       "        vertical-align: top;\n",
       "    }\n",
       "\n",
       "    .dataframe thead th {\n",
       "        text-align: right;\n",
       "    }\n",
       "</style>\n",
       "<table border=\"1\" class=\"dataframe\">\n",
       "  <thead>\n",
       "    <tr style=\"text-align: right;\">\n",
       "      <th></th>\n",
       "      <th>userID</th>\n",
       "      <th>location</th>\n",
       "      <th>age</th>\n",
       "    </tr>\n",
       "  </thead>\n",
       "  <tbody>\n",
       "    <tr>\n",
       "      <th>0</th>\n",
       "      <td>1</td>\n",
       "      <td>nyc, new york, usa</td>\n",
       "      <td>34.777122</td>\n",
       "    </tr>\n",
       "    <tr>\n",
       "      <th>1</th>\n",
       "      <td>2</td>\n",
       "      <td>stockton, california, usa</td>\n",
       "      <td>18.000000</td>\n",
       "    </tr>\n",
       "    <tr>\n",
       "      <th>2</th>\n",
       "      <td>3</td>\n",
       "      <td>moscow, yukon territory, russia</td>\n",
       "      <td>34.777122</td>\n",
       "    </tr>\n",
       "    <tr>\n",
       "      <th>3</th>\n",
       "      <td>4</td>\n",
       "      <td>porto, v.n.gaia, portugal</td>\n",
       "      <td>17.000000</td>\n",
       "    </tr>\n",
       "    <tr>\n",
       "      <th>4</th>\n",
       "      <td>5</td>\n",
       "      <td>farnborough, hants, united kingdom</td>\n",
       "      <td>34.777122</td>\n",
       "    </tr>\n",
       "  </tbody>\n",
       "</table>\n",
       "</div>"
      ],
      "text/plain": [
       "   userID                            location        age\n",
       "0       1                  nyc, new york, usa  34.777122\n",
       "1       2           stockton, california, usa  18.000000\n",
       "2       3     moscow, yukon territory, russia  34.777122\n",
       "3       4           porto, v.n.gaia, portugal  17.000000\n",
       "4       5  farnborough, hants, united kingdom  34.777122"
      ]
     },
     "execution_count": 16,
     "metadata": {},
     "output_type": "execute_result"
    }
   ],
   "source": [
    "# We replace the NaN with mean Age values\n",
    "dfusers.age = dfusers.age.fillna(dfusers.age.mean())\n",
    "dfusers.head()"
   ]
  },
  {
   "cell_type": "markdown",
   "metadata": {},
   "source": [
    "We can see the mean value is 34 which I believe is fairly a good age."
   ]
  },
  {
   "cell_type": "code",
   "execution_count": 17,
   "metadata": {},
   "outputs": [
    {
     "data": {
      "text/plain": [
       "0"
      ]
     },
     "execution_count": 17,
     "metadata": {},
     "output_type": "execute_result"
    }
   ],
   "source": [
    "# Confirming if there are no NaNs present\n",
    "dfusers.age.isnull().sum()"
   ]
  },
  {
   "cell_type": "markdown",
   "metadata": {},
   "source": [
    "Finally we convert our Age column to Int."
   ]
  },
  {
   "cell_type": "code",
   "execution_count": 18,
   "metadata": {},
   "outputs": [
    {
     "name": "stdout",
     "output_type": "stream",
     "text": [
      "<class 'pandas.core.frame.DataFrame'>\n",
      "RangeIndex: 278858 entries, 0 to 278857\n",
      "Data columns (total 3 columns):\n",
      "userID      278858 non-null int64\n",
      "location    278858 non-null object\n",
      "age         278858 non-null int32\n",
      "dtypes: int32(1), int64(1), object(1)\n",
      "memory usage: 5.3+ MB\n"
     ]
    }
   ],
   "source": [
    "# converting data type from float to int\n",
    "dfusers.age = dfusers.age.astype(np.int32)\n",
    "dfusers.info()"
   ]
  },
  {
   "cell_type": "code",
   "execution_count": 19,
   "metadata": {},
   "outputs": [],
   "source": [
    "# Splitting the Location column to city, state and country\n",
    "user_location_split = dfusers.location.str.split(',', 2, expand=True)\n",
    "user_location_split.columns = ['city', 'state', 'country']\n",
    "dfusers = dfusers.join(user_location_split)"
   ]
  },
  {
   "cell_type": "code",
   "execution_count": 20,
   "metadata": {},
   "outputs": [
    {
     "name": "stdout",
     "output_type": "stream",
     "text": [
      "List of 10 cities with the most users who rated are: london       4105\n",
      "barcelona    2664\n",
      "toronto      2342\n",
      "madrid       1933\n",
      "sydney       1884\n",
      "portland     1869\n",
      "melbourne    1863\n",
      "vancouver    1699\n",
      "chicago      1566\n",
      "seattle      1541\n",
      "Name: city, dtype: int64\n"
     ]
    }
   ],
   "source": [
    "# get a list of top cities with users who rated\n",
    "cities_most_users = dfusers.city.value_counts()[:10]\n",
    "print('List of 10 cities with the most users who rated are:' ,cities_most_users)"
   ]
  },
  {
   "cell_type": "code",
   "execution_count": 21,
   "metadata": {},
   "outputs": [
    {
     "data": {
      "text/html": [
       "<div>\n",
       "<style scoped>\n",
       "    .dataframe tbody tr th:only-of-type {\n",
       "        vertical-align: middle;\n",
       "    }\n",
       "\n",
       "    .dataframe tbody tr th {\n",
       "        vertical-align: top;\n",
       "    }\n",
       "\n",
       "    .dataframe thead th {\n",
       "        text-align: right;\n",
       "    }\n",
       "</style>\n",
       "<table border=\"1\" class=\"dataframe\">\n",
       "  <thead>\n",
       "    <tr style=\"text-align: right;\">\n",
       "      <th></th>\n",
       "      <th>userID</th>\n",
       "      <th>age</th>\n",
       "      <th>country</th>\n",
       "    </tr>\n",
       "  </thead>\n",
       "  <tbody>\n",
       "    <tr>\n",
       "      <th>164743</th>\n",
       "      <td>164744</td>\n",
       "      <td>32</td>\n",
       "      <td>france</td>\n",
       "    </tr>\n",
       "    <tr>\n",
       "      <th>243455</th>\n",
       "      <td>243456</td>\n",
       "      <td>35</td>\n",
       "      <td>spain</td>\n",
       "    </tr>\n",
       "    <tr>\n",
       "      <th>46323</th>\n",
       "      <td>46324</td>\n",
       "      <td>34</td>\n",
       "      <td>usa</td>\n",
       "    </tr>\n",
       "    <tr>\n",
       "      <th>206408</th>\n",
       "      <td>206409</td>\n",
       "      <td>34</td>\n",
       "      <td>burkina faso</td>\n",
       "    </tr>\n",
       "    <tr>\n",
       "      <th>127287</th>\n",
       "      <td>127288</td>\n",
       "      <td>26</td>\n",
       "      <td>united kingdom</td>\n",
       "    </tr>\n",
       "  </tbody>\n",
       "</table>\n",
       "</div>"
      ],
      "text/plain": [
       "        userID  age          country\n",
       "164743  164744   32           france\n",
       "243455  243456   35            spain\n",
       "46323    46324   34              usa\n",
       "206408  206409   34     burkina faso\n",
       "127287  127288   26   united kingdom"
      ]
     },
     "execution_count": 21,
     "metadata": {},
     "output_type": "execute_result"
    }
   ],
   "source": [
    "# Let's drop the column Location, city and state from users, keeping the country column\n",
    "dfusers.drop(columns=['location','city','state'], inplace=True)\n",
    "dfusers.sample(5)"
   ]
  },
  {
   "cell_type": "markdown",
   "metadata": {},
   "source": [
    "We can see the location has now been split among city, state and country"
   ]
  },
  {
   "cell_type": "code",
   "execution_count": 22,
   "metadata": {},
   "outputs": [
    {
     "data": {
      "text/plain": [
       "array([' usa', ' russia', ' portugal', ..., ' la svizzera', ' hernando',\n",
       "       ' united kingdom.'], dtype=object)"
      ]
     },
     "execution_count": 22,
     "metadata": {},
     "output_type": "execute_result"
    }
   ],
   "source": [
    "# display unique results from country column\n",
    "dfusers.country.unique()"
   ]
  },
  {
   "cell_type": "code",
   "execution_count": 23,
   "metadata": {},
   "outputs": [
    {
     "data": {
      "text/html": [
       "<div>\n",
       "<style scoped>\n",
       "    .dataframe tbody tr th:only-of-type {\n",
       "        vertical-align: middle;\n",
       "    }\n",
       "\n",
       "    .dataframe tbody tr th {\n",
       "        vertical-align: top;\n",
       "    }\n",
       "\n",
       "    .dataframe thead th {\n",
       "        text-align: right;\n",
       "    }\n",
       "</style>\n",
       "<table border=\"1\" class=\"dataframe\">\n",
       "  <thead>\n",
       "    <tr style=\"text-align: right;\">\n",
       "      <th></th>\n",
       "      <th>userID</th>\n",
       "      <th>age</th>\n",
       "      <th>country</th>\n",
       "    </tr>\n",
       "  </thead>\n",
       "  <tbody>\n",
       "    <tr>\n",
       "      <th>278114</th>\n",
       "      <td>278115</td>\n",
       "      <td>34</td>\n",
       "      <td>la svizzera</td>\n",
       "    </tr>\n",
       "  </tbody>\n",
       "</table>\n",
       "</div>"
      ],
      "text/plain": [
       "        userID  age       country\n",
       "278114  278115   34   la svizzera"
      ]
     },
     "execution_count": 23,
     "metadata": {},
     "output_type": "execute_result"
    }
   ],
   "source": [
    "# correcting some country names, like for example la svizzera is Switzerland  \n",
    "dfusers.loc[dfusers.country == ' la svizzera',:]"
   ]
  },
  {
   "cell_type": "code",
   "execution_count": 24,
   "metadata": {},
   "outputs": [
    {
     "data": {
      "text/html": [
       "<div>\n",
       "<style scoped>\n",
       "    .dataframe tbody tr th:only-of-type {\n",
       "        vertical-align: middle;\n",
       "    }\n",
       "\n",
       "    .dataframe tbody tr th {\n",
       "        vertical-align: top;\n",
       "    }\n",
       "\n",
       "    .dataframe thead th {\n",
       "        text-align: right;\n",
       "    }\n",
       "</style>\n",
       "<table border=\"1\" class=\"dataframe\">\n",
       "  <thead>\n",
       "    <tr style=\"text-align: right;\">\n",
       "      <th></th>\n",
       "      <th>userID</th>\n",
       "      <th>age</th>\n",
       "      <th>country</th>\n",
       "    </tr>\n",
       "  </thead>\n",
       "  <tbody>\n",
       "  </tbody>\n",
       "</table>\n",
       "</div>"
      ],
      "text/plain": [
       "Empty DataFrame\n",
       "Columns: [userID, age, country]\n",
       "Index: []"
      ]
     },
     "execution_count": 24,
     "metadata": {},
     "output_type": "execute_result"
    }
   ],
   "source": [
    "#fixing the incorrect data in country columns for\n",
    "dfusers.loc[dfusers.country == 278115,'userID'] = \"switzerland\"\n",
    "dfusers.loc[dfusers.country  == 278115,:]"
   ]
  },
  {
   "cell_type": "code",
   "execution_count": 25,
   "metadata": {},
   "outputs": [],
   "source": [
    "dfusers = dfusers.dropna(how='any',axis=0) "
   ]
  },
  {
   "cell_type": "code",
   "execution_count": 26,
   "metadata": {
    "scrolled": true
   },
   "outputs": [
    {
     "data": {
      "image/png": "[encoded data removed]",
      "text/plain": [
       "<Figure size 720x720 with 1 Axes>"
      ]
     },
     "metadata": {
      "needs_background": "light"
     },
     "output_type": "display_data"
    }
   ],
   "source": [
    "# Plot for Age distribution of users\n",
    "dfusers.age.plot.hist(bins=10)\n",
    "plt.title(\"Distribution of Users' Ages\")\n",
    "plt.ylabel('User Count')\n",
    "plt.xlabel('Age');\n"
   ]
  },
  {
   "cell_type": "markdown",
   "metadata": {},
   "source": [
    "## Books Dataset"
   ]
  },
  {
   "cell_type": "code",
   "execution_count": 27,
   "metadata": {},
   "outputs": [
    {
     "data": {
      "text/plain": [
       "Index(['ISBN', 'title', 'author', 'yearOfPublication', 'publisher',\n",
       "       'imageUrlS', 'imageUrlM', 'imageUrlL'],\n",
       "      dtype='object')"
      ]
     },
     "execution_count": 27,
     "metadata": {},
     "output_type": "execute_result"
    }
   ],
   "source": [
    "# viewing columns in Books dataframe\n",
    "dfbooks.columns"
   ]
  },
  {
   "cell_type": "code",
   "execution_count": 28,
   "metadata": {},
   "outputs": [
    {
     "data": {
      "text/html": [
       "<div>\n",
       "<style scoped>\n",
       "    .dataframe tbody tr th:only-of-type {\n",
       "        vertical-align: middle;\n",
       "    }\n",
       "\n",
       "    .dataframe tbody tr th {\n",
       "        vertical-align: top;\n",
       "    }\n",
       "\n",
       "    .dataframe thead th {\n",
       "        text-align: right;\n",
       "    }\n",
       "</style>\n",
       "<table border=\"1\" class=\"dataframe\">\n",
       "  <thead>\n",
       "    <tr style=\"text-align: right;\">\n",
       "      <th></th>\n",
       "      <th>ISBN</th>\n",
       "      <th>title</th>\n",
       "      <th>author</th>\n",
       "      <th>yearOfPublication</th>\n",
       "      <th>publisher</th>\n",
       "      <th>imageUrlS</th>\n",
       "      <th>imageUrlM</th>\n",
       "      <th>imageUrlL</th>\n",
       "    </tr>\n",
       "  </thead>\n",
       "  <tbody>\n",
       "    <tr>\n",
       "      <th>count</th>\n",
       "      <td>271360</td>\n",
       "      <td>271360</td>\n",
       "      <td>271359</td>\n",
       "      <td>271360</td>\n",
       "      <td>271358</td>\n",
       "      <td>271360</td>\n",
       "      <td>271360</td>\n",
       "      <td>271357</td>\n",
       "    </tr>\n",
       "    <tr>\n",
       "      <th>unique</th>\n",
       "      <td>271360</td>\n",
       "      <td>242135</td>\n",
       "      <td>102023</td>\n",
       "      <td>202</td>\n",
       "      <td>16807</td>\n",
       "      <td>271044</td>\n",
       "      <td>271044</td>\n",
       "      <td>271041</td>\n",
       "    </tr>\n",
       "    <tr>\n",
       "      <th>top</th>\n",
       "      <td>0553288636</td>\n",
       "      <td>Selected Poems</td>\n",
       "      <td>Agatha Christie</td>\n",
       "      <td>2002</td>\n",
       "      <td>Harlequin</td>\n",
       "      <td>http://images.amazon.com/images/P/014027944X.0...</td>\n",
       "      <td>http://images.amazon.com/images/P/091594359X.0...</td>\n",
       "      <td>http://images.amazon.com/images/P/042519597X.0...</td>\n",
       "    </tr>\n",
       "    <tr>\n",
       "      <th>freq</th>\n",
       "      <td>1</td>\n",
       "      <td>27</td>\n",
       "      <td>632</td>\n",
       "      <td>13903</td>\n",
       "      <td>7535</td>\n",
       "      <td>2</td>\n",
       "      <td>2</td>\n",
       "      <td>2</td>\n",
       "    </tr>\n",
       "  </tbody>\n",
       "</table>\n",
       "</div>"
      ],
      "text/plain": [
       "              ISBN           title           author  yearOfPublication  \\\n",
       "count       271360          271360           271359             271360   \n",
       "unique      271360          242135           102023                202   \n",
       "top     0553288636  Selected Poems  Agatha Christie               2002   \n",
       "freq             1              27              632              13903   \n",
       "\n",
       "        publisher                                          imageUrlS  \\\n",
       "count      271358                                             271360   \n",
       "unique      16807                                             271044   \n",
       "top     Harlequin  http://images.amazon.com/images/P/014027944X.0...   \n",
       "freq         7535                                                  2   \n",
       "\n",
       "                                                imageUrlM  \\\n",
       "count                                              271360   \n",
       "unique                                             271044   \n",
       "top     http://images.amazon.com/images/P/091594359X.0...   \n",
       "freq                                                    2   \n",
       "\n",
       "                                                imageUrlL  \n",
       "count                                              271357  \n",
       "unique                                             271041  \n",
       "top     http://images.amazon.com/images/P/042519597X.0...  \n",
       "freq                                                    2  "
      ]
     },
     "execution_count": 28,
     "metadata": {},
     "output_type": "execute_result"
    }
   ],
   "source": [
    "# Viewing a description of  all columns of books dataframe \n",
    "dfbooks.describe(include='all')"
   ]
  },
  {
   "cell_type": "code",
   "execution_count": 29,
   "metadata": {},
   "outputs": [
    {
     "data": {
      "text/plain": [
       "0         False\n",
       "1         False\n",
       "2         False\n",
       "3         False\n",
       "4         False\n",
       "          ...  \n",
       "271355    False\n",
       "271356    False\n",
       "271357    False\n",
       "271358    False\n",
       "271359    False\n",
       "Length: 271360, dtype: bool"
      ]
     },
     "execution_count": 29,
     "metadata": {},
     "output_type": "execute_result"
    }
   ],
   "source": [
    "# Checking for any duplicates\n",
    "dfbooks.duplicated()"
   ]
  },
  {
   "cell_type": "code",
   "execution_count": 30,
   "metadata": {},
   "outputs": [
    {
     "data": {
      "text/plain": [
       "ISBN                 0\n",
       "title                0\n",
       "author               1\n",
       "yearOfPublication    0\n",
       "publisher            2\n",
       "imageUrlS            0\n",
       "imageUrlM            0\n",
       "imageUrlL            3\n",
       "dtype: int64"
      ]
     },
     "execution_count": 30,
     "metadata": {},
     "output_type": "execute_result"
    }
   ],
   "source": [
    "# Checking for any missing values\n",
    "dfbooks.isnull().sum()"
   ]
  },
  {
   "cell_type": "markdown",
   "metadata": {},
   "source": [
    "We can observe that we have missing values in 3 columns: Author, Publisher,and ImageUrlL "
   ]
  },
  {
   "cell_type": "code",
   "execution_count": 31,
   "metadata": {},
   "outputs": [
    {
     "data": {
      "text/plain": [
       "6"
      ]
     },
     "execution_count": 31,
     "metadata": {},
     "output_type": "execute_result"
    }
   ],
   "source": [
    "# Total number of missing values\n",
    "dfbooks.isnull().sum().sum()"
   ]
  },
  {
   "cell_type": "markdown",
   "metadata": {},
   "source": [
    "Here we can see that there are missing values in some columns, this could be because of NAN values present or no values at all"
   ]
  },
  {
   "cell_type": "code",
   "execution_count": 32,
   "metadata": {},
   "outputs": [
    {
     "data": {
      "text/plain": [
       "ISBN                 271360\n",
       "title                271360\n",
       "author               271359\n",
       "yearOfPublication    271360\n",
       "publisher            271358\n",
       "imageUrlS            271360\n",
       "imageUrlM            271360\n",
       "imageUrlL            271357\n",
       "dtype: int64"
      ]
     },
     "execution_count": 32,
     "metadata": {},
     "output_type": "execute_result"
    }
   ],
   "source": [
    "# counting the number of records in each column\n",
    "dfbooks.count()"
   ]
  },
  {
   "cell_type": "markdown",
   "metadata": {},
   "source": [
    "We can see that the total count of the missing values in the books dataframe"
   ]
  },
  {
   "cell_type": "code",
   "execution_count": 33,
   "metadata": {},
   "outputs": [
    {
     "name": "stdout",
     "output_type": "stream",
     "text": [
      "<class 'pandas.core.frame.DataFrame'>\n",
      "RangeIndex: 271360 entries, 0 to 271359\n",
      "Data columns (total 8 columns):\n",
      "ISBN                 271360 non-null object\n",
      "title                271360 non-null object\n",
      "author               271359 non-null object\n",
      "yearOfPublication    271360 non-null object\n",
      "publisher            271358 non-null object\n",
      "imageUrlS            271360 non-null object\n",
      "imageUrlM            271360 non-null object\n",
      "imageUrlL            271357 non-null object\n",
      "dtypes: object(8)\n",
      "memory usage: 16.6+ MB\n"
     ]
    }
   ],
   "source": [
    "# viewing details of dataframe using info()\n",
    "dfbooks.info()"
   ]
  },
  {
   "cell_type": "markdown",
   "metadata": {},
   "source": [
    "We can see that the column:yearOfPublication is of object dataype of which it was supposed to be of int datatype, let's further inspect the data in the columns"
   ]
  },
  {
   "cell_type": "markdown",
   "metadata": {},
   "source": [
    "Let's further view the data present in the yearOfPublication column"
   ]
  },
  {
   "cell_type": "code",
   "execution_count": 34,
   "metadata": {},
   "outputs": [
    {
     "data": {
      "text/plain": [
       "array([2002, 2001, 1991, 1999, 2000, 1993, 1996, 1988, 2004, 1998, 1994,\n",
       "       2003, 1997, 1983, 1979, 1995, 1982, 1985, 1992, 1986, 1978, 1980,\n",
       "       1952, 1987, 1990, 1981, 1989, 1984, 0, 1968, 1961, 1958, 1974,\n",
       "       1976, 1971, 1977, 1975, 1965, 1941, 1970, 1962, 1973, 1972, 1960,\n",
       "       1966, 1920, 1956, 1959, 1953, 1951, 1942, 1963, 1964, 1969, 1954,\n",
       "       1950, 1967, 2005, 1957, 1940, 1937, 1955, 1946, 1936, 1930, 2011,\n",
       "       1925, 1948, 1943, 1947, 1945, 1923, 2020, 1939, 1926, 1938, 2030,\n",
       "       1911, 1904, 1949, 1932, 1928, 1929, 1927, 1931, 1914, 2050, 1934,\n",
       "       1910, 1933, 1902, 1924, 1921, 1900, 2038, 2026, 1944, 1917, 1901,\n",
       "       2010, 1908, 1906, 1935, 1806, 2021, '2000', '1995', '1999', '2004',\n",
       "       '2003', '1990', '1994', '1986', '1989', '2002', '1981', '1993',\n",
       "       '1983', '1982', '1976', '1991', '1977', '1998', '1992', '1996',\n",
       "       '0', '1997', '2001', '1974', '1968', '1987', '1984', '1988',\n",
       "       '1963', '1956', '1970', '1985', '1978', '1973', '1980', '1979',\n",
       "       '1975', '1969', '1961', '1965', '1939', '1958', '1950', '1953',\n",
       "       '1966', '1971', '1959', '1972', '1955', '1957', '1945', '1960',\n",
       "       '1967', '1932', '1924', '1964', '2012', '1911', '1927', '1948',\n",
       "       '1962', '2006', '1952', '1940', '1951', '1931', '1954', '2005',\n",
       "       '1930', '1941', '1944', 'DK Publishing Inc', '1943', '1938',\n",
       "       '1900', '1942', '1923', '1920', '1933', 'Gallimard', '1909',\n",
       "       '1946', '2008', '1378', '2030', '1936', '1947', '2011', '2020',\n",
       "       '1919', '1949', '1922', '1897', '2024', '1376', '1926', '2037'],\n",
       "      dtype=object)"
      ]
     },
     "execution_count": 34,
     "metadata": {},
     "output_type": "execute_result"
    }
   ],
   "source": [
    "# checking unique values of yearOfPublication \n",
    "dfbooks.yearOfPublication.unique()"
   ]
  },
  {
   "cell_type": "markdown",
   "metadata": {},
   "source": [
    "We can observe that some data is not entirely year, but some entries that are words instead of year values."
   ]
  },
  {
   "cell_type": "code",
   "execution_count": 35,
   "metadata": {},
   "outputs": [
    {
     "data": {
      "text/html": [
       "<div>\n",
       "<style scoped>\n",
       "    .dataframe tbody tr th:only-of-type {\n",
       "        vertical-align: middle;\n",
       "    }\n",
       "\n",
       "    .dataframe tbody tr th {\n",
       "        vertical-align: top;\n",
       "    }\n",
       "\n",
       "    .dataframe thead th {\n",
       "        text-align: right;\n",
       "    }\n",
       "</style>\n",
       "<table border=\"1\" class=\"dataframe\">\n",
       "  <thead>\n",
       "    <tr style=\"text-align: right;\">\n",
       "      <th></th>\n",
       "      <th>ISBN</th>\n",
       "      <th>title</th>\n",
       "      <th>author</th>\n",
       "      <th>yearOfPublication</th>\n",
       "      <th>publisher</th>\n",
       "      <th>imageUrlS</th>\n",
       "      <th>imageUrlM</th>\n",
       "      <th>imageUrlL</th>\n",
       "    </tr>\n",
       "  </thead>\n",
       "  <tbody>\n",
       "    <tr>\n",
       "      <th>220731</th>\n",
       "      <td>2070426769</td>\n",
       "      <td>Peuple du ciel, suivi de 'Les Bergers\\\";Jean-M...</td>\n",
       "      <td>2003</td>\n",
       "      <td>Gallimard</td>\n",
       "      <td>http://images.amazon.com/images/P/2070426769.0...</td>\n",
       "      <td>http://images.amazon.com/images/P/2070426769.0...</td>\n",
       "      <td>http://images.amazon.com/images/P/2070426769.0...</td>\n",
       "      <td>NaN</td>\n",
       "    </tr>\n",
       "  </tbody>\n",
       "</table>\n",
       "</div>"
      ],
      "text/plain": [
       "              ISBN                                              title author  \\\n",
       "220731  2070426769  Peuple du ciel, suivi de 'Les Bergers\\\";Jean-M...   2003   \n",
       "\n",
       "       yearOfPublication                                          publisher  \\\n",
       "220731         Gallimard  http://images.amazon.com/images/P/2070426769.0...   \n",
       "\n",
       "                                                imageUrlS  \\\n",
       "220731  http://images.amazon.com/images/P/2070426769.0...   \n",
       "\n",
       "                                                imageUrlM imageUrlL  \n",
       "220731  http://images.amazon.com/images/P/2070426769.0...       NaN  "
      ]
     },
     "execution_count": 35,
     "metadata": {},
     "output_type": "execute_result"
    }
   ],
   "source": [
    "# Let's investigate further in the yearOfPublicationthe column, the row(s) that have \"Gallimard\" \n",
    "dfbooks.loc[dfbooks.yearOfPublication == 'Gallimard',:]"
   ]
  },
  {
   "cell_type": "code",
   "execution_count": 36,
   "metadata": {},
   "outputs": [
    {
     "data": {
      "text/html": [
       "<div>\n",
       "<style scoped>\n",
       "    .dataframe tbody tr th:only-of-type {\n",
       "        vertical-align: middle;\n",
       "    }\n",
       "\n",
       "    .dataframe tbody tr th {\n",
       "        vertical-align: top;\n",
       "    }\n",
       "\n",
       "    .dataframe thead th {\n",
       "        text-align: right;\n",
       "    }\n",
       "</style>\n",
       "<table border=\"1\" class=\"dataframe\">\n",
       "  <thead>\n",
       "    <tr style=\"text-align: right;\">\n",
       "      <th></th>\n",
       "      <th>ISBN</th>\n",
       "      <th>title</th>\n",
       "      <th>author</th>\n",
       "      <th>yearOfPublication</th>\n",
       "      <th>publisher</th>\n",
       "      <th>imageUrlS</th>\n",
       "      <th>imageUrlM</th>\n",
       "      <th>imageUrlL</th>\n",
       "    </tr>\n",
       "  </thead>\n",
       "  <tbody>\n",
       "    <tr>\n",
       "      <th>209538</th>\n",
       "      <td>078946697X</td>\n",
       "      <td>DK Readers: Creating the X-Men, How It All Beg...</td>\n",
       "      <td>2000</td>\n",
       "      <td>DK Publishing Inc</td>\n",
       "      <td>http://images.amazon.com/images/P/078946697X.0...</td>\n",
       "      <td>http://images.amazon.com/images/P/078946697X.0...</td>\n",
       "      <td>http://images.amazon.com/images/P/078946697X.0...</td>\n",
       "      <td>NaN</td>\n",
       "    </tr>\n",
       "    <tr>\n",
       "      <th>221678</th>\n",
       "      <td>0789466953</td>\n",
       "      <td>DK Readers: Creating the X-Men, How Comic Book...</td>\n",
       "      <td>2000</td>\n",
       "      <td>DK Publishing Inc</td>\n",
       "      <td>http://images.amazon.com/images/P/0789466953.0...</td>\n",
       "      <td>http://images.amazon.com/images/P/0789466953.0...</td>\n",
       "      <td>http://images.amazon.com/images/P/0789466953.0...</td>\n",
       "      <td>NaN</td>\n",
       "    </tr>\n",
       "  </tbody>\n",
       "</table>\n",
       "</div>"
      ],
      "text/plain": [
       "              ISBN                                              title author  \\\n",
       "209538  078946697X  DK Readers: Creating the X-Men, How It All Beg...   2000   \n",
       "221678  0789466953  DK Readers: Creating the X-Men, How Comic Book...   2000   \n",
       "\n",
       "        yearOfPublication                                          publisher  \\\n",
       "209538  DK Publishing Inc  http://images.amazon.com/images/P/078946697X.0...   \n",
       "221678  DK Publishing Inc  http://images.amazon.com/images/P/0789466953.0...   \n",
       "\n",
       "                                                imageUrlS  \\\n",
       "209538  http://images.amazon.com/images/P/078946697X.0...   \n",
       "221678  http://images.amazon.com/images/P/0789466953.0...   \n",
       "\n",
       "                                                imageUrlM imageUrlL  \n",
       "209538  http://images.amazon.com/images/P/078946697X.0...       NaN  \n",
       "221678  http://images.amazon.com/images/P/0789466953.0...       NaN  "
      ]
     },
     "execution_count": 36,
     "metadata": {},
     "output_type": "execute_result"
    }
   ],
   "source": [
    "# Let's investigate further in the yearOfPublicationthe column, the row(s) that have \"DK Publishing Inc\" \n",
    "dfbooks.loc[dfbooks.yearOfPublication == 'DK Publishing Inc',:]"
   ]
  },
  {
   "cell_type": "markdown",
   "metadata": {},
   "source": [
    "From the results, you can observe that it seems like for some reason there was a mixup with loaded data and Author details are in the Title column,while the Author column contains the values for the year."
   ]
  },
  {
   "cell_type": "code",
   "execution_count": 37,
   "metadata": {},
   "outputs": [
    {
     "data": {
      "text/html": [
       "<div>\n",
       "<style scoped>\n",
       "    .dataframe tbody tr th:only-of-type {\n",
       "        vertical-align: middle;\n",
       "    }\n",
       "\n",
       "    .dataframe tbody tr th {\n",
       "        vertical-align: top;\n",
       "    }\n",
       "\n",
       "    .dataframe thead th {\n",
       "        text-align: right;\n",
       "    }\n",
       "</style>\n",
       "<table border=\"1\" class=\"dataframe\">\n",
       "  <thead>\n",
       "    <tr style=\"text-align: right;\">\n",
       "      <th></th>\n",
       "      <th>ISBN</th>\n",
       "      <th>title</th>\n",
       "      <th>author</th>\n",
       "      <th>yearOfPublication</th>\n",
       "      <th>publisher</th>\n",
       "      <th>imageUrlS</th>\n",
       "      <th>imageUrlM</th>\n",
       "      <th>imageUrlL</th>\n",
       "    </tr>\n",
       "  </thead>\n",
       "  <tbody>\n",
       "    <tr>\n",
       "      <th>220731</th>\n",
       "      <td>2070426769</td>\n",
       "      <td>Peuple du ciel, suivi de 'Les Bergers</td>\n",
       "      <td>Jean-Marie Gustave Le Clézio</td>\n",
       "      <td>2003</td>\n",
       "      <td>Gallimard</td>\n",
       "      <td>http://images.amazon.com/images/P/2070426769.0...</td>\n",
       "      <td>http://images.amazon.com/images/P/2070426769.0...</td>\n",
       "      <td>NaN</td>\n",
       "    </tr>\n",
       "  </tbody>\n",
       "</table>\n",
       "</div>"
      ],
      "text/plain": [
       "              ISBN                                  title  \\\n",
       "220731  2070426769  Peuple du ciel, suivi de 'Les Bergers   \n",
       "\n",
       "                              author yearOfPublication  publisher  \\\n",
       "220731  Jean-Marie Gustave Le Clézio              2003  Gallimard   \n",
       "\n",
       "                                                imageUrlS  \\\n",
       "220731  http://images.amazon.com/images/P/2070426769.0...   \n",
       "\n",
       "                                                imageUrlM imageUrlL  \n",
       "220731  http://images.amazon.com/images/P/2070426769.0...       NaN  "
      ]
     },
     "execution_count": 37,
     "metadata": {},
     "output_type": "execute_result"
    }
   ],
   "source": [
    "# fixing the incorrect data in Title, Author, yearOfPublication and Publisher columns for Gallimard\n",
    "dfbooks.loc[dfbooks.ISBN == '2070426769','yearOfPublication'] = 2003\n",
    "# searched the correct spelling of the Author changed from 'Jean-Marie Gustave Le ClÃ?Â©zio' to 'Jean-Marie Gustave Le Clézio' \n",
    "dfbooks.loc[dfbooks.ISBN == '2070426769','author'] = \"Jean-Marie Gustave Le Clézio\"\n",
    "dfbooks.loc[dfbooks.ISBN == '2070426769','publisher'] = \"Gallimard\"\n",
    "dfbooks.loc[dfbooks.ISBN == '2070426769','title'] = \"Peuple du ciel, suivi de 'Les Bergers\"\n",
    "dfbooks.loc[dfbooks.ISBN== '2070426769',:]\n",
    "\n"
   ]
  },
  {
   "cell_type": "code",
   "execution_count": 38,
   "metadata": {},
   "outputs": [
    {
     "data": {
      "text/html": [
       "<div>\n",
       "<style scoped>\n",
       "    .dataframe tbody tr th:only-of-type {\n",
       "        vertical-align: middle;\n",
       "    }\n",
       "\n",
       "    .dataframe tbody tr th {\n",
       "        vertical-align: top;\n",
       "    }\n",
       "\n",
       "    .dataframe thead th {\n",
       "        text-align: right;\n",
       "    }\n",
       "</style>\n",
       "<table border=\"1\" class=\"dataframe\">\n",
       "  <thead>\n",
       "    <tr style=\"text-align: right;\">\n",
       "      <th></th>\n",
       "      <th>ISBN</th>\n",
       "      <th>title</th>\n",
       "      <th>author</th>\n",
       "      <th>yearOfPublication</th>\n",
       "      <th>publisher</th>\n",
       "      <th>imageUrlS</th>\n",
       "      <th>imageUrlM</th>\n",
       "      <th>imageUrlL</th>\n",
       "    </tr>\n",
       "  </thead>\n",
       "  <tbody>\n",
       "    <tr>\n",
       "      <th>221678</th>\n",
       "      <td>0789466953</td>\n",
       "      <td>DK Readers: Creating the X-Men, How Comic Book...</td>\n",
       "      <td>James Buckley</td>\n",
       "      <td>2000</td>\n",
       "      <td>DK Publishing Inc</td>\n",
       "      <td>http://images.amazon.com/images/P/0789466953.0...</td>\n",
       "      <td>http://images.amazon.com/images/P/0789466953.0...</td>\n",
       "      <td>NaN</td>\n",
       "    </tr>\n",
       "  </tbody>\n",
       "</table>\n",
       "</div>"
      ],
      "text/plain": [
       "              ISBN                                              title  \\\n",
       "221678  0789466953  DK Readers: Creating the X-Men, How Comic Book...   \n",
       "\n",
       "               author yearOfPublication          publisher  \\\n",
       "221678  James Buckley              2000  DK Publishing Inc   \n",
       "\n",
       "                                                imageUrlS  \\\n",
       "221678  http://images.amazon.com/images/P/0789466953.0...   \n",
       "\n",
       "                                                imageUrlM imageUrlL  \n",
       "221678  http://images.amazon.com/images/P/0789466953.0...       NaN  "
      ]
     },
     "execution_count": 38,
     "metadata": {},
     "output_type": "execute_result"
    }
   ],
   "source": [
    "# fixing the incorrect data in Title, Author, yearOfPublication and Publisher columns for DK Publishing Inc with ISBN =0789466953\n",
    "dfbooks.loc[dfbooks.ISBN == '0789466953','yearOfPublication'] = 2000\n",
    "dfbooks.loc[dfbooks.ISBN == '0789466953','author'] = \"James Buckley\"\n",
    "dfbooks.loc[dfbooks.ISBN == '0789466953','publisher'] = \"DK Publishing Inc\"\n",
    "dfbooks.loc[dfbooks.ISBN == '0789466953','title'] = \"DK Readers: Creating the X-Men, How Comic Books Come to Life (Level 4: Proficient Readers)\"\n",
    "dfbooks.loc[dfbooks.ISBN == '0789466953',:]"
   ]
  },
  {
   "cell_type": "code",
   "execution_count": 39,
   "metadata": {},
   "outputs": [
    {
     "data": {
      "text/html": [
       "<div>\n",
       "<style scoped>\n",
       "    .dataframe tbody tr th:only-of-type {\n",
       "        vertical-align: middle;\n",
       "    }\n",
       "\n",
       "    .dataframe tbody tr th {\n",
       "        vertical-align: top;\n",
       "    }\n",
       "\n",
       "    .dataframe thead th {\n",
       "        text-align: right;\n",
       "    }\n",
       "</style>\n",
       "<table border=\"1\" class=\"dataframe\">\n",
       "  <thead>\n",
       "    <tr style=\"text-align: right;\">\n",
       "      <th></th>\n",
       "      <th>ISBN</th>\n",
       "      <th>title</th>\n",
       "      <th>author</th>\n",
       "      <th>yearOfPublication</th>\n",
       "      <th>publisher</th>\n",
       "      <th>imageUrlS</th>\n",
       "      <th>imageUrlM</th>\n",
       "      <th>imageUrlL</th>\n",
       "    </tr>\n",
       "  </thead>\n",
       "  <tbody>\n",
       "    <tr>\n",
       "      <th>209538</th>\n",
       "      <td>078946697X</td>\n",
       "      <td>DK Readers: Creating the X-Men, How It All Beg...</td>\n",
       "      <td>Michael Teitelbaum</td>\n",
       "      <td>2000</td>\n",
       "      <td>DK Publishing Inc</td>\n",
       "      <td>http://images.amazon.com/images/P/078946697X.0...</td>\n",
       "      <td>http://images.amazon.com/images/P/078946697X.0...</td>\n",
       "      <td>NaN</td>\n",
       "    </tr>\n",
       "  </tbody>\n",
       "</table>\n",
       "</div>"
      ],
      "text/plain": [
       "              ISBN                                              title  \\\n",
       "209538  078946697X  DK Readers: Creating the X-Men, How It All Beg...   \n",
       "\n",
       "                    author yearOfPublication          publisher  \\\n",
       "209538  Michael Teitelbaum              2000  DK Publishing Inc   \n",
       "\n",
       "                                                imageUrlS  \\\n",
       "209538  http://images.amazon.com/images/P/078946697X.0...   \n",
       "\n",
       "                                                imageUrlM imageUrlL  \n",
       "209538  http://images.amazon.com/images/P/078946697X.0...       NaN  "
      ]
     },
     "execution_count": 39,
     "metadata": {},
     "output_type": "execute_result"
    }
   ],
   "source": [
    "# fixing the incorrect data in Title, Author, yearOfPublication and Publisher columns for DK Publishing Inc with ISBN = 078946697X\n",
    "dfbooks.loc[dfbooks.ISBN == '078946697X','yearOfPublication'] = 2000\n",
    "dfbooks.loc[dfbooks.ISBN == '078946697X','author'] = \"Michael Teitelbaum\"\n",
    "dfbooks.loc[dfbooks.ISBN == '078946697X','publisher'] = \"DK Publishing Inc\"\n",
    "dfbooks.loc[dfbooks.ISBN == '078946697X','title'] = \"DK Readers: Creating the X-Men, How It All Began (Level 4: Proficient Readers)\"\n",
    "dfbooks.loc[dfbooks.ISBN == '078946697X',:]"
   ]
  },
  {
   "cell_type": "code",
   "execution_count": 40,
   "metadata": {},
   "outputs": [
    {
     "data": {
      "text/html": [
       "<div>\n",
       "<style scoped>\n",
       "    .dataframe tbody tr th:only-of-type {\n",
       "        vertical-align: middle;\n",
       "    }\n",
       "\n",
       "    .dataframe tbody tr th {\n",
       "        vertical-align: top;\n",
       "    }\n",
       "\n",
       "    .dataframe thead th {\n",
       "        text-align: right;\n",
       "    }\n",
       "</style>\n",
       "<table border=\"1\" class=\"dataframe\">\n",
       "  <thead>\n",
       "    <tr style=\"text-align: right;\">\n",
       "      <th></th>\n",
       "      <th>ISBN</th>\n",
       "      <th>title</th>\n",
       "      <th>author</th>\n",
       "      <th>yearOfPublication</th>\n",
       "      <th>publisher</th>\n",
       "      <th>imageUrlS</th>\n",
       "      <th>imageUrlM</th>\n",
       "      <th>imageUrlL</th>\n",
       "    </tr>\n",
       "  </thead>\n",
       "  <tbody>\n",
       "    <tr>\n",
       "      <th>33914</th>\n",
       "      <td>2290048763</td>\n",
       "      <td>Mademoiselle Chambon</td>\n",
       "      <td>Ã?Â?ric Holder</td>\n",
       "      <td>1998</td>\n",
       "      <td>J'ai lu</td>\n",
       "      <td>http://images.amazon.com/images/P/2290048763.0...</td>\n",
       "      <td>http://images.amazon.com/images/P/2290048763.0...</td>\n",
       "      <td>http://images.amazon.com/images/P/2290048763.0...</td>\n",
       "    </tr>\n",
       "  </tbody>\n",
       "</table>\n",
       "</div>"
      ],
      "text/plain": [
       "             ISBN                 title          author yearOfPublication  \\\n",
       "33914  2290048763  Mademoiselle Chambon  Ã?Â?ric Holder              1998   \n",
       "\n",
       "      publisher                                          imageUrlS  \\\n",
       "33914   J'ai lu  http://images.amazon.com/images/P/2290048763.0...   \n",
       "\n",
       "                                               imageUrlM  \\\n",
       "33914  http://images.amazon.com/images/P/2290048763.0...   \n",
       "\n",
       "                                               imageUrlL  \n",
       "33914  http://images.amazon.com/images/P/2290048763.0...  "
      ]
     },
     "execution_count": 40,
     "metadata": {},
     "output_type": "execute_result"
    }
   ],
   "source": [
    " # Let's investigate further in the yearOfPublicationthe column, the row(s) that have \"Gallimard\" \n",
    "dfbooks.loc[dfbooks.author == 'Ã?Â?ric Holder',:]"
   ]
  },
  {
   "cell_type": "code",
   "execution_count": 41,
   "metadata": {},
   "outputs": [
    {
     "data": {
      "text/html": [
       "<div>\n",
       "<style scoped>\n",
       "    .dataframe tbody tr th:only-of-type {\n",
       "        vertical-align: middle;\n",
       "    }\n",
       "\n",
       "    .dataframe tbody tr th {\n",
       "        vertical-align: top;\n",
       "    }\n",
       "\n",
       "    .dataframe thead th {\n",
       "        text-align: right;\n",
       "    }\n",
       "</style>\n",
       "<table border=\"1\" class=\"dataframe\">\n",
       "  <thead>\n",
       "    <tr style=\"text-align: right;\">\n",
       "      <th></th>\n",
       "      <th>ISBN</th>\n",
       "      <th>title</th>\n",
       "      <th>author</th>\n",
       "      <th>yearOfPublication</th>\n",
       "      <th>publisher</th>\n",
       "      <th>imageUrlS</th>\n",
       "      <th>imageUrlM</th>\n",
       "      <th>imageUrlL</th>\n",
       "    </tr>\n",
       "  </thead>\n",
       "  <tbody>\n",
       "    <tr>\n",
       "      <th>33914</th>\n",
       "      <td>2290048763</td>\n",
       "      <td>Mademoiselle Chambon</td>\n",
       "      <td>Éric Holder</td>\n",
       "      <td>1998</td>\n",
       "      <td>J'ai lu</td>\n",
       "      <td>http://images.amazon.com/images/P/2290048763.0...</td>\n",
       "      <td>http://images.amazon.com/images/P/2290048763.0...</td>\n",
       "      <td>http://images.amazon.com/images/P/2290048763.0...</td>\n",
       "    </tr>\n",
       "  </tbody>\n",
       "</table>\n",
       "</div>"
      ],
      "text/plain": [
       "             ISBN                 title       author yearOfPublication  \\\n",
       "33914  2290048763  Mademoiselle Chambon  Éric Holder              1998   \n",
       "\n",
       "      publisher                                          imageUrlS  \\\n",
       "33914   J'ai lu  http://images.amazon.com/images/P/2290048763.0...   \n",
       "\n",
       "                                               imageUrlM  \\\n",
       "33914  http://images.amazon.com/images/P/2290048763.0...   \n",
       "\n",
       "                                               imageUrlL  \n",
       "33914  http://images.amazon.com/images/P/2290048763.0...  "
      ]
     },
     "execution_count": 41,
     "metadata": {},
     "output_type": "execute_result"
    }
   ],
   "source": [
    "# fixing the incorrect data in  Author, and Publisher for Mademoiselle Chambon book\n",
    "# searched the correct spelling of the Author changed from Ã?Â?ric Holder to  Éric Holder \n",
    "dfbooks.loc[dfbooks.ISBN == '2290048763','author'] = \"Éric Holder\"\n",
    "dfbooks.loc[dfbooks.ISBN== '2290048763',:]"
   ]
  },
  {
   "cell_type": "code",
   "execution_count": 42,
   "metadata": {},
   "outputs": [
    {
     "data": {
      "text/html": [
       "<div>\n",
       "<style scoped>\n",
       "    .dataframe tbody tr th:only-of-type {\n",
       "        vertical-align: middle;\n",
       "    }\n",
       "\n",
       "    .dataframe tbody tr th {\n",
       "        vertical-align: top;\n",
       "    }\n",
       "\n",
       "    .dataframe thead th {\n",
       "        text-align: right;\n",
       "    }\n",
       "</style>\n",
       "<table border=\"1\" class=\"dataframe\">\n",
       "  <thead>\n",
       "    <tr style=\"text-align: right;\">\n",
       "      <th></th>\n",
       "      <th>ISBN</th>\n",
       "      <th>title</th>\n",
       "      <th>author</th>\n",
       "      <th>yearOfPublication</th>\n",
       "      <th>publisher</th>\n",
       "      <th>imageUrlS</th>\n",
       "      <th>imageUrlM</th>\n",
       "      <th>imageUrlL</th>\n",
       "    </tr>\n",
       "  </thead>\n",
       "  <tbody>\n",
       "    <tr>\n",
       "      <th>201227</th>\n",
       "      <td>3215020408</td>\n",
       "      <td>Atem und Stimme. Anleitung zum guten Sprechen.</td>\n",
       "      <td>Horst Coblenzer</td>\n",
       "      <td>2002</td>\n",
       "      <td>Ã?Â¶bv&amp;amp;hpt</td>\n",
       "      <td>http://images.amazon.com/images/P/3215020408.0...</td>\n",
       "      <td>http://images.amazon.com/images/P/3215020408.0...</td>\n",
       "      <td>http://images.amazon.com/images/P/3215020408.0...</td>\n",
       "    </tr>\n",
       "  </tbody>\n",
       "</table>\n",
       "</div>"
      ],
      "text/plain": [
       "              ISBN                                           title  \\\n",
       "201227  3215020408  Atem und Stimme. Anleitung zum guten Sprechen.   \n",
       "\n",
       "                 author yearOfPublication       publisher  \\\n",
       "201227  Horst Coblenzer              2002  Ã?Â¶bv&amp;hpt   \n",
       "\n",
       "                                                imageUrlS  \\\n",
       "201227  http://images.amazon.com/images/P/3215020408.0...   \n",
       "\n",
       "                                                imageUrlM  \\\n",
       "201227  http://images.amazon.com/images/P/3215020408.0...   \n",
       "\n",
       "                                                imageUrlL  \n",
       "201227  http://images.amazon.com/images/P/3215020408.0...  "
      ]
     },
     "execution_count": 42,
     "metadata": {},
     "output_type": "execute_result"
    }
   ],
   "source": [
    " # Let's investigate further in the yearOfPublicationthe column, the row(s) that have \"Gallimard\" \n",
    "dfbooks.loc[dfbooks.publisher == 'Ã?Â¶bv&amp;hpt',:]"
   ]
  },
  {
   "cell_type": "code",
   "execution_count": 43,
   "metadata": {},
   "outputs": [
    {
     "data": {
      "text/html": [
       "<div>\n",
       "<style scoped>\n",
       "    .dataframe tbody tr th:only-of-type {\n",
       "        vertical-align: middle;\n",
       "    }\n",
       "\n",
       "    .dataframe tbody tr th {\n",
       "        vertical-align: top;\n",
       "    }\n",
       "\n",
       "    .dataframe thead th {\n",
       "        text-align: right;\n",
       "    }\n",
       "</style>\n",
       "<table border=\"1\" class=\"dataframe\">\n",
       "  <thead>\n",
       "    <tr style=\"text-align: right;\">\n",
       "      <th></th>\n",
       "      <th>ISBN</th>\n",
       "      <th>title</th>\n",
       "      <th>author</th>\n",
       "      <th>yearOfPublication</th>\n",
       "      <th>publisher</th>\n",
       "      <th>imageUrlS</th>\n",
       "      <th>imageUrlM</th>\n",
       "      <th>imageUrlL</th>\n",
       "    </tr>\n",
       "  </thead>\n",
       "  <tbody>\n",
       "    <tr>\n",
       "      <th>201227</th>\n",
       "      <td>3215020408</td>\n",
       "      <td>Atem und Stimme. Anleitung zum guten Sprechen.</td>\n",
       "      <td>Horst Coblenzer</td>\n",
       "      <td>2002</td>\n",
       "      <td>öbv&amp;hpt</td>\n",
       "      <td>http://images.amazon.com/images/P/3215020408.0...</td>\n",
       "      <td>http://images.amazon.com/images/P/3215020408.0...</td>\n",
       "      <td>http://images.amazon.com/images/P/3215020408.0...</td>\n",
       "    </tr>\n",
       "  </tbody>\n",
       "</table>\n",
       "</div>"
      ],
      "text/plain": [
       "              ISBN                                           title  \\\n",
       "201227  3215020408  Atem und Stimme. Anleitung zum guten Sprechen.   \n",
       "\n",
       "                 author yearOfPublication publisher  \\\n",
       "201227  Horst Coblenzer              2002   öbv&hpt   \n",
       "\n",
       "                                                imageUrlS  \\\n",
       "201227  http://images.amazon.com/images/P/3215020408.0...   \n",
       "\n",
       "                                                imageUrlM  \\\n",
       "201227  http://images.amazon.com/images/P/3215020408.0...   \n",
       "\n",
       "                                                imageUrlL  \n",
       "201227  http://images.amazon.com/images/P/3215020408.0...  "
      ]
     },
     "execution_count": 43,
     "metadata": {},
     "output_type": "execute_result"
    }
   ],
   "source": [
    "# fixing the incorrect data in Publisher for book\n",
    "# searched the correct spelling of the Publisher changed from Ã?Â¶bv&amp;hpt to öbv&hpt \n",
    "dfbooks.loc[dfbooks.ISBN == '3215020408','publisher'] = \"öbv&hpt\"\n",
    "dfbooks.loc[dfbooks.ISBN== '3215020408',:]"
   ]
  },
  {
   "cell_type": "code",
   "execution_count": 44,
   "metadata": {},
   "outputs": [
    {
     "data": {
      "text/html": [
       "<div>\n",
       "<style scoped>\n",
       "    .dataframe tbody tr th:only-of-type {\n",
       "        vertical-align: middle;\n",
       "    }\n",
       "\n",
       "    .dataframe tbody tr th {\n",
       "        vertical-align: top;\n",
       "    }\n",
       "\n",
       "    .dataframe thead th {\n",
       "        text-align: right;\n",
       "    }\n",
       "</style>\n",
       "<table border=\"1\" class=\"dataframe\">\n",
       "  <thead>\n",
       "    <tr style=\"text-align: right;\">\n",
       "      <th></th>\n",
       "      <th>ISBN</th>\n",
       "      <th>title</th>\n",
       "      <th>author</th>\n",
       "      <th>yearOfPublication</th>\n",
       "      <th>publisher</th>\n",
       "      <th>imageUrlS</th>\n",
       "      <th>imageUrlM</th>\n",
       "      <th>imageUrlL</th>\n",
       "    </tr>\n",
       "  </thead>\n",
       "  <tbody>\n",
       "    <tr>\n",
       "      <th>129037</th>\n",
       "      <td>1931696993</td>\n",
       "      <td>Finders Keepers</td>\n",
       "      <td>Linnea Sinclair</td>\n",
       "      <td>2001</td>\n",
       "      <td>NaN</td>\n",
       "      <td>http://images.amazon.com/images/P/1931696993.0...</td>\n",
       "      <td>http://images.amazon.com/images/P/1931696993.0...</td>\n",
       "      <td>http://images.amazon.com/images/P/1931696993.0...</td>\n",
       "    </tr>\n",
       "  </tbody>\n",
       "</table>\n",
       "</div>"
      ],
      "text/plain": [
       "              ISBN            title           author yearOfPublication  \\\n",
       "129037  1931696993  Finders Keepers  Linnea Sinclair              2001   \n",
       "\n",
       "       publisher                                          imageUrlS  \\\n",
       "129037       NaN  http://images.amazon.com/images/P/1931696993.0...   \n",
       "\n",
       "                                                imageUrlM  \\\n",
       "129037  http://images.amazon.com/images/P/1931696993.0...   \n",
       "\n",
       "                                                imageUrlL  \n",
       "129037  http://images.amazon.com/images/P/1931696993.0...  "
      ]
     },
     "execution_count": 44,
     "metadata": {},
     "output_type": "execute_result"
    }
   ],
   "source": [
    "# we can see the following book has no publisher\n",
    "dfbooks.loc[dfbooks.ISBN== '193169656X',:]\n",
    "dfbooks.loc[dfbooks.ISBN== '1931696993',:]\n"
   ]
  },
  {
   "cell_type": "code",
   "execution_count": 45,
   "metadata": {},
   "outputs": [
    {
     "data": {
      "text/html": [
       "<div>\n",
       "<style scoped>\n",
       "    .dataframe tbody tr th:only-of-type {\n",
       "        vertical-align: middle;\n",
       "    }\n",
       "\n",
       "    .dataframe tbody tr th {\n",
       "        vertical-align: top;\n",
       "    }\n",
       "\n",
       "    .dataframe thead th {\n",
       "        text-align: right;\n",
       "    }\n",
       "</style>\n",
       "<table border=\"1\" class=\"dataframe\">\n",
       "  <thead>\n",
       "    <tr style=\"text-align: right;\">\n",
       "      <th></th>\n",
       "      <th>ISBN</th>\n",
       "      <th>title</th>\n",
       "      <th>author</th>\n",
       "      <th>yearOfPublication</th>\n",
       "      <th>publisher</th>\n",
       "      <th>imageUrlS</th>\n",
       "      <th>imageUrlM</th>\n",
       "      <th>imageUrlL</th>\n",
       "    </tr>\n",
       "  </thead>\n",
       "  <tbody>\n",
       "    <tr>\n",
       "      <th>129037</th>\n",
       "      <td>1931696993</td>\n",
       "      <td>Finders Keepers</td>\n",
       "      <td>Linnea Sinclair</td>\n",
       "      <td>2001</td>\n",
       "      <td>NaN</td>\n",
       "      <td>http://images.amazon.com/images/P/1931696993.0...</td>\n",
       "      <td>http://images.amazon.com/images/P/1931696993.0...</td>\n",
       "      <td>http://images.amazon.com/images/P/1931696993.0...</td>\n",
       "    </tr>\n",
       "  </tbody>\n",
       "</table>\n",
       "</div>"
      ],
      "text/plain": [
       "              ISBN            title           author yearOfPublication  \\\n",
       "129037  1931696993  Finders Keepers  Linnea Sinclair              2001   \n",
       "\n",
       "       publisher                                          imageUrlS  \\\n",
       "129037       NaN  http://images.amazon.com/images/P/1931696993.0...   \n",
       "\n",
       "                                                imageUrlM  \\\n",
       "129037  http://images.amazon.com/images/P/1931696993.0...   \n",
       "\n",
       "                                                imageUrlL  \n",
       "129037  http://images.amazon.com/images/P/1931696993.0...  "
      ]
     },
     "execution_count": 45,
     "metadata": {},
     "output_type": "execute_result"
    }
   ],
   "source": [
    "# same as this one with the same publisher\n",
    "dfbooks.loc[dfbooks.ISBN== '1931696993',:]"
   ]
  },
  {
   "cell_type": "code",
   "execution_count": 46,
   "metadata": {},
   "outputs": [],
   "source": [
    "# lets fix that by adding the publisher\n",
    "dfbooks.loc[dfbooks.ISBN == '193169656X','publisher'] = \"Editions P. Terrail\"\n",
    "dfbooks.loc[dfbooks.ISBN == '1931696993','publisher'] = \"Editions P. Terrail\""
   ]
  },
  {
   "cell_type": "code",
   "execution_count": 47,
   "metadata": {},
   "outputs": [
    {
     "data": {
      "text/html": [
       "<div>\n",
       "<style scoped>\n",
       "    .dataframe tbody tr th:only-of-type {\n",
       "        vertical-align: middle;\n",
       "    }\n",
       "\n",
       "    .dataframe tbody tr th {\n",
       "        vertical-align: top;\n",
       "    }\n",
       "\n",
       "    .dataframe thead th {\n",
       "        text-align: right;\n",
       "    }\n",
       "</style>\n",
       "<table border=\"1\" class=\"dataframe\">\n",
       "  <thead>\n",
       "    <tr style=\"text-align: right;\">\n",
       "      <th></th>\n",
       "      <th>ISBN</th>\n",
       "      <th>title</th>\n",
       "      <th>author</th>\n",
       "      <th>yearOfPublication</th>\n",
       "      <th>publisher</th>\n",
       "      <th>imageUrlS</th>\n",
       "      <th>imageUrlM</th>\n",
       "      <th>imageUrlL</th>\n",
       "    </tr>\n",
       "  </thead>\n",
       "  <tbody>\n",
       "    <tr>\n",
       "      <th>128890</th>\n",
       "      <td>193169656X</td>\n",
       "      <td>Tyrant Moon</td>\n",
       "      <td>Elaine Corvidae</td>\n",
       "      <td>2002</td>\n",
       "      <td>Editions P. Terrail</td>\n",
       "      <td>http://images.amazon.com/images/P/193169656X.0...</td>\n",
       "      <td>http://images.amazon.com/images/P/193169656X.0...</td>\n",
       "      <td>http://images.amazon.com/images/P/193169656X.0...</td>\n",
       "    </tr>\n",
       "    <tr>\n",
       "      <th>129037</th>\n",
       "      <td>1931696993</td>\n",
       "      <td>Finders Keepers</td>\n",
       "      <td>Linnea Sinclair</td>\n",
       "      <td>2001</td>\n",
       "      <td>Editions P. Terrail</td>\n",
       "      <td>http://images.amazon.com/images/P/1931696993.0...</td>\n",
       "      <td>http://images.amazon.com/images/P/1931696993.0...</td>\n",
       "      <td>http://images.amazon.com/images/P/1931696993.0...</td>\n",
       "    </tr>\n",
       "  </tbody>\n",
       "</table>\n",
       "</div>"
      ],
      "text/plain": [
       "              ISBN            title           author yearOfPublication  \\\n",
       "128890  193169656X      Tyrant Moon  Elaine Corvidae              2002   \n",
       "129037  1931696993  Finders Keepers  Linnea Sinclair              2001   \n",
       "\n",
       "                  publisher  \\\n",
       "128890  Editions P. Terrail   \n",
       "129037  Editions P. Terrail   \n",
       "\n",
       "                                                imageUrlS  \\\n",
       "128890  http://images.amazon.com/images/P/193169656X.0...   \n",
       "129037  http://images.amazon.com/images/P/1931696993.0...   \n",
       "\n",
       "                                                imageUrlM  \\\n",
       "128890  http://images.amazon.com/images/P/193169656X.0...   \n",
       "129037  http://images.amazon.com/images/P/1931696993.0...   \n",
       "\n",
       "                                                imageUrlL  \n",
       "128890  http://images.amazon.com/images/P/193169656X.0...  \n",
       "129037  http://images.amazon.com/images/P/1931696993.0...  "
      ]
     },
     "execution_count": 47,
     "metadata": {},
     "output_type": "execute_result"
    }
   ],
   "source": [
    "dfbooks.loc[dfbooks.publisher == 'Editions P. Terrail',:]"
   ]
  },
  {
   "cell_type": "code",
   "execution_count": 48,
   "metadata": {},
   "outputs": [
    {
     "data": {
      "text/plain": [
       "Agatha Christie          632\n",
       "William Shakespeare      567\n",
       "Stephen King             524\n",
       "Ann M. Martin            423\n",
       "Carolyn Keene            373\n",
       "Francine Pascal          372\n",
       "Isaac Asimov             330\n",
       "Nora Roberts             315\n",
       "Barbara Cartland         307\n",
       "Charles Dickens          302\n",
       "Not Applicable (Na )     286\n",
       "R. L. Stine              282\n",
       "Mark Twain               231\n",
       "Jane Austen              223\n",
       "Terry Pratchett          220\n",
       "Mary Higgins Clark       218\n",
       "Piers Anthony            217\n",
       "Marion Zimmer Bradley    216\n",
       "Janet Dailey             214\n",
       "Franklin W. Dixon        204\n",
       "Name: author, dtype: int64"
      ]
     },
     "execution_count": 48,
     "metadata": {},
     "output_type": "execute_result"
    }
   ],
   "source": [
    "# authors \n",
    "dfbooks[\"author\"].value_counts().sort_values(ascending=False).head(20)"
   ]
  },
  {
   "cell_type": "code",
   "execution_count": 49,
   "metadata": {},
   "outputs": [
    {
     "data": {
      "text/html": [
       "<div>\n",
       "<style scoped>\n",
       "    .dataframe tbody tr th:only-of-type {\n",
       "        vertical-align: middle;\n",
       "    }\n",
       "\n",
       "    .dataframe tbody tr th {\n",
       "        vertical-align: top;\n",
       "    }\n",
       "\n",
       "    .dataframe thead th {\n",
       "        text-align: right;\n",
       "    }\n",
       "</style>\n",
       "<table border=\"1\" class=\"dataframe\">\n",
       "  <thead>\n",
       "    <tr style=\"text-align: right;\">\n",
       "      <th></th>\n",
       "      <th>ISBN</th>\n",
       "      <th>title</th>\n",
       "      <th>author</th>\n",
       "      <th>yearOfPublication</th>\n",
       "      <th>publisher</th>\n",
       "      <th>imageUrlS</th>\n",
       "      <th>imageUrlM</th>\n",
       "      <th>imageUrlL</th>\n",
       "    </tr>\n",
       "  </thead>\n",
       "  <tbody>\n",
       "    <tr>\n",
       "      <th>10821</th>\n",
       "      <td>068985918X</td>\n",
       "      <td>\\Once More, With Feeling\\\" : The Script Book\"</td>\n",
       "      <td>Not Applicable (Na )</td>\n",
       "      <td>2002</td>\n",
       "      <td>Simon Spotlight Entertainment</td>\n",
       "      <td>http://images.amazon.com/images/P/068985918X.0...</td>\n",
       "      <td>http://images.amazon.com/images/P/068985918X.0...</td>\n",
       "      <td>http://images.amazon.com/images/P/068985918X.0...</td>\n",
       "    </tr>\n",
       "    <tr>\n",
       "      <th>12483</th>\n",
       "      <td>0752271474</td>\n",
       "      <td>Purple Ronnie's Love Poems</td>\n",
       "      <td>Not Applicable (Na )</td>\n",
       "      <td>2003</td>\n",
       "      <td>Boxtree, Limited</td>\n",
       "      <td>http://images.amazon.com/images/P/0752271474.0...</td>\n",
       "      <td>http://images.amazon.com/images/P/0752271474.0...</td>\n",
       "      <td>http://images.amazon.com/images/P/0752271474.0...</td>\n",
       "    </tr>\n",
       "    <tr>\n",
       "      <th>14045</th>\n",
       "      <td>0881762024</td>\n",
       "      <td>Campbell's Creative Cooking With Soup: Over 19...</td>\n",
       "      <td>Not Applicable (Na )</td>\n",
       "      <td>1990</td>\n",
       "      <td>Publications Intl</td>\n",
       "      <td>http://images.amazon.com/images/P/0881762024.0...</td>\n",
       "      <td>http://images.amazon.com/images/P/0881762024.0...</td>\n",
       "      <td>http://images.amazon.com/images/P/0881762024.0...</td>\n",
       "    </tr>\n",
       "    <tr>\n",
       "      <th>18533</th>\n",
       "      <td>0721401023</td>\n",
       "      <td>Book of Trees (Nature, Series 536)</td>\n",
       "      <td>Not Applicable (Na )</td>\n",
       "      <td>1986</td>\n",
       "      <td>Ladybird Books Ltd</td>\n",
       "      <td>http://images.amazon.com/images/P/0721401023.0...</td>\n",
       "      <td>http://images.amazon.com/images/P/0721401023.0...</td>\n",
       "      <td>http://images.amazon.com/images/P/0721401023.0...</td>\n",
       "    </tr>\n",
       "    <tr>\n",
       "      <th>18614</th>\n",
       "      <td>1566475961</td>\n",
       "      <td>Na Wahine: Hawaiin Proverbs &amp;amp; Inspirationa...</td>\n",
       "      <td>Not Applicable (Na )</td>\n",
       "      <td>2003</td>\n",
       "      <td>Booklines Hawaii Ltd</td>\n",
       "      <td>http://images.amazon.com/images/P/1566475961.0...</td>\n",
       "      <td>http://images.amazon.com/images/P/1566475961.0...</td>\n",
       "      <td>http://images.amazon.com/images/P/1566475961.0...</td>\n",
       "    </tr>\n",
       "    <tr>\n",
       "      <th>...</th>\n",
       "      <td>...</td>\n",
       "      <td>...</td>\n",
       "      <td>...</td>\n",
       "      <td>...</td>\n",
       "      <td>...</td>\n",
       "      <td>...</td>\n",
       "      <td>...</td>\n",
       "      <td>...</td>\n",
       "    </tr>\n",
       "    <tr>\n",
       "      <th>268513</th>\n",
       "      <td>0805401466</td>\n",
       "      <td>Guideposts Best Loved Stories: A Treasury of G...</td>\n",
       "      <td>Not Applicable (Na )</td>\n",
       "      <td>1997</td>\n",
       "      <td>Broadman &amp;amp; Holman Pub</td>\n",
       "      <td>http://images.amazon.com/images/P/0805401466.0...</td>\n",
       "      <td>http://images.amazon.com/images/P/0805401466.0...</td>\n",
       "      <td>http://images.amazon.com/images/P/0805401466.0...</td>\n",
       "    </tr>\n",
       "    <tr>\n",
       "      <th>268647</th>\n",
       "      <td>0895773767</td>\n",
       "      <td>Nature in America/Your A to Z Guide to Our Cou...</td>\n",
       "      <td>Not Applicable (Na )</td>\n",
       "      <td>1991</td>\n",
       "      <td>Putnam Pub Group</td>\n",
       "      <td>http://images.amazon.com/images/P/0895773767.0...</td>\n",
       "      <td>http://images.amazon.com/images/P/0895773767.0...</td>\n",
       "      <td>http://images.amazon.com/images/P/0895773767.0...</td>\n",
       "    </tr>\n",
       "    <tr>\n",
       "      <th>269175</th>\n",
       "      <td>0812066170</td>\n",
       "      <td>Watercolor (Barron's Art Handbooks: Purple Ser...</td>\n",
       "      <td>Not Applicable (Na )</td>\n",
       "      <td>1996</td>\n",
       "      <td>Barron's Educational Series</td>\n",
       "      <td>http://images.amazon.com/images/P/0812066170.0...</td>\n",
       "      <td>http://images.amazon.com/images/P/0812066170.0...</td>\n",
       "      <td>http://images.amazon.com/images/P/0812066170.0...</td>\n",
       "    </tr>\n",
       "    <tr>\n",
       "      <th>270639</th>\n",
       "      <td>0721407714</td>\n",
       "      <td>Hm the Queen (Famous People, Series 816)</td>\n",
       "      <td>Not Applicable (Na )</td>\n",
       "      <td>1986</td>\n",
       "      <td>Ladybird Books Ltd</td>\n",
       "      <td>http://images.amazon.com/images/P/0721407714.0...</td>\n",
       "      <td>http://images.amazon.com/images/P/0721407714.0...</td>\n",
       "      <td>http://images.amazon.com/images/P/0721407714.0...</td>\n",
       "    </tr>\n",
       "    <tr>\n",
       "      <th>271066</th>\n",
       "      <td>0394884973</td>\n",
       "      <td>Walt Disney Pictures Presents the Great Mouse ...</td>\n",
       "      <td>Not Applicable (Na )</td>\n",
       "      <td>1986</td>\n",
       "      <td>Random House Childrens Books</td>\n",
       "      <td>http://images.amazon.com/images/P/0394884973.0...</td>\n",
       "      <td>http://images.amazon.com/images/P/0394884973.0...</td>\n",
       "      <td>http://images.amazon.com/images/P/0394884973.0...</td>\n",
       "    </tr>\n",
       "  </tbody>\n",
       "</table>\n",
       "<p>286 rows × 8 columns</p>\n",
       "</div>"
      ],
      "text/plain": [
       "              ISBN                                              title  \\\n",
       "10821   068985918X      \\Once More, With Feeling\\\" : The Script Book\"   \n",
       "12483   0752271474                         Purple Ronnie's Love Poems   \n",
       "14045   0881762024  Campbell's Creative Cooking With Soup: Over 19...   \n",
       "18533   0721401023                 Book of Trees (Nature, Series 536)   \n",
       "18614   1566475961  Na Wahine: Hawaiin Proverbs &amp; Inspirationa...   \n",
       "...            ...                                                ...   \n",
       "268513  0805401466  Guideposts Best Loved Stories: A Treasury of G...   \n",
       "268647  0895773767  Nature in America/Your A to Z Guide to Our Cou...   \n",
       "269175  0812066170  Watercolor (Barron's Art Handbooks: Purple Ser...   \n",
       "270639  0721407714           Hm the Queen (Famous People, Series 816)   \n",
       "271066  0394884973  Walt Disney Pictures Presents the Great Mouse ...   \n",
       "\n",
       "                      author yearOfPublication                      publisher  \\\n",
       "10821   Not Applicable (Na )              2002  Simon Spotlight Entertainment   \n",
       "12483   Not Applicable (Na )              2003               Boxtree, Limited   \n",
       "14045   Not Applicable (Na )              1990              Publications Intl   \n",
       "18533   Not Applicable (Na )              1986             Ladybird Books Ltd   \n",
       "18614   Not Applicable (Na )              2003           Booklines Hawaii Ltd   \n",
       "...                      ...               ...                            ...   \n",
       "268513  Not Applicable (Na )              1997      Broadman &amp; Holman Pub   \n",
       "268647  Not Applicable (Na )              1991               Putnam Pub Group   \n",
       "269175  Not Applicable (Na )              1996    Barron's Educational Series   \n",
       "270639  Not Applicable (Na )              1986             Ladybird Books Ltd   \n",
       "271066  Not Applicable (Na )              1986   Random House Childrens Books   \n",
       "\n",
       "                                                imageUrlS  \\\n",
       "10821   http://images.amazon.com/images/P/068985918X.0...   \n",
       "12483   http://images.amazon.com/images/P/0752271474.0...   \n",
       "14045   http://images.amazon.com/images/P/0881762024.0...   \n",
       "18533   http://images.amazon.com/images/P/0721401023.0...   \n",
       "18614   http://images.amazon.com/images/P/1566475961.0...   \n",
       "...                                                   ...   \n",
       "268513  http://images.amazon.com/images/P/0805401466.0...   \n",
       "268647  http://images.amazon.com/images/P/0895773767.0...   \n",
       "269175  http://images.amazon.com/images/P/0812066170.0...   \n",
       "270639  http://images.amazon.com/images/P/0721407714.0...   \n",
       "271066  http://images.amazon.com/images/P/0394884973.0...   \n",
       "\n",
       "                                                imageUrlM  \\\n",
       "10821   http://images.amazon.com/images/P/068985918X.0...   \n",
       "12483   http://images.amazon.com/images/P/0752271474.0...   \n",
       "14045   http://images.amazon.com/images/P/0881762024.0...   \n",
       "18533   http://images.amazon.com/images/P/0721401023.0...   \n",
       "18614   http://images.amazon.com/images/P/1566475961.0...   \n",
       "...                                                   ...   \n",
       "268513  http://images.amazon.com/images/P/0805401466.0...   \n",
       "268647  http://images.amazon.com/images/P/0895773767.0...   \n",
       "269175  http://images.amazon.com/images/P/0812066170.0...   \n",
       "270639  http://images.amazon.com/images/P/0721407714.0...   \n",
       "271066  http://images.amazon.com/images/P/0394884973.0...   \n",
       "\n",
       "                                                imageUrlL  \n",
       "10821   http://images.amazon.com/images/P/068985918X.0...  \n",
       "12483   http://images.amazon.com/images/P/0752271474.0...  \n",
       "14045   http://images.amazon.com/images/P/0881762024.0...  \n",
       "18533   http://images.amazon.com/images/P/0721401023.0...  \n",
       "18614   http://images.amazon.com/images/P/1566475961.0...  \n",
       "...                                                   ...  \n",
       "268513  http://images.amazon.com/images/P/0805401466.0...  \n",
       "268647  http://images.amazon.com/images/P/0895773767.0...  \n",
       "269175  http://images.amazon.com/images/P/0812066170.0...  \n",
       "270639  http://images.amazon.com/images/P/0721407714.0...  \n",
       "271066  http://images.amazon.com/images/P/0394884973.0...  \n",
       "\n",
       "[286 rows x 8 columns]"
      ]
     },
     "execution_count": 49,
     "metadata": {},
     "output_type": "execute_result"
    }
   ],
   "source": [
    "# we can see there is a list of books with auhtor not aplicable \n",
    "dfbooks.loc[dfbooks.author == 'Not Applicable (Na )',:]"
   ]
  },
  {
   "cell_type": "code",
   "execution_count": 50,
   "metadata": {},
   "outputs": [
    {
     "data": {
      "text/plain": [
       "0         2002\n",
       "1         2001\n",
       "2         1991\n",
       "3         1999\n",
       "4         1999\n",
       "          ... \n",
       "271355    1988\n",
       "271356    1991\n",
       "271357    2004\n",
       "271358    1996\n",
       "271359    2000\n",
       "Name: yearOfPublication, Length: 271360, dtype: object"
      ]
     },
     "execution_count": 50,
     "metadata": {},
     "output_type": "execute_result"
    }
   ],
   "source": [
    "# viewing datat in the yearOfPublication column\n",
    "dfbooks.yearOfPublication"
   ]
  },
  {
   "cell_type": "code",
   "execution_count": 51,
   "metadata": {},
   "outputs": [
    {
     "data": {
      "text/html": [
       "<div>\n",
       "<style scoped>\n",
       "    .dataframe tbody tr th:only-of-type {\n",
       "        vertical-align: middle;\n",
       "    }\n",
       "\n",
       "    .dataframe tbody tr th {\n",
       "        vertical-align: top;\n",
       "    }\n",
       "\n",
       "    .dataframe thead th {\n",
       "        text-align: right;\n",
       "    }\n",
       "</style>\n",
       "<table border=\"1\" class=\"dataframe\">\n",
       "  <thead>\n",
       "    <tr style=\"text-align: right;\">\n",
       "      <th></th>\n",
       "      <th>ISBN</th>\n",
       "      <th>title</th>\n",
       "      <th>author</th>\n",
       "      <th>yearOfPublication</th>\n",
       "      <th>publisher</th>\n",
       "      <th>imageUrlS</th>\n",
       "      <th>imageUrlM</th>\n",
       "      <th>imageUrlL</th>\n",
       "    </tr>\n",
       "  </thead>\n",
       "  <tbody>\n",
       "    <tr>\n",
       "      <th>176</th>\n",
       "      <td>3150000335</td>\n",
       "      <td>Kabale Und Liebe</td>\n",
       "      <td>Schiller</td>\n",
       "      <td>0</td>\n",
       "      <td>Philipp Reclam, Jun Verlag GmbH</td>\n",
       "      <td>http://images.amazon.com/images/P/3150000335.0...</td>\n",
       "      <td>http://images.amazon.com/images/P/3150000335.0...</td>\n",
       "      <td>http://images.amazon.com/images/P/3150000335.0...</td>\n",
       "    </tr>\n",
       "    <tr>\n",
       "      <th>188</th>\n",
       "      <td>342311360X</td>\n",
       "      <td>Die Liebe in Den Zelten</td>\n",
       "      <td>Gabriel Garcia Marquez</td>\n",
       "      <td>0</td>\n",
       "      <td>Deutscher Taschenbuch Verlag (DTV)</td>\n",
       "      <td>http://images.amazon.com/images/P/342311360X.0...</td>\n",
       "      <td>http://images.amazon.com/images/P/342311360X.0...</td>\n",
       "      <td>http://images.amazon.com/images/P/342311360X.0...</td>\n",
       "    </tr>\n",
       "    <tr>\n",
       "      <th>288</th>\n",
       "      <td>0571197639</td>\n",
       "      <td>Poisonwood Bible Edition Uk</td>\n",
       "      <td>Barbara Kingsolver</td>\n",
       "      <td>0</td>\n",
       "      <td>Faber Faber Inc</td>\n",
       "      <td>http://images.amazon.com/images/P/0571197639.0...</td>\n",
       "      <td>http://images.amazon.com/images/P/0571197639.0...</td>\n",
       "      <td>http://images.amazon.com/images/P/0571197639.0...</td>\n",
       "    </tr>\n",
       "    <tr>\n",
       "      <th>351</th>\n",
       "      <td>3596214629</td>\n",
       "      <td>Herr Der Fliegen (Fiction, Poetry and Drama)</td>\n",
       "      <td>Golding</td>\n",
       "      <td>0</td>\n",
       "      <td>Fischer Taschenbuch Verlag GmbH</td>\n",
       "      <td>http://images.amazon.com/images/P/3596214629.0...</td>\n",
       "      <td>http://images.amazon.com/images/P/3596214629.0...</td>\n",
       "      <td>http://images.amazon.com/images/P/3596214629.0...</td>\n",
       "    </tr>\n",
       "    <tr>\n",
       "      <th>542</th>\n",
       "      <td>8845229041</td>\n",
       "      <td>Biblioteca Universale Rizzoli: Sulla Sponda De...</td>\n",
       "      <td>P Coelho</td>\n",
       "      <td>0</td>\n",
       "      <td>Fabbri - RCS Libri</td>\n",
       "      <td>http://images.amazon.com/images/P/8845229041.0...</td>\n",
       "      <td>http://images.amazon.com/images/P/8845229041.0...</td>\n",
       "      <td>http://images.amazon.com/images/P/8845229041.0...</td>\n",
       "    </tr>\n",
       "    <tr>\n",
       "      <th>...</th>\n",
       "      <td>...</td>\n",
       "      <td>...</td>\n",
       "      <td>...</td>\n",
       "      <td>...</td>\n",
       "      <td>...</td>\n",
       "      <td>...</td>\n",
       "      <td>...</td>\n",
       "      <td>...</td>\n",
       "    </tr>\n",
       "    <tr>\n",
       "      <th>270794</th>\n",
       "      <td>014029953X</td>\n",
       "      <td>Foe (Essential.penguin S.)</td>\n",
       "      <td>J.M. Coetzee</td>\n",
       "      <td>0</td>\n",
       "      <td>Penguin Books Ltd</td>\n",
       "      <td>http://images.amazon.com/images/P/014029953X.0...</td>\n",
       "      <td>http://images.amazon.com/images/P/014029953X.0...</td>\n",
       "      <td>http://images.amazon.com/images/P/014029953X.0...</td>\n",
       "    </tr>\n",
       "    <tr>\n",
       "      <th>270913</th>\n",
       "      <td>0340571187</td>\n",
       "      <td>Postmens House</td>\n",
       "      <td>Maggie Hemingway</td>\n",
       "      <td>0</td>\n",
       "      <td>Trafalgar Square</td>\n",
       "      <td>http://images.amazon.com/images/P/0340571187.0...</td>\n",
       "      <td>http://images.amazon.com/images/P/0340571187.0...</td>\n",
       "      <td>http://images.amazon.com/images/P/0340571187.0...</td>\n",
       "    </tr>\n",
       "    <tr>\n",
       "      <th>271094</th>\n",
       "      <td>8427201079</td>\n",
       "      <td>El Misterio De Sittaford</td>\n",
       "      <td>Agatha Christie</td>\n",
       "      <td>0</td>\n",
       "      <td>Editorial Molino</td>\n",
       "      <td>http://images.amazon.com/images/P/8427201079.0...</td>\n",
       "      <td>http://images.amazon.com/images/P/8427201079.0...</td>\n",
       "      <td>http://images.amazon.com/images/P/8427201079.0...</td>\n",
       "    </tr>\n",
       "    <tr>\n",
       "      <th>271182</th>\n",
       "      <td>0887781721</td>\n",
       "      <td>Tom Penny</td>\n",
       "      <td>Tony German</td>\n",
       "      <td>0</td>\n",
       "      <td>P. Martin Associates</td>\n",
       "      <td>http://images.amazon.com/images/P/0887781721.0...</td>\n",
       "      <td>http://images.amazon.com/images/P/0887781721.0...</td>\n",
       "      <td>http://images.amazon.com/images/P/0887781721.0...</td>\n",
       "    </tr>\n",
       "    <tr>\n",
       "      <th>271196</th>\n",
       "      <td>3150013763</td>\n",
       "      <td>Der Hofmeister</td>\n",
       "      <td>Jakob Lenz</td>\n",
       "      <td>0</td>\n",
       "      <td>Philipp Reclam, Jun Verlag GmbH</td>\n",
       "      <td>http://images.amazon.com/images/P/3150013763.0...</td>\n",
       "      <td>http://images.amazon.com/images/P/3150013763.0...</td>\n",
       "      <td>http://images.amazon.com/images/P/3150013763.0...</td>\n",
       "    </tr>\n",
       "  </tbody>\n",
       "</table>\n",
       "<p>3570 rows × 8 columns</p>\n",
       "</div>"
      ],
      "text/plain": [
       "              ISBN                                              title  \\\n",
       "176     3150000335                                   Kabale Und Liebe   \n",
       "188     342311360X                            Die Liebe in Den Zelten   \n",
       "288     0571197639                        Poisonwood Bible Edition Uk   \n",
       "351     3596214629       Herr Der Fliegen (Fiction, Poetry and Drama)   \n",
       "542     8845229041  Biblioteca Universale Rizzoli: Sulla Sponda De...   \n",
       "...            ...                                                ...   \n",
       "270794  014029953X                         Foe (Essential.penguin S.)   \n",
       "270913  0340571187                                     Postmens House   \n",
       "271094  8427201079                           El Misterio De Sittaford   \n",
       "271182  0887781721                                          Tom Penny   \n",
       "271196  3150013763                                     Der Hofmeister   \n",
       "\n",
       "                        author yearOfPublication  \\\n",
       "176                   Schiller                 0   \n",
       "188     Gabriel Garcia Marquez                 0   \n",
       "288         Barbara Kingsolver                 0   \n",
       "351                    Golding                 0   \n",
       "542                   P Coelho                 0   \n",
       "...                        ...               ...   \n",
       "270794            J.M. Coetzee                 0   \n",
       "270913        Maggie Hemingway                 0   \n",
       "271094         Agatha Christie                 0   \n",
       "271182             Tony German                 0   \n",
       "271196              Jakob Lenz                 0   \n",
       "\n",
       "                                 publisher  \\\n",
       "176        Philipp Reclam, Jun Verlag GmbH   \n",
       "188     Deutscher Taschenbuch Verlag (DTV)   \n",
       "288                        Faber Faber Inc   \n",
       "351        Fischer Taschenbuch Verlag GmbH   \n",
       "542                     Fabbri - RCS Libri   \n",
       "...                                    ...   \n",
       "270794                   Penguin Books Ltd   \n",
       "270913                    Trafalgar Square   \n",
       "271094                    Editorial Molino   \n",
       "271182                P. Martin Associates   \n",
       "271196     Philipp Reclam, Jun Verlag GmbH   \n",
       "\n",
       "                                                imageUrlS  \\\n",
       "176     http://images.amazon.com/images/P/3150000335.0...   \n",
       "188     http://images.amazon.com/images/P/342311360X.0...   \n",
       "288     http://images.amazon.com/images/P/0571197639.0...   \n",
       "351     http://images.amazon.com/images/P/3596214629.0...   \n",
       "542     http://images.amazon.com/images/P/8845229041.0...   \n",
       "...                                                   ...   \n",
       "270794  http://images.amazon.com/images/P/014029953X.0...   \n",
       "270913  http://images.amazon.com/images/P/0340571187.0...   \n",
       "271094  http://images.amazon.com/images/P/8427201079.0...   \n",
       "271182  http://images.amazon.com/images/P/0887781721.0...   \n",
       "271196  http://images.amazon.com/images/P/3150013763.0...   \n",
       "\n",
       "                                                imageUrlM  \\\n",
       "176     http://images.amazon.com/images/P/3150000335.0...   \n",
       "188     http://images.amazon.com/images/P/342311360X.0...   \n",
       "288     http://images.amazon.com/images/P/0571197639.0...   \n",
       "351     http://images.amazon.com/images/P/3596214629.0...   \n",
       "542     http://images.amazon.com/images/P/8845229041.0...   \n",
       "...                                                   ...   \n",
       "270794  http://images.amazon.com/images/P/014029953X.0...   \n",
       "270913  http://images.amazon.com/images/P/0340571187.0...   \n",
       "271094  http://images.amazon.com/images/P/8427201079.0...   \n",
       "271182  http://images.amazon.com/images/P/0887781721.0...   \n",
       "271196  http://images.amazon.com/images/P/3150013763.0...   \n",
       "\n",
       "                                                imageUrlL  \n",
       "176     http://images.amazon.com/images/P/3150000335.0...  \n",
       "188     http://images.amazon.com/images/P/342311360X.0...  \n",
       "288     http://images.amazon.com/images/P/0571197639.0...  \n",
       "351     http://images.amazon.com/images/P/3596214629.0...  \n",
       "542     http://images.amazon.com/images/P/8845229041.0...  \n",
       "...                                                   ...  \n",
       "270794  http://images.amazon.com/images/P/014029953X.0...  \n",
       "270913  http://images.amazon.com/images/P/0340571187.0...  \n",
       "271094  http://images.amazon.com/images/P/8427201079.0...  \n",
       "271182  http://images.amazon.com/images/P/0887781721.0...  \n",
       "271196  http://images.amazon.com/images/P/3150013763.0...  \n",
       "\n",
       "[3570 rows x 8 columns]"
      ]
     },
     "execution_count": 51,
     "metadata": {},
     "output_type": "execute_result"
    }
   ],
   "source": [
    "# checking all columns who have a year of publication of value 0\n",
    "dfbooks.loc[dfbooks.yearOfPublication == 0,:]"
   ]
  },
  {
   "cell_type": "markdown",
   "metadata": {},
   "source": [
    "Let's inspect the data in yearOfPublication once again. We can see value of 0.\n",
    "We can see that there are incorrect values for since the data was collected in 2004, meaning we are not supposed to be seeing any yearOfPublication data more than 2004 and even worse more than our current year 2019 like 2024. We can already conclude that most of the values in yearOfPublication are incorrect. We will try to correct the dataset by setting invalid values such as 0 and more than 2004 to NaN."
   ]
  },
  {
   "cell_type": "code",
   "execution_count": 52,
   "metadata": {},
   "outputs": [],
   "source": [
    "# Changing yearOfPublication column to numeric\n",
    "dfbooks.yearOfPublication=pd.to_numeric(dfbooks.yearOfPublication, errors='coerce')"
   ]
  },
  {
   "cell_type": "code",
   "execution_count": 53,
   "metadata": {},
   "outputs": [
    {
     "data": {
      "text/plain": [
       "array([2002., 2001., 1991., 1999., 2000., 1993., 1996., 1988., 2004.,\n",
       "       1998., 1994., 2003., 1997., 1983., 1979., 1995., 1982., 1985.,\n",
       "       1992., 1986., 1978., 1980., 1952., 1987., 1990., 1981., 1989.,\n",
       "       1984.,   nan, 1968., 1961., 1958., 1974., 1976., 1971., 1977.,\n",
       "       1975., 1965., 1941., 1970., 1962., 1973., 1972., 1960., 1966.,\n",
       "       1920., 1956., 1959., 1953., 1951., 1942., 1963., 1964., 1969.,\n",
       "       1954., 1950., 1967., 1957., 1940., 1937., 1955., 1946., 1936.,\n",
       "       1930., 1925., 1948., 1943., 1947., 1945., 1923., 1939., 1926.,\n",
       "       1938., 1911., 1904., 1949., 1932., 1928., 1929., 1927., 1931.,\n",
       "       1914., 1934., 1910., 1933., 1902., 1924., 1921., 1900., 1944.,\n",
       "       1917., 1901., 1908., 1906., 1935., 1806., 1909., 1378., 1919.,\n",
       "       1922., 1897., 1376.])"
      ]
     },
     "execution_count": 53,
     "metadata": {},
     "output_type": "execute_result"
    }
   ],
   "source": [
    "# Setting the invalid yearOfPublication entries to NaN\n",
    "dfbooks.loc[(dfbooks.yearOfPublication == 0), 'yearOfPublication'] = np.nan\n",
    "dfbooks.loc[(dfbooks.yearOfPublication > 2004), 'yearOfPublication'] = np.nan\n",
    "dfbooks.yearOfPublication.unique()"
   ]
  },
  {
   "cell_type": "code",
   "execution_count": 54,
   "metadata": {},
   "outputs": [
    {
     "data": {
      "text/plain": [
       "array([2002., 2001., 1991., 1999., 2000., 1993., 1996., 1988., 2004.,\n",
       "       1998., 1994., 2003., 1997., 1983., 1979., 1995., 1982., 1985.,\n",
       "       1992., 1986., 1978., 1980., 1952., 1987., 1990., 1981., 1989.,\n",
       "       1984., 1968., 1961., 1958., 1974., 1976., 1971., 1977., 1975.,\n",
       "       1965., 1941., 1970., 1962., 1973., 1972., 1960., 1966., 1920.,\n",
       "       1956., 1959., 1953., 1951., 1942., 1963., 1964., 1969., 1954.,\n",
       "       1950., 1967., 1957., 1940., 1937., 1955., 1946., 1936., 1930.,\n",
       "       1925., 1948., 1943., 1947., 1945., 1923., 1939., 1926., 1938.,\n",
       "       1911., 1904., 1949., 1932., 1928., 1929., 1927., 1931., 1914.,\n",
       "       1934., 1910., 1933., 1902., 1924., 1921., 1900., 1944., 1917.,\n",
       "       1901., 1908., 1906., 1935., 1806., 1909., 1378., 1919., 1922.,\n",
       "       1897., 1376.])"
      ]
     },
     "execution_count": 54,
     "metadata": {},
     "output_type": "execute_result"
    }
   ],
   "source": [
    "# To assign values to NaNs, lets replace using the mean value for the yearOfPublication column\n",
    "dfbooks.yearOfPublication.fillna(round(dfbooks.yearOfPublication.mean()), inplace=True)\n",
    "dfbooks.yearOfPublication.unique()"
   ]
  },
  {
   "cell_type": "code",
   "execution_count": 55,
   "metadata": {},
   "outputs": [
    {
     "data": {
      "text/plain": [
       "0"
      ]
     },
     "execution_count": 55,
     "metadata": {},
     "output_type": "execute_result"
    }
   ],
   "source": [
    "# Confirming if there are no NaNs present\n",
    "dfbooks.yearOfPublication.isnull().sum()"
   ]
  },
  {
   "cell_type": "code",
   "execution_count": 56,
   "metadata": {},
   "outputs": [
    {
     "data": {
      "text/html": [
       "<div>\n",
       "<style scoped>\n",
       "    .dataframe tbody tr th:only-of-type {\n",
       "        vertical-align: middle;\n",
       "    }\n",
       "\n",
       "    .dataframe tbody tr th {\n",
       "        vertical-align: top;\n",
       "    }\n",
       "\n",
       "    .dataframe thead th {\n",
       "        text-align: right;\n",
       "    }\n",
       "</style>\n",
       "<table border=\"1\" class=\"dataframe\">\n",
       "  <thead>\n",
       "    <tr style=\"text-align: right;\">\n",
       "      <th></th>\n",
       "      <th>ISBN</th>\n",
       "      <th>title</th>\n",
       "      <th>author</th>\n",
       "      <th>yearOfPublication</th>\n",
       "      <th>publisher</th>\n",
       "      <th>imageUrlS</th>\n",
       "      <th>imageUrlM</th>\n",
       "      <th>imageUrlL</th>\n",
       "    </tr>\n",
       "  </thead>\n",
       "  <tbody>\n",
       "    <tr>\n",
       "      <th>153582</th>\n",
       "      <td>0345357396</td>\n",
       "      <td>Escalation (Gundam Mobile Suit #2)</td>\n",
       "      <td>Yoshiuki Tomino</td>\n",
       "      <td>1990</td>\n",
       "      <td>Del Rey Books</td>\n",
       "      <td>http://images.amazon.com/images/P/0345357396.0...</td>\n",
       "      <td>http://images.amazon.com/images/P/0345357396.0...</td>\n",
       "      <td>http://images.amazon.com/images/P/0345357396.0...</td>\n",
       "    </tr>\n",
       "    <tr>\n",
       "      <th>111490</th>\n",
       "      <td>1840651059</td>\n",
       "      <td>The Civil War</td>\n",
       "      <td>William C. Davis</td>\n",
       "      <td>1999</td>\n",
       "      <td>Chrysalis Books</td>\n",
       "      <td>http://images.amazon.com/images/P/1840651059.0...</td>\n",
       "      <td>http://images.amazon.com/images/P/1840651059.0...</td>\n",
       "      <td>http://images.amazon.com/images/P/1840651059.0...</td>\n",
       "    </tr>\n",
       "    <tr>\n",
       "      <th>224576</th>\n",
       "      <td>0967426804</td>\n",
       "      <td>The Throne of God</td>\n",
       "      <td>Val Smith</td>\n",
       "      <td>1999</td>\n",
       "      <td>SBG Publishing Company</td>\n",
       "      <td>http://images.amazon.com/images/P/0967426804.0...</td>\n",
       "      <td>http://images.amazon.com/images/P/0967426804.0...</td>\n",
       "      <td>http://images.amazon.com/images/P/0967426804.0...</td>\n",
       "    </tr>\n",
       "    <tr>\n",
       "      <th>141794</th>\n",
       "      <td>0393975088</td>\n",
       "      <td>Norton Anthology of Short Fiction: Sixth Edition</td>\n",
       "      <td>R. V. Cassill</td>\n",
       "      <td>2000</td>\n",
       "      <td>W.W. Norton &amp;amp; Company</td>\n",
       "      <td>http://images.amazon.com/images/P/0393975088.0...</td>\n",
       "      <td>http://images.amazon.com/images/P/0393975088.0...</td>\n",
       "      <td>http://images.amazon.com/images/P/0393975088.0...</td>\n",
       "    </tr>\n",
       "    <tr>\n",
       "      <th>23368</th>\n",
       "      <td>0553277006</td>\n",
       "      <td>Return to Eden (Spectra Series)</td>\n",
       "      <td>Harry Harrison</td>\n",
       "      <td>1989</td>\n",
       "      <td>Spectra Books</td>\n",
       "      <td>http://images.amazon.com/images/P/0553277006.0...</td>\n",
       "      <td>http://images.amazon.com/images/P/0553277006.0...</td>\n",
       "      <td>http://images.amazon.com/images/P/0553277006.0...</td>\n",
       "    </tr>\n",
       "  </tbody>\n",
       "</table>\n",
       "</div>"
      ],
      "text/plain": [
       "              ISBN                                             title  \\\n",
       "153582  0345357396                Escalation (Gundam Mobile Suit #2)   \n",
       "111490  1840651059                                     The Civil War   \n",
       "224576  0967426804                                 The Throne of God   \n",
       "141794  0393975088  Norton Anthology of Short Fiction: Sixth Edition   \n",
       "23368   0553277006                   Return to Eden (Spectra Series)   \n",
       "\n",
       "                  author  yearOfPublication                  publisher  \\\n",
       "153582   Yoshiuki Tomino               1990              Del Rey Books   \n",
       "111490  William C. Davis               1999            Chrysalis Books   \n",
       "224576         Val Smith               1999     SBG Publishing Company   \n",
       "141794     R. V. Cassill               2000  W.W. Norton &amp; Company   \n",
       "23368     Harry Harrison               1989              Spectra Books   \n",
       "\n",
       "                                                imageUrlS  \\\n",
       "153582  http://images.amazon.com/images/P/0345357396.0...   \n",
       "111490  http://images.amazon.com/images/P/1840651059.0...   \n",
       "224576  http://images.amazon.com/images/P/0967426804.0...   \n",
       "141794  http://images.amazon.com/images/P/0393975088.0...   \n",
       "23368   http://images.amazon.com/images/P/0553277006.0...   \n",
       "\n",
       "                                                imageUrlM  \\\n",
       "153582  http://images.amazon.com/images/P/0345357396.0...   \n",
       "111490  http://images.amazon.com/images/P/1840651059.0...   \n",
       "224576  http://images.amazon.com/images/P/0967426804.0...   \n",
       "141794  http://images.amazon.com/images/P/0393975088.0...   \n",
       "23368   http://images.amazon.com/images/P/0553277006.0...   \n",
       "\n",
       "                                                imageUrlL  \n",
       "153582  http://images.amazon.com/images/P/0345357396.0...  \n",
       "111490  http://images.amazon.com/images/P/1840651059.0...  \n",
       "224576  http://images.amazon.com/images/P/0967426804.0...  \n",
       "141794  http://images.amazon.com/images/P/0393975088.0...  \n",
       "23368   http://images.amazon.com/images/P/0553277006.0...  "
      ]
     },
     "execution_count": 56,
     "metadata": {},
     "output_type": "execute_result"
    }
   ],
   "source": [
    "# Converting datatype for yearOfPublication column to int32\n",
    "dfbooks.yearOfPublication = dfbooks.yearOfPublication.astype(np.int32)\n",
    "dfbooks.sample(5)"
   ]
  },
  {
   "cell_type": "code",
   "execution_count": 57,
   "metadata": {},
   "outputs": [
    {
     "data": {
      "text/plain": [
       "<matplotlib.axes._subplots.AxesSubplot at 0x7fb6a551a860>"
      ]
     },
     "execution_count": 57,
     "metadata": {},
     "output_type": "execute_result"
    },
    {
     "data": {
      "image/png": "[encoded data removed]",
      "text/plain": [
       "<Figure size 720x720 with 1 Axes>"
      ]
     },
     "metadata": {
      "needs_background": "light"
     },
     "output_type": "display_data"
    }
   ],
   "source": [
    "# Plot of Publications by Year\n",
    "\n",
    "sns.distplot(dfbooks.yearOfPublication, kde=False, hist_kws={\"range\": [1950,2020]})"
   ]
  },
  {
   "cell_type": "markdown",
   "metadata": {},
   "source": [
    "We can observe that the dataset contains mostly books that were published between 2000 and 2005"
   ]
  },
  {
   "cell_type": "code",
   "execution_count": 58,
   "metadata": {},
   "outputs": [
    {
     "data": {
      "text/html": [
       "<div>\n",
       "<style scoped>\n",
       "    .dataframe tbody tr th:only-of-type {\n",
       "        vertical-align: middle;\n",
       "    }\n",
       "\n",
       "    .dataframe tbody tr th {\n",
       "        vertical-align: top;\n",
       "    }\n",
       "\n",
       "    .dataframe thead th {\n",
       "        text-align: right;\n",
       "    }\n",
       "</style>\n",
       "<table border=\"1\" class=\"dataframe\">\n",
       "  <thead>\n",
       "    <tr style=\"text-align: right;\">\n",
       "      <th></th>\n",
       "      <th>ISBN</th>\n",
       "      <th>title</th>\n",
       "      <th>author</th>\n",
       "      <th>yearOfPublication</th>\n",
       "      <th>publisher</th>\n",
       "    </tr>\n",
       "  </thead>\n",
       "  <tbody>\n",
       "    <tr>\n",
       "      <th>0</th>\n",
       "      <td>0195153448</td>\n",
       "      <td>Classical Mythology</td>\n",
       "      <td>Mark P. O. Morford</td>\n",
       "      <td>2002</td>\n",
       "      <td>Oxford University Press</td>\n",
       "    </tr>\n",
       "    <tr>\n",
       "      <th>1</th>\n",
       "      <td>0002005018</td>\n",
       "      <td>Clara Callan</td>\n",
       "      <td>Richard Bruce Wright</td>\n",
       "      <td>2001</td>\n",
       "      <td>HarperFlamingo Canada</td>\n",
       "    </tr>\n",
       "    <tr>\n",
       "      <th>2</th>\n",
       "      <td>0060973129</td>\n",
       "      <td>Decision in Normandy</td>\n",
       "      <td>Carlo D'Este</td>\n",
       "      <td>1991</td>\n",
       "      <td>HarperPerennial</td>\n",
       "    </tr>\n",
       "    <tr>\n",
       "      <th>3</th>\n",
       "      <td>0374157065</td>\n",
       "      <td>Flu: The Story of the Great Influenza Pandemic...</td>\n",
       "      <td>Gina Bari Kolata</td>\n",
       "      <td>1999</td>\n",
       "      <td>Farrar Straus Giroux</td>\n",
       "    </tr>\n",
       "    <tr>\n",
       "      <th>4</th>\n",
       "      <td>0393045218</td>\n",
       "      <td>The Mummies of Urumchi</td>\n",
       "      <td>E. J. W. Barber</td>\n",
       "      <td>1999</td>\n",
       "      <td>W. W. Norton &amp;amp; Company</td>\n",
       "    </tr>\n",
       "  </tbody>\n",
       "</table>\n",
       "</div>"
      ],
      "text/plain": [
       "         ISBN                                              title  \\\n",
       "0  0195153448                                Classical Mythology   \n",
       "1  0002005018                                       Clara Callan   \n",
       "2  0060973129                               Decision in Normandy   \n",
       "3  0374157065  Flu: The Story of the Great Influenza Pandemic...   \n",
       "4  0393045218                             The Mummies of Urumchi   \n",
       "\n",
       "                 author  yearOfPublication                   publisher  \n",
       "0    Mark P. O. Morford               2002     Oxford University Press  \n",
       "1  Richard Bruce Wright               2001       HarperFlamingo Canada  \n",
       "2          Carlo D'Este               1991             HarperPerennial  \n",
       "3      Gina Bari Kolata               1999        Farrar Straus Giroux  \n",
       "4       E. J. W. Barber               1999  W. W. Norton &amp; Company  "
      ]
     },
     "execution_count": 58,
     "metadata": {},
     "output_type": "execute_result"
    }
   ],
   "source": [
    "# Let's drop the columns \"ImageUrlS\" and \"ImageUrlM\" and  \"ImageUrlL\"\n",
    "dfbooks.drop(columns=['imageUrlS', 'imageUrlM', 'imageUrlL'], inplace=True) # drop image-url columns\n",
    "dfbooks.head()"
   ]
  },
  {
   "cell_type": "code",
   "execution_count": 59,
   "metadata": {},
   "outputs": [
    {
     "name": "stdout",
     "output_type": "stream",
     "text": [
      "No. of unique books: 271360 | All book entries: 271360\n"
     ]
    }
   ],
   "source": [
    "# Checking that there are no duplicated book entries\n",
    "uniq_books = dfbooks.ISBN.nunique()\n",
    "all_books = dfbooks.ISBN.count()\n",
    "print(f'No. of unique books: {uniq_books} | All book entries: {all_books}')"
   ]
  },
  {
   "cell_type": "markdown",
   "metadata": {},
   "source": [
    "## Ratings Dataset"
   ]
  },
  {
   "cell_type": "code",
   "execution_count": 60,
   "metadata": {},
   "outputs": [
    {
     "data": {
      "text/plain": [
       "Index(['userID', 'ISBN', 'rating'], dtype='object')"
      ]
     },
     "execution_count": 60,
     "metadata": {},
     "output_type": "execute_result"
    }
   ],
   "source": [
    "# viewing columns in Ratings dataframe\n",
    "dfratings.columns"
   ]
  },
  {
   "cell_type": "code",
   "execution_count": 61,
   "metadata": {},
   "outputs": [
    {
     "name": "stdout",
     "output_type": "stream",
     "text": [
      "<class 'pandas.core.frame.DataFrame'>\n",
      "RangeIndex: 1149780 entries, 0 to 1149779\n",
      "Data columns (total 3 columns):\n",
      "userID    1149780 non-null int64\n",
      "ISBN      1149780 non-null object\n",
      "rating    1149780 non-null int64\n",
      "dtypes: int64(2), object(1)\n",
      "memory usage: 26.3+ MB\n"
     ]
    }
   ],
   "source": [
    "# checks details for ratings dataframe using info()\n",
    "dfratings.info()"
   ]
  },
  {
   "cell_type": "code",
   "execution_count": 62,
   "metadata": {},
   "outputs": [
    {
     "data": {
      "text/plain": [
       "userID    1149780\n",
       "ISBN      1149780\n",
       "rating    1149780\n",
       "dtype: int64"
      ]
     },
     "execution_count": 62,
     "metadata": {},
     "output_type": "execute_result"
    }
   ],
   "source": [
    "# viewing count of records in each column\n",
    "dfratings.count()"
   ]
  },
  {
   "cell_type": "code",
   "execution_count": 63,
   "metadata": {},
   "outputs": [
    {
     "data": {
      "text/plain": [
       "userID    0\n",
       "ISBN      0\n",
       "rating    0\n",
       "dtype: int64"
      ]
     },
     "execution_count": 63,
     "metadata": {},
     "output_type": "execute_result"
    }
   ],
   "source": [
    "# Checking for any missing values\n",
    "dfratings.isnull().sum()"
   ]
  },
  {
   "cell_type": "code",
   "execution_count": 64,
   "metadata": {
    "scrolled": true
   },
   "outputs": [
    {
     "data": {
      "text/html": [
       "<div>\n",
       "<style scoped>\n",
       "    .dataframe tbody tr th:only-of-type {\n",
       "        vertical-align: middle;\n",
       "    }\n",
       "\n",
       "    .dataframe tbody tr th {\n",
       "        vertical-align: top;\n",
       "    }\n",
       "\n",
       "    .dataframe thead th {\n",
       "        text-align: right;\n",
       "    }\n",
       "</style>\n",
       "<table border=\"1\" class=\"dataframe\">\n",
       "  <thead>\n",
       "    <tr style=\"text-align: right;\">\n",
       "      <th></th>\n",
       "      <th>userID</th>\n",
       "      <th>ISBN</th>\n",
       "      <th>rating</th>\n",
       "    </tr>\n",
       "  </thead>\n",
       "  <tbody>\n",
       "    <tr>\n",
       "      <th>count</th>\n",
       "      <td>1.149780e+06</td>\n",
       "      <td>1149780</td>\n",
       "      <td>1.149780e+06</td>\n",
       "    </tr>\n",
       "    <tr>\n",
       "      <th>unique</th>\n",
       "      <td>NaN</td>\n",
       "      <td>340556</td>\n",
       "      <td>NaN</td>\n",
       "    </tr>\n",
       "    <tr>\n",
       "      <th>top</th>\n",
       "      <td>NaN</td>\n",
       "      <td>0971880107</td>\n",
       "      <td>NaN</td>\n",
       "    </tr>\n",
       "    <tr>\n",
       "      <th>freq</th>\n",
       "      <td>NaN</td>\n",
       "      <td>2502</td>\n",
       "      <td>NaN</td>\n",
       "    </tr>\n",
       "    <tr>\n",
       "      <th>mean</th>\n",
       "      <td>1.403864e+05</td>\n",
       "      <td>NaN</td>\n",
       "      <td>2.866950e+00</td>\n",
       "    </tr>\n",
       "    <tr>\n",
       "      <th>std</th>\n",
       "      <td>8.056228e+04</td>\n",
       "      <td>NaN</td>\n",
       "      <td>3.854184e+00</td>\n",
       "    </tr>\n",
       "    <tr>\n",
       "      <th>min</th>\n",
       "      <td>2.000000e+00</td>\n",
       "      <td>NaN</td>\n",
       "      <td>0.000000e+00</td>\n",
       "    </tr>\n",
       "    <tr>\n",
       "      <th>25%</th>\n",
       "      <td>7.034500e+04</td>\n",
       "      <td>NaN</td>\n",
       "      <td>0.000000e+00</td>\n",
       "    </tr>\n",
       "    <tr>\n",
       "      <th>50%</th>\n",
       "      <td>1.410100e+05</td>\n",
       "      <td>NaN</td>\n",
       "      <td>0.000000e+00</td>\n",
       "    </tr>\n",
       "    <tr>\n",
       "      <th>75%</th>\n",
       "      <td>2.110280e+05</td>\n",
       "      <td>NaN</td>\n",
       "      <td>7.000000e+00</td>\n",
       "    </tr>\n",
       "    <tr>\n",
       "      <th>max</th>\n",
       "      <td>2.788540e+05</td>\n",
       "      <td>NaN</td>\n",
       "      <td>1.000000e+01</td>\n",
       "    </tr>\n",
       "  </tbody>\n",
       "</table>\n",
       "</div>"
      ],
      "text/plain": [
       "              userID        ISBN        rating\n",
       "count   1.149780e+06     1149780  1.149780e+06\n",
       "unique           NaN      340556           NaN\n",
       "top              NaN  0971880107           NaN\n",
       "freq             NaN        2502           NaN\n",
       "mean    1.403864e+05         NaN  2.866950e+00\n",
       "std     8.056228e+04         NaN  3.854184e+00\n",
       "min     2.000000e+00         NaN  0.000000e+00\n",
       "25%     7.034500e+04         NaN  0.000000e+00\n",
       "50%     1.410100e+05         NaN  0.000000e+00\n",
       "75%     2.110280e+05         NaN  7.000000e+00\n",
       "max     2.788540e+05         NaN  1.000000e+01"
      ]
     },
     "execution_count": 64,
     "metadata": {},
     "output_type": "execute_result"
    }
   ],
   "source": [
    "# Viewing description of all columns of Ratings dataframe  \n",
    "dfratings.describe(include='all')"
   ]
  },
  {
   "cell_type": "code",
   "execution_count": 65,
   "metadata": {},
   "outputs": [
    {
     "data": {
      "text/plain": [
       "0          False\n",
       "1          False\n",
       "2          False\n",
       "3          False\n",
       "4          False\n",
       "           ...  \n",
       "1149775    False\n",
       "1149776    False\n",
       "1149777    False\n",
       "1149778    False\n",
       "1149779    False\n",
       "Length: 1149780, dtype: bool"
      ]
     },
     "execution_count": 65,
     "metadata": {},
     "output_type": "execute_result"
    }
   ],
   "source": [
    "# Checking for any duplicates\n",
    "dfratings.duplicated()"
   ]
  },
  {
   "cell_type": "code",
   "execution_count": 66,
   "metadata": {},
   "outputs": [
    {
     "data": {
      "text/html": [
       "<div>\n",
       "<style scoped>\n",
       "    .dataframe tbody tr th:only-of-type {\n",
       "        vertical-align: middle;\n",
       "    }\n",
       "\n",
       "    .dataframe tbody tr th {\n",
       "        vertical-align: top;\n",
       "    }\n",
       "\n",
       "    .dataframe thead th {\n",
       "        text-align: right;\n",
       "    }\n",
       "</style>\n",
       "<table border=\"1\" class=\"dataframe\">\n",
       "  <thead>\n",
       "    <tr style=\"text-align: right;\">\n",
       "      <th></th>\n",
       "      <th>userID</th>\n",
       "      <th>ISBN</th>\n",
       "      <th>rating</th>\n",
       "    </tr>\n",
       "  </thead>\n",
       "  <tbody>\n",
       "    <tr>\n",
       "      <th>0</th>\n",
       "      <td>276725</td>\n",
       "      <td>034545104X</td>\n",
       "      <td>0</td>\n",
       "    </tr>\n",
       "    <tr>\n",
       "      <th>2</th>\n",
       "      <td>276727</td>\n",
       "      <td>0446520802</td>\n",
       "      <td>0</td>\n",
       "    </tr>\n",
       "    <tr>\n",
       "      <th>5</th>\n",
       "      <td>276733</td>\n",
       "      <td>2080674722</td>\n",
       "      <td>0</td>\n",
       "    </tr>\n",
       "    <tr>\n",
       "      <th>10</th>\n",
       "      <td>276746</td>\n",
       "      <td>0425115801</td>\n",
       "      <td>0</td>\n",
       "    </tr>\n",
       "    <tr>\n",
       "      <th>11</th>\n",
       "      <td>276746</td>\n",
       "      <td>0449006522</td>\n",
       "      <td>0</td>\n",
       "    </tr>\n",
       "    <tr>\n",
       "      <th>...</th>\n",
       "      <td>...</td>\n",
       "      <td>...</td>\n",
       "      <td>...</td>\n",
       "    </tr>\n",
       "    <tr>\n",
       "      <th>1149769</th>\n",
       "      <td>276704</td>\n",
       "      <td>059032120X</td>\n",
       "      <td>0</td>\n",
       "    </tr>\n",
       "    <tr>\n",
       "      <th>1149770</th>\n",
       "      <td>276704</td>\n",
       "      <td>0679752714</td>\n",
       "      <td>0</td>\n",
       "    </tr>\n",
       "    <tr>\n",
       "      <th>1149772</th>\n",
       "      <td>276704</td>\n",
       "      <td>080410526X</td>\n",
       "      <td>0</td>\n",
       "    </tr>\n",
       "    <tr>\n",
       "      <th>1149774</th>\n",
       "      <td>276704</td>\n",
       "      <td>0876044011</td>\n",
       "      <td>0</td>\n",
       "    </tr>\n",
       "    <tr>\n",
       "      <th>1149776</th>\n",
       "      <td>276706</td>\n",
       "      <td>0679447156</td>\n",
       "      <td>0</td>\n",
       "    </tr>\n",
       "  </tbody>\n",
       "</table>\n",
       "<p>716109 rows × 3 columns</p>\n",
       "</div>"
      ],
      "text/plain": [
       "         userID        ISBN  rating\n",
       "0        276725  034545104X       0\n",
       "2        276727  0446520802       0\n",
       "5        276733  2080674722       0\n",
       "10       276746  0425115801       0\n",
       "11       276746  0449006522       0\n",
       "...         ...         ...     ...\n",
       "1149769  276704  059032120X       0\n",
       "1149770  276704  0679752714       0\n",
       "1149772  276704  080410526X       0\n",
       "1149774  276704  0876044011       0\n",
       "1149776  276706  0679447156       0\n",
       "\n",
       "[716109 rows x 3 columns]"
      ]
     },
     "execution_count": 66,
     "metadata": {},
     "output_type": "execute_result"
    }
   ],
   "source": [
    "# Return the list of Books with the lowest rating:\n",
    "dfratings[dfratings.rating == dfratings.rating.min()]"
   ]
  },
  {
   "cell_type": "code",
   "execution_count": 67,
   "metadata": {},
   "outputs": [
    {
     "data": {
      "text/html": [
       "<div>\n",
       "<style scoped>\n",
       "    .dataframe tbody tr th:only-of-type {\n",
       "        vertical-align: middle;\n",
       "    }\n",
       "\n",
       "    .dataframe tbody tr th {\n",
       "        vertical-align: top;\n",
       "    }\n",
       "\n",
       "    .dataframe thead th {\n",
       "        text-align: right;\n",
       "    }\n",
       "</style>\n",
       "<table border=\"1\" class=\"dataframe\">\n",
       "  <thead>\n",
       "    <tr style=\"text-align: right;\">\n",
       "      <th></th>\n",
       "      <th>userID</th>\n",
       "      <th>ISBN</th>\n",
       "      <th>rating</th>\n",
       "    </tr>\n",
       "  </thead>\n",
       "  <tbody>\n",
       "    <tr>\n",
       "      <th>9</th>\n",
       "      <td>276745</td>\n",
       "      <td>342310538</td>\n",
       "      <td>10</td>\n",
       "    </tr>\n",
       "    <tr>\n",
       "      <th>30</th>\n",
       "      <td>276760</td>\n",
       "      <td>8440682697</td>\n",
       "      <td>10</td>\n",
       "    </tr>\n",
       "    <tr>\n",
       "      <th>61</th>\n",
       "      <td>276772</td>\n",
       "      <td>3499230933</td>\n",
       "      <td>10</td>\n",
       "    </tr>\n",
       "    <tr>\n",
       "      <th>62</th>\n",
       "      <td>276772</td>\n",
       "      <td>3596151465</td>\n",
       "      <td>10</td>\n",
       "    </tr>\n",
       "    <tr>\n",
       "      <th>85</th>\n",
       "      <td>276788</td>\n",
       "      <td>055310666X</td>\n",
       "      <td>10</td>\n",
       "    </tr>\n",
       "    <tr>\n",
       "      <th>...</th>\n",
       "      <td>...</td>\n",
       "      <td>...</td>\n",
       "      <td>...</td>\n",
       "    </tr>\n",
       "    <tr>\n",
       "      <th>1149743</th>\n",
       "      <td>276688</td>\n",
       "      <td>0836218655</td>\n",
       "      <td>10</td>\n",
       "    </tr>\n",
       "    <tr>\n",
       "      <th>1149744</th>\n",
       "      <td>276688</td>\n",
       "      <td>0836236688</td>\n",
       "      <td>10</td>\n",
       "    </tr>\n",
       "    <tr>\n",
       "      <th>1149745</th>\n",
       "      <td>276688</td>\n",
       "      <td>0892966548</td>\n",
       "      <td>10</td>\n",
       "    </tr>\n",
       "    <tr>\n",
       "      <th>1149777</th>\n",
       "      <td>276709</td>\n",
       "      <td>0515107662</td>\n",
       "      <td>10</td>\n",
       "    </tr>\n",
       "    <tr>\n",
       "      <th>1149778</th>\n",
       "      <td>276721</td>\n",
       "      <td>0590442449</td>\n",
       "      <td>10</td>\n",
       "    </tr>\n",
       "  </tbody>\n",
       "</table>\n",
       "<p>78610 rows × 3 columns</p>\n",
       "</div>"
      ],
      "text/plain": [
       "         userID        ISBN  rating\n",
       "9        276745   342310538      10\n",
       "30       276760  8440682697      10\n",
       "61       276772  3499230933      10\n",
       "62       276772  3596151465      10\n",
       "85       276788  055310666X      10\n",
       "...         ...         ...     ...\n",
       "1149743  276688  0836218655      10\n",
       "1149744  276688  0836236688      10\n",
       "1149745  276688  0892966548      10\n",
       "1149777  276709  0515107662      10\n",
       "1149778  276721  0590442449      10\n",
       "\n",
       "[78610 rows x 3 columns]"
      ]
     },
     "execution_count": 67,
     "metadata": {},
     "output_type": "execute_result"
    }
   ],
   "source": [
    "# Return the list of Books with the highest rating:\n",
    "dfratings[dfratings.rating == dfratings.rating.max()]"
   ]
  },
  {
   "cell_type": "code",
   "execution_count": 68,
   "metadata": {},
   "outputs": [
    {
     "data": {
      "image/png": "[encoded data removed]",
      "text/plain": [
       "<Figure size 720x720 with 1 Axes>"
      ]
     },
     "metadata": {
      "needs_background": "light"
     },
     "output_type": "display_data"
    }
   ],
   "source": [
    "# plotting histogram based on the ratings(explicit and implicit) data set\n",
    "plt.title('Ratings of Books: Explicit and Implicit Ratings')\n",
    "sns.countplot(data=dfratings , x='rating')\n",
    "plt.show()"
   ]
  },
  {
   "cell_type": "markdown",
   "metadata": {},
   "source": [
    "From the plot we can observe that zero ratings are the most, followed by ratings of 8 and 10. While ratings of 1 are very low. We can see that the ratings of 0 have the most rating and this are actually implicit ratings."
   ]
  },
  {
   "cell_type": "code",
   "execution_count": 69,
   "metadata": {},
   "outputs": [],
   "source": [
    "# ratings dataset will have num_users*num_books entries if every user rated every item, this shows that the dataset is very sparse\n",
    "num_users = dfusers.shape[0]\n",
    "num_books = dfbooks.shape[0]"
   ]
  },
  {
   "cell_type": "code",
   "execution_count": 70,
   "metadata": {},
   "outputs": [
    {
     "name": "stdout",
     "output_type": "stream",
     "text": [
      "99.99848054120955 %\n"
     ]
    }
   ],
   "source": [
    "#Sparsity of dataset in %\n",
    "sparsity=1.0-len(dfratings)/float(num_users*num_books)\n",
    "print(sparsity*100, \"%\")"
   ]
  },
  {
   "cell_type": "code",
   "execution_count": 71,
   "metadata": {},
   "outputs": [],
   "source": [
    "# Because the plan is to work only with the explicit ratings, we will remove the implicit ratings \n",
    "explicit_ratings = dfratings[dfratings.rating != 0]"
   ]
  },
  {
   "cell_type": "code",
   "execution_count": 72,
   "metadata": {},
   "outputs": [
    {
     "data": {
      "image/png": "[encoded data removed]",
      "text/plain": [
       "<Figure size 720x720 with 1 Axes>"
      ]
     },
     "metadata": {
      "needs_background": "light"
     },
     "output_type": "display_data"
    }
   ],
   "source": [
    "# plotting count based on the ratings \n",
    "plt.title('Explicit Ratings of Books')\n",
    "sns.countplot(data=explicit_ratings , x='rating')\n",
    "plt.show()\n",
    " "
   ]
  },
  {
   "cell_type": "markdown",
   "metadata": {},
   "source": [
    "We can be observe that users mostly like rating books with higher values, like for example looking at the dataset from rating of 5. We can also see that the rating of 8 has been rated highest number of times"
   ]
  },
  {
   "cell_type": "code",
   "execution_count": 73,
   "metadata": {},
   "outputs": [
    {
     "name": "stdout",
     "output_type": "stream",
     "text": [
      "Average book rating:  7.6\n"
     ]
    }
   ],
   "source": [
    "# get average book rating \n",
    "print('Average book rating: ', round(explicit_ratings['rating'].mean(), 2))"
   ]
  },
  {
   "cell_type": "code",
   "execution_count": 74,
   "metadata": {},
   "outputs": [
    {
     "data": {
      "text/html": [
       "<div>\n",
       "<style scoped>\n",
       "    .dataframe tbody tr th:only-of-type {\n",
       "        vertical-align: middle;\n",
       "    }\n",
       "\n",
       "    .dataframe tbody tr th {\n",
       "        vertical-align: top;\n",
       "    }\n",
       "\n",
       "    .dataframe thead th {\n",
       "        text-align: right;\n",
       "    }\n",
       "</style>\n",
       "<table border=\"1\" class=\"dataframe\">\n",
       "  <thead>\n",
       "    <tr style=\"text-align: right;\">\n",
       "      <th></th>\n",
       "      <th>rating</th>\n",
       "    </tr>\n",
       "    <tr>\n",
       "      <th>ISBN</th>\n",
       "      <th></th>\n",
       "    </tr>\n",
       "  </thead>\n",
       "  <tbody>\n",
       "    <tr>\n",
       "      <th>0316666343</th>\n",
       "      <td>707</td>\n",
       "    </tr>\n",
       "    <tr>\n",
       "      <th>0971880107</th>\n",
       "      <td>581</td>\n",
       "    </tr>\n",
       "    <tr>\n",
       "      <th>0385504209</th>\n",
       "      <td>487</td>\n",
       "    </tr>\n",
       "    <tr>\n",
       "      <th>0312195516</th>\n",
       "      <td>383</td>\n",
       "    </tr>\n",
       "    <tr>\n",
       "      <th>0679781587</th>\n",
       "      <td>333</td>\n",
       "    </tr>\n",
       "    <tr>\n",
       "      <th>0060928336</th>\n",
       "      <td>320</td>\n",
       "    </tr>\n",
       "    <tr>\n",
       "      <th>059035342X</th>\n",
       "      <td>313</td>\n",
       "    </tr>\n",
       "    <tr>\n",
       "      <th>0142001740</th>\n",
       "      <td>307</td>\n",
       "    </tr>\n",
       "    <tr>\n",
       "      <th>0446672211</th>\n",
       "      <td>295</td>\n",
       "    </tr>\n",
       "    <tr>\n",
       "      <th>044023722X</th>\n",
       "      <td>281</td>\n",
       "    </tr>\n",
       "  </tbody>\n",
       "</table>\n",
       "</div>"
      ],
      "text/plain": [
       "            rating\n",
       "ISBN              \n",
       "0316666343     707\n",
       "0971880107     581\n",
       "0385504209     487\n",
       "0312195516     383\n",
       "0679781587     333\n",
       "0060928336     320\n",
       "059035342X     313\n",
       "0142001740     307\n",
       "0446672211     295\n",
       "044023722X     281"
      ]
     },
     "execution_count": 74,
     "metadata": {},
     "output_type": "execute_result"
    }
   ],
   "source": [
    "# Count ratings of books by using group by on ISBN and then displaying the Top 10 results from highest rating to lowest\n",
    "BookRatingsCount = pd.DataFrame(explicit_ratings.groupby('ISBN')['rating'].count())\n",
    "BookRatingsCount.sort_values('rating', ascending=False).head(10)"
   ]
  },
  {
   "cell_type": "markdown",
   "metadata": {},
   "source": [
    "To also try to reduce the dataset size, I am considering users who have rated atleast 200 books\n",
    "and books which have atleast 200 ratings"
   ]
  },
  {
   "cell_type": "code",
   "execution_count": 75,
   "metadata": {},
   "outputs": [
    {
     "data": {
      "text/plain": [
       "(69426, 3)"
      ]
     },
     "execution_count": 75,
     "metadata": {},
     "output_type": "execute_result"
    }
   ],
   "source": [
    "# removing users who have rated atleast 200 books and books with atleast 200 ratings\n",
    "rate_stats1 = explicit_ratings[\"userID\"].value_counts()\n",
    "explicit_ratings = explicit_ratings[explicit_ratings['userID'].isin(rate_stats1[rate_stats1 >= 200].index)]\n",
    "rate_stats = explicit_ratings['rating'].value_counts()\n",
    "explicit_ratings = explicit_ratings[explicit_ratings['rating'].isin(rate_stats[rate_stats >= 200].index)]\n",
    "explicit_ratings.shape"
   ]
  },
  {
   "cell_type": "markdown",
   "metadata": {},
   "source": [
    "We are able to see the book that has the most ratings is ISBN: 0971880107 with 2502 ratings."
   ]
  },
  {
   "cell_type": "code",
   "execution_count": 76,
   "metadata": {},
   "outputs": [
    {
     "data": {
      "text/html": [
       "<div>\n",
       "<style scoped>\n",
       "    .dataframe tbody tr th:only-of-type {\n",
       "        vertical-align: middle;\n",
       "    }\n",
       "\n",
       "    .dataframe tbody tr th {\n",
       "        vertical-align: top;\n",
       "    }\n",
       "\n",
       "    .dataframe thead th {\n",
       "        text-align: right;\n",
       "    }\n",
       "</style>\n",
       "<table border=\"1\" class=\"dataframe\">\n",
       "  <thead>\n",
       "    <tr style=\"text-align: right;\">\n",
       "      <th></th>\n",
       "      <th>ISBN</th>\n",
       "      <th>title</th>\n",
       "      <th>author</th>\n",
       "      <th>yearOfPublication</th>\n",
       "      <th>publisher</th>\n",
       "    </tr>\n",
       "  </thead>\n",
       "  <tbody>\n",
       "    <tr>\n",
       "      <th>0</th>\n",
       "      <td>0971880107</td>\n",
       "      <td>Wild Animus</td>\n",
       "      <td>Rich Shapero</td>\n",
       "      <td>2004</td>\n",
       "      <td>Too Far</td>\n",
       "    </tr>\n",
       "    <tr>\n",
       "      <th>1</th>\n",
       "      <td>0316666343</td>\n",
       "      <td>The Lovely Bones: A Novel</td>\n",
       "      <td>Alice Sebold</td>\n",
       "      <td>2002</td>\n",
       "      <td>Little, Brown</td>\n",
       "    </tr>\n",
       "    <tr>\n",
       "      <th>2</th>\n",
       "      <td>0385504209</td>\n",
       "      <td>The Da Vinci Code</td>\n",
       "      <td>Dan Brown</td>\n",
       "      <td>2003</td>\n",
       "      <td>Doubleday</td>\n",
       "    </tr>\n",
       "    <tr>\n",
       "      <th>3</th>\n",
       "      <td>0060928336</td>\n",
       "      <td>Divine Secrets of the Ya-Ya Sisterhood: A Novel</td>\n",
       "      <td>Rebecca Wells</td>\n",
       "      <td>1997</td>\n",
       "      <td>Perennial</td>\n",
       "    </tr>\n",
       "    <tr>\n",
       "      <th>4</th>\n",
       "      <td>0312195516</td>\n",
       "      <td>The Red Tent (Bestselling Backlist)</td>\n",
       "      <td>Anita Diamant</td>\n",
       "      <td>1998</td>\n",
       "      <td>Picador USA</td>\n",
       "    </tr>\n",
       "    <tr>\n",
       "      <th>5</th>\n",
       "      <td>044023722X</td>\n",
       "      <td>A Painted House</td>\n",
       "      <td>John Grisham</td>\n",
       "      <td>2001</td>\n",
       "      <td>Dell Publishing Company</td>\n",
       "    </tr>\n",
       "    <tr>\n",
       "      <th>6</th>\n",
       "      <td>0142001740</td>\n",
       "      <td>The Secret Life of Bees</td>\n",
       "      <td>Sue Monk Kidd</td>\n",
       "      <td>2003</td>\n",
       "      <td>Penguin Books</td>\n",
       "    </tr>\n",
       "    <tr>\n",
       "      <th>7</th>\n",
       "      <td>067976402X</td>\n",
       "      <td>Snow Falling on Cedars</td>\n",
       "      <td>David Guterson</td>\n",
       "      <td>1995</td>\n",
       "      <td>Vintage Books USA</td>\n",
       "    </tr>\n",
       "    <tr>\n",
       "      <th>8</th>\n",
       "      <td>0671027360</td>\n",
       "      <td>Angels &amp;amp; Demons</td>\n",
       "      <td>Dan Brown</td>\n",
       "      <td>2001</td>\n",
       "      <td>Pocket Star</td>\n",
       "    </tr>\n",
       "  </tbody>\n",
       "</table>\n",
       "</div>"
      ],
      "text/plain": [
       "         ISBN                                            title  \\\n",
       "0  0971880107                                      Wild Animus   \n",
       "1  0316666343                        The Lovely Bones: A Novel   \n",
       "2  0385504209                                The Da Vinci Code   \n",
       "3  0060928336  Divine Secrets of the Ya-Ya Sisterhood: A Novel   \n",
       "4  0312195516              The Red Tent (Bestselling Backlist)   \n",
       "5  044023722X                                  A Painted House   \n",
       "6  0142001740                          The Secret Life of Bees   \n",
       "7  067976402X                           Snow Falling on Cedars   \n",
       "8  0671027360                              Angels &amp; Demons   \n",
       "\n",
       "           author  yearOfPublication                publisher  \n",
       "0    Rich Shapero               2004                  Too Far  \n",
       "1    Alice Sebold               2002            Little, Brown  \n",
       "2       Dan Brown               2003                Doubleday  \n",
       "3   Rebecca Wells               1997                Perennial  \n",
       "4   Anita Diamant               1998              Picador USA  \n",
       "5    John Grisham               2001  Dell Publishing Company  \n",
       "6   Sue Monk Kidd               2003            Penguin Books  \n",
       "7  David Guterson               1995        Vintage Books USA  \n",
       "8       Dan Brown               2001              Pocket Star  "
      ]
     },
     "execution_count": 76,
     "metadata": {},
     "output_type": "execute_result"
    }
   ],
   "source": [
    "Top10RatedBooks = pd.DataFrame(['0971880107', '0316666343', '0385504209', '0060928336', '0312195516', '044023722X', '0679781587', '0142001740', '067976402X', '0671027360'], index=np.arange(10), columns = ['ISBN'])\n",
    "Summary_Top10RatedBooks = pd.merge(Top10RatedBooks, dfbooks, on='ISBN')\n",
    "Summary_Top10RatedBooks.head(10)"
   ]
  },
  {
   "cell_type": "code",
   "execution_count": 77,
   "metadata": {},
   "outputs": [
    {
     "data": {
      "text/html": [
       "<div>\n",
       "<style scoped>\n",
       "    .dataframe tbody tr th:only-of-type {\n",
       "        vertical-align: middle;\n",
       "    }\n",
       "\n",
       "    .dataframe tbody tr th {\n",
       "        vertical-align: top;\n",
       "    }\n",
       "\n",
       "    .dataframe thead th {\n",
       "        text-align: right;\n",
       "    }\n",
       "</style>\n",
       "<table border=\"1\" class=\"dataframe\">\n",
       "  <thead>\n",
       "    <tr style=\"text-align: right;\">\n",
       "      <th></th>\n",
       "      <th>userID</th>\n",
       "      <th>ISBN</th>\n",
       "      <th>rating</th>\n",
       "      <th>title</th>\n",
       "      <th>author</th>\n",
       "      <th>yearOfPublication</th>\n",
       "      <th>publisher</th>\n",
       "    </tr>\n",
       "  </thead>\n",
       "  <tbody>\n",
       "    <tr>\n",
       "      <th>814976</th>\n",
       "      <td>198408</td>\n",
       "      <td>2842630521</td>\n",
       "      <td>0</td>\n",
       "      <td>Je l'aimais</td>\n",
       "      <td>Anna Gavalda</td>\n",
       "      <td>2002.0</td>\n",
       "      <td>Le Dilettante</td>\n",
       "    </tr>\n",
       "    <tr>\n",
       "      <th>597092</th>\n",
       "      <td>144110</td>\n",
       "      <td>0671702513</td>\n",
       "      <td>6</td>\n",
       "      <td>The Prize</td>\n",
       "      <td>Julie Garwood</td>\n",
       "      <td>1991.0</td>\n",
       "      <td>Pocket</td>\n",
       "    </tr>\n",
       "    <tr>\n",
       "      <th>823530</th>\n",
       "      <td>198711</td>\n",
       "      <td>1857923553</td>\n",
       "      <td>0</td>\n",
       "      <td>NaN</td>\n",
       "      <td>NaN</td>\n",
       "      <td>NaN</td>\n",
       "      <td>NaN</td>\n",
       "    </tr>\n",
       "    <tr>\n",
       "      <th>1010148</th>\n",
       "      <td>242299</td>\n",
       "      <td>0671001795</td>\n",
       "      <td>0</td>\n",
       "      <td>Two for the Dough</td>\n",
       "      <td>Janet Evanovich</td>\n",
       "      <td>1996.0</td>\n",
       "      <td>Pocket</td>\n",
       "    </tr>\n",
       "    <tr>\n",
       "      <th>1106187</th>\n",
       "      <td>265313</td>\n",
       "      <td>0553287737</td>\n",
       "      <td>0</td>\n",
       "      <td>The Bourne Ultimatum</td>\n",
       "      <td>Robert Ludlum</td>\n",
       "      <td>1991.0</td>\n",
       "      <td>Bantam Books</td>\n",
       "    </tr>\n",
       "  </tbody>\n",
       "</table>\n",
       "</div>"
      ],
      "text/plain": [
       "         userID        ISBN  rating                 title           author  \\\n",
       "814976   198408  2842630521       0           Je l'aimais     Anna Gavalda   \n",
       "597092   144110  0671702513       6             The Prize    Julie Garwood   \n",
       "823530   198711  1857923553       0                   NaN              NaN   \n",
       "1010148  242299  0671001795       0     Two for the Dough  Janet Evanovich   \n",
       "1106187  265313  0553287737       0  The Bourne Ultimatum    Robert Ludlum   \n",
       "\n",
       "         yearOfPublication      publisher  \n",
       "814976              2002.0  Le Dilettante  \n",
       "597092              1991.0         Pocket  \n",
       "823530                 NaN            NaN  \n",
       "1010148             1996.0         Pocket  \n",
       "1106187             1991.0   Bantam Books  "
      ]
     },
     "execution_count": 77,
     "metadata": {},
     "output_type": "execute_result"
    }
   ],
   "source": [
    "# Merging books and ratings df \n",
    "books_ratings_merge = dfratings.join(dfbooks.set_index('ISBN'), on='ISBN')\n",
    "books_ratings_merge.sample(5)"
   ]
  },
  {
   "cell_type": "code",
   "execution_count": 78,
   "metadata": {},
   "outputs": [
    {
     "name": "stdout",
     "output_type": "stream",
     "text": [
      "Total number of Books with no titles: 118644\n"
     ]
    }
   ],
   "source": [
    "print('Total number of Books with no titles:', books_ratings_merge.title.isnull().sum())"
   ]
  },
  {
   "cell_type": "markdown",
   "metadata": {},
   "source": [
    "As we can see there seems to be a few books' ISBNs in the ratings table that do not  match with an ISBN in the books dataframe, about 118644 book entries. This probably means that we will have to remove them from the dataset because there is no way we will be able to know the title of those books in order to give a proper a recommendation.\n",
    "\n",
    "From the sample results we can  observe that the yearOfPublication is showing values with decimals. Lets check the datatypes"
   ]
  },
  {
   "cell_type": "code",
   "execution_count": 79,
   "metadata": {},
   "outputs": [
    {
     "data": {
      "text/plain": [
       "userID                 int64\n",
       "ISBN                  object\n",
       "rating                 int64\n",
       "title                 object\n",
       "author                object\n",
       "yearOfPublication    float64\n",
       "publisher             object\n",
       "dtype: object"
      ]
     },
     "execution_count": 79,
     "metadata": {},
     "output_type": "execute_result"
    }
   ],
   "source": [
    "# check dataype of columns\n",
    "books_ratings_merge.dtypes"
   ]
  },
  {
   "cell_type": "markdown",
   "metadata": {},
   "source": [
    "We can see that the yearOfPublication has datatype float after the merge"
   ]
  },
  {
   "cell_type": "code",
   "execution_count": 80,
   "metadata": {},
   "outputs": [
    {
     "name": "stdout",
     "output_type": "stream",
     "text": [
      "<class 'pandas.core.frame.DataFrame'>\n",
      "RangeIndex: 1149780 entries, 0 to 1149779\n",
      "Data columns (total 7 columns):\n",
      "userID               1149780 non-null int64\n",
      "ISBN                 1149780 non-null object\n",
      "rating               1149780 non-null int64\n",
      "title                1031136 non-null object\n",
      "author               1031135 non-null object\n",
      "yearOfPublication    1031136 non-null float64\n",
      "publisher            1031136 non-null object\n",
      "dtypes: float64(1), int64(2), object(4)\n",
      "memory usage: 61.4+ MB\n"
     ]
    }
   ],
   "source": [
    "books_ratings_merge.info()"
   ]
  },
  {
   "cell_type": "code",
   "execution_count": 81,
   "metadata": {},
   "outputs": [
    {
     "data": {
      "text/html": [
       "<div>\n",
       "<style scoped>\n",
       "    .dataframe tbody tr th:only-of-type {\n",
       "        vertical-align: middle;\n",
       "    }\n",
       "\n",
       "    .dataframe tbody tr th {\n",
       "        vertical-align: top;\n",
       "    }\n",
       "\n",
       "    .dataframe thead th {\n",
       "        text-align: right;\n",
       "    }\n",
       "</style>\n",
       "<table border=\"1\" class=\"dataframe\">\n",
       "  <thead>\n",
       "    <tr style=\"text-align: right;\">\n",
       "      <th></th>\n",
       "      <th>userID</th>\n",
       "      <th>ISBN</th>\n",
       "      <th>rating</th>\n",
       "      <th>title</th>\n",
       "      <th>author</th>\n",
       "      <th>yearOfPublication</th>\n",
       "      <th>publisher</th>\n",
       "    </tr>\n",
       "  </thead>\n",
       "  <tbody>\n",
       "    <tr>\n",
       "      <th>150623</th>\n",
       "      <td>33974</td>\n",
       "      <td>0893757098</td>\n",
       "      <td>0</td>\n",
       "      <td>Hans Brinker, or the Silver Skates</td>\n",
       "      <td>Mary Mapes Dodge</td>\n",
       "      <td>1980.0</td>\n",
       "      <td>Troll Communications</td>\n",
       "    </tr>\n",
       "    <tr>\n",
       "      <th>691489</th>\n",
       "      <td>168245</td>\n",
       "      <td>0671032992</td>\n",
       "      <td>8</td>\n",
       "      <td>Heartbreaker</td>\n",
       "      <td>Julie Garwood</td>\n",
       "      <td>2000.0</td>\n",
       "      <td>Atria</td>\n",
       "    </tr>\n",
       "    <tr>\n",
       "      <th>452182</th>\n",
       "      <td>108296</td>\n",
       "      <td>0099269325</td>\n",
       "      <td>0</td>\n",
       "      <td>Friends in High Places</td>\n",
       "      <td>Donna Leon</td>\n",
       "      <td>2001.0</td>\n",
       "      <td>Trafalgar Square</td>\n",
       "    </tr>\n",
       "    <tr>\n",
       "      <th>108076</th>\n",
       "      <td>24921</td>\n",
       "      <td>0553154540</td>\n",
       "      <td>0</td>\n",
       "      <td>Charlie and the Chocolate Factory</td>\n",
       "      <td>Roald Dahl</td>\n",
       "      <td>1984.0</td>\n",
       "      <td>Yearling Books</td>\n",
       "    </tr>\n",
       "    <tr>\n",
       "      <th>723428</th>\n",
       "      <td>174848</td>\n",
       "      <td>0446516538</td>\n",
       "      <td>6</td>\n",
       "      <td>Slow Waltz in Cedar Bend</td>\n",
       "      <td>Robert James Waller</td>\n",
       "      <td>1993.0</td>\n",
       "      <td>Warner Books</td>\n",
       "    </tr>\n",
       "  </tbody>\n",
       "</table>\n",
       "</div>"
      ],
      "text/plain": [
       "        userID        ISBN  rating                               title  \\\n",
       "150623   33974  0893757098       0  Hans Brinker, or the Silver Skates   \n",
       "691489  168245  0671032992       8                        Heartbreaker   \n",
       "452182  108296  0099269325       0              Friends in High Places   \n",
       "108076   24921  0553154540       0   Charlie and the Chocolate Factory   \n",
       "723428  174848  0446516538       6            Slow Waltz in Cedar Bend   \n",
       "\n",
       "                     author  yearOfPublication             publisher  \n",
       "150623     Mary Mapes Dodge             1980.0  Troll Communications  \n",
       "691489        Julie Garwood             2000.0                 Atria  \n",
       "452182           Donna Leon             2001.0      Trafalgar Square  \n",
       "108076           Roald Dahl             1984.0        Yearling Books  \n",
       "723428  Robert James Waller             1993.0          Warner Books  "
      ]
     },
     "execution_count": 81,
     "metadata": {},
     "output_type": "execute_result"
    }
   ],
   "source": [
    " # removing rows with missing titles\n",
    "books_ratings_merge.dropna(subset=['title'], inplace=True)\n",
    "books_ratings_merge.sample(5)"
   ]
  },
  {
   "cell_type": "code",
   "execution_count": 82,
   "metadata": {},
   "outputs": [
    {
     "data": {
      "image/png": "[encoded data removed]",
      "text/plain": [
       "<Figure size 720x720 with 1 Axes>"
      ]
     },
     "metadata": {
      "needs_background": "light"
     },
     "output_type": "display_data"
    }
   ],
   "source": [
    "#  Plot books with highest cumulative book rating values.\n",
    "cum_ratings = books_ratings_merge.groupby('title').rating.sum()\n",
    "cum_ratings = cum_ratings.sort_values(ascending=False)[:10]\n",
    "# to get sorted list of book titles\n",
    "index = cum_ratings.index.tolist() \n",
    "# to get corresponding cummulative ratings values\n",
    "values = cum_ratings.values.tolist() \n",
    "# plot\n",
    "plt.rc(\"font\", size=14)\n",
    "plt.bar(range(len(index)), values, color='orange')\n",
    "plt.xticks(range(len(index)), index, rotation='vertical')\n",
    "plt.ylabel('Cumulative Rating Score')\n",
    "plt.show()\n"
   ]
  },
  {
   "cell_type": "code",
   "execution_count": 83,
   "metadata": {},
   "outputs": [
    {
     "name": "stdout",
     "output_type": "stream",
     "text": [
      "Books dataframe size: (271360, 5)\n",
      "Explicit ratings dataframe size: (69426, 3)\n",
      "Users dataframe size: (278856, 3)\n",
      "book_merge(books,ratings & user)dataframe size: (1031136, 9)\n"
     ]
    }
   ],
   "source": [
    "# Merge users df to books_ratings_merge and display df shape\n",
    "print('Books dataframe size:', dfbooks.shape)\n",
    "print('Explicit ratings dataframe size:', explicit_ratings.shape)\n",
    "print('Users dataframe size:', dfusers.shape)\n",
    "book_merge = books_ratings_merge.join(dfusers.set_index('userID'), on='userID')\n",
    "print('book_merge(books,ratings & user)dataframe size:', book_merge.shape)"
   ]
  },
  {
   "cell_type": "code",
   "execution_count": 84,
   "metadata": {},
   "outputs": [
    {
     "data": {
      "text/html": [
       "<div>\n",
       "<style scoped>\n",
       "    .dataframe tbody tr th:only-of-type {\n",
       "        vertical-align: middle;\n",
       "    }\n",
       "\n",
       "    .dataframe tbody tr th {\n",
       "        vertical-align: top;\n",
       "    }\n",
       "\n",
       "    .dataframe thead th {\n",
       "        text-align: right;\n",
       "    }\n",
       "</style>\n",
       "<table border=\"1\" class=\"dataframe\">\n",
       "  <thead>\n",
       "    <tr style=\"text-align: right;\">\n",
       "      <th></th>\n",
       "      <th>userID</th>\n",
       "      <th>ISBN</th>\n",
       "      <th>rating</th>\n",
       "      <th>title</th>\n",
       "      <th>author</th>\n",
       "      <th>yearOfPublication</th>\n",
       "      <th>publisher</th>\n",
       "      <th>age</th>\n",
       "      <th>country</th>\n",
       "    </tr>\n",
       "  </thead>\n",
       "  <tbody>\n",
       "    <tr>\n",
       "      <th>0</th>\n",
       "      <td>276725</td>\n",
       "      <td>034545104X</td>\n",
       "      <td>0</td>\n",
       "      <td>Flesh Tones: A Novel</td>\n",
       "      <td>M. J. Rose</td>\n",
       "      <td>2002.0</td>\n",
       "      <td>Ballantine Books</td>\n",
       "      <td>34</td>\n",
       "      <td>usa</td>\n",
       "    </tr>\n",
       "    <tr>\n",
       "      <th>2</th>\n",
       "      <td>276727</td>\n",
       "      <td>0446520802</td>\n",
       "      <td>0</td>\n",
       "      <td>The Notebook</td>\n",
       "      <td>Nicholas Sparks</td>\n",
       "      <td>1996.0</td>\n",
       "      <td>Warner Books</td>\n",
       "      <td>16</td>\n",
       "      <td>australia</td>\n",
       "    </tr>\n",
       "    <tr>\n",
       "      <th>5</th>\n",
       "      <td>276733</td>\n",
       "      <td>2080674722</td>\n",
       "      <td>0</td>\n",
       "      <td>Les Particules Elementaires</td>\n",
       "      <td>Michel Houellebecq</td>\n",
       "      <td>1998.0</td>\n",
       "      <td>Flammarion</td>\n",
       "      <td>37</td>\n",
       "      <td>france</td>\n",
       "    </tr>\n",
       "    <tr>\n",
       "      <th>10</th>\n",
       "      <td>276746</td>\n",
       "      <td>0425115801</td>\n",
       "      <td>0</td>\n",
       "      <td>Lightning</td>\n",
       "      <td>Dean R. Koontz</td>\n",
       "      <td>1996.0</td>\n",
       "      <td>Berkley Publishing Group</td>\n",
       "      <td>34</td>\n",
       "      <td></td>\n",
       "    </tr>\n",
       "    <tr>\n",
       "      <th>11</th>\n",
       "      <td>276746</td>\n",
       "      <td>0449006522</td>\n",
       "      <td>0</td>\n",
       "      <td>Manhattan Hunt Club</td>\n",
       "      <td>JOHN SAUL</td>\n",
       "      <td>2002.0</td>\n",
       "      <td>Ballantine Books</td>\n",
       "      <td>34</td>\n",
       "      <td></td>\n",
       "    </tr>\n",
       "    <tr>\n",
       "      <th>...</th>\n",
       "      <td>...</td>\n",
       "      <td>...</td>\n",
       "      <td>...</td>\n",
       "      <td>...</td>\n",
       "      <td>...</td>\n",
       "      <td>...</td>\n",
       "      <td>...</td>\n",
       "      <td>...</td>\n",
       "      <td>...</td>\n",
       "    </tr>\n",
       "    <tr>\n",
       "      <th>1149769</th>\n",
       "      <td>276704</td>\n",
       "      <td>059032120X</td>\n",
       "      <td>0</td>\n",
       "      <td>Sarah Bishop</td>\n",
       "      <td>Scott Odell</td>\n",
       "      <td>1994.0</td>\n",
       "      <td>Scholastic Inc</td>\n",
       "      <td>34</td>\n",
       "      <td>usa</td>\n",
       "    </tr>\n",
       "    <tr>\n",
       "      <th>1149770</th>\n",
       "      <td>276704</td>\n",
       "      <td>0679752714</td>\n",
       "      <td>0</td>\n",
       "      <td>A Desert of Pure Feeling (Vintage Contemporaries)</td>\n",
       "      <td>Judith Freeman</td>\n",
       "      <td>1997.0</td>\n",
       "      <td>Vintage Books USA</td>\n",
       "      <td>34</td>\n",
       "      <td>usa</td>\n",
       "    </tr>\n",
       "    <tr>\n",
       "      <th>1149772</th>\n",
       "      <td>276704</td>\n",
       "      <td>080410526X</td>\n",
       "      <td>0</td>\n",
       "      <td>All I Really Need to Know</td>\n",
       "      <td>ROBERT FULGHUM</td>\n",
       "      <td>1989.0</td>\n",
       "      <td>Ivy Books</td>\n",
       "      <td>34</td>\n",
       "      <td>usa</td>\n",
       "    </tr>\n",
       "    <tr>\n",
       "      <th>1149774</th>\n",
       "      <td>276704</td>\n",
       "      <td>0876044011</td>\n",
       "      <td>0</td>\n",
       "      <td>Edgar Cayce on the Akashic Records: The Book o...</td>\n",
       "      <td>Kevin J. Todeschi</td>\n",
       "      <td>1998.0</td>\n",
       "      <td>A.R.E. Press (Association of Research &amp;amp; Enlig</td>\n",
       "      <td>34</td>\n",
       "      <td>usa</td>\n",
       "    </tr>\n",
       "    <tr>\n",
       "      <th>1149776</th>\n",
       "      <td>276706</td>\n",
       "      <td>0679447156</td>\n",
       "      <td>0</td>\n",
       "      <td>Eight Weeks to Optimum Health: A Proven Progra...</td>\n",
       "      <td>Andrew Weil</td>\n",
       "      <td>1997.0</td>\n",
       "      <td>Alfred A. Knopf</td>\n",
       "      <td>18</td>\n",
       "      <td>canada</td>\n",
       "    </tr>\n",
       "  </tbody>\n",
       "</table>\n",
       "<p>647294 rows × 9 columns</p>\n",
       "</div>"
      ],
      "text/plain": [
       "         userID        ISBN  rating  \\\n",
       "0        276725  034545104X       0   \n",
       "2        276727  0446520802       0   \n",
       "5        276733  2080674722       0   \n",
       "10       276746  0425115801       0   \n",
       "11       276746  0449006522       0   \n",
       "...         ...         ...     ...   \n",
       "1149769  276704  059032120X       0   \n",
       "1149770  276704  0679752714       0   \n",
       "1149772  276704  080410526X       0   \n",
       "1149774  276704  0876044011       0   \n",
       "1149776  276706  0679447156       0   \n",
       "\n",
       "                                                     title  \\\n",
       "0                                     Flesh Tones: A Novel   \n",
       "2                                             The Notebook   \n",
       "5                              Les Particules Elementaires   \n",
       "10                                               Lightning   \n",
       "11                                     Manhattan Hunt Club   \n",
       "...                                                    ...   \n",
       "1149769                                       Sarah Bishop   \n",
       "1149770  A Desert of Pure Feeling (Vintage Contemporaries)   \n",
       "1149772                          All I Really Need to Know   \n",
       "1149774  Edgar Cayce on the Akashic Records: The Book o...   \n",
       "1149776  Eight Weeks to Optimum Health: A Proven Progra...   \n",
       "\n",
       "                     author  yearOfPublication  \\\n",
       "0                M. J. Rose             2002.0   \n",
       "2           Nicholas Sparks             1996.0   \n",
       "5        Michel Houellebecq             1998.0   \n",
       "10           Dean R. Koontz             1996.0   \n",
       "11                JOHN SAUL             2002.0   \n",
       "...                     ...                ...   \n",
       "1149769         Scott Odell             1994.0   \n",
       "1149770      Judith Freeman             1997.0   \n",
       "1149772      ROBERT FULGHUM             1989.0   \n",
       "1149774   Kevin J. Todeschi             1998.0   \n",
       "1149776         Andrew Weil             1997.0   \n",
       "\n",
       "                                                 publisher  age     country  \n",
       "0                                         Ballantine Books   34         usa  \n",
       "2                                             Warner Books   16   australia  \n",
       "5                                               Flammarion   37      france  \n",
       "10                                Berkley Publishing Group   34              \n",
       "11                                        Ballantine Books   34              \n",
       "...                                                    ...  ...         ...  \n",
       "1149769                                     Scholastic Inc   34         usa  \n",
       "1149770                                  Vintage Books USA   34         usa  \n",
       "1149772                                          Ivy Books   34         usa  \n",
       "1149774  A.R.E. Press (Association of Research &amp; Enlig   34         usa  \n",
       "1149776                                    Alfred A. Knopf   18      canada  \n",
       "\n",
       "[647294 rows x 9 columns]"
      ]
     },
     "execution_count": 84,
     "metadata": {},
     "output_type": "execute_result"
    }
   ],
   "source": [
    "# Return the list of Books with the lowest rating:\n",
    "book_merge[book_merge.rating == book_merge.rating.min()]"
   ]
  },
  {
   "cell_type": "code",
   "execution_count": 85,
   "metadata": {},
   "outputs": [],
   "source": [
    "# Because the plan is to work only with the explicit ratings, we will remove the implicit ratings \n",
    "explicit_ratings_books = book_merge[book_merge.rating != 0]"
   ]
  },
  {
   "cell_type": "code",
   "execution_count": 86,
   "metadata": {},
   "outputs": [],
   "source": [
    "# Converting datatype for yearOfPublication column to int32\n",
    "explicit_ratings_books.yearOfPublication = explicit_ratings_books.yearOfPublication.astype(np.int32)"
   ]
  },
  {
   "cell_type": "code",
   "execution_count": 87,
   "metadata": {},
   "outputs": [
    {
     "data": {
      "text/html": [
       "<div>\n",
       "<style scoped>\n",
       "    .dataframe tbody tr th:only-of-type {\n",
       "        vertical-align: middle;\n",
       "    }\n",
       "\n",
       "    .dataframe tbody tr th {\n",
       "        vertical-align: top;\n",
       "    }\n",
       "\n",
       "    .dataframe thead th {\n",
       "        text-align: right;\n",
       "    }\n",
       "</style>\n",
       "<table border=\"1\" class=\"dataframe\">\n",
       "  <thead>\n",
       "    <tr style=\"text-align: right;\">\n",
       "      <th></th>\n",
       "      <th>userID</th>\n",
       "      <th>ISBN</th>\n",
       "      <th>rating</th>\n",
       "      <th>title</th>\n",
       "      <th>author</th>\n",
       "      <th>yearOfPublication</th>\n",
       "      <th>publisher</th>\n",
       "      <th>age</th>\n",
       "      <th>country</th>\n",
       "    </tr>\n",
       "  </thead>\n",
       "  <tbody>\n",
       "    <tr>\n",
       "      <th>294319</th>\n",
       "      <td>69721</td>\n",
       "      <td>0345339738</td>\n",
       "      <td>10</td>\n",
       "      <td>The Return of the King (The Lord of the Rings,...</td>\n",
       "      <td>J.R.R. TOLKIEN</td>\n",
       "      <td>1986</td>\n",
       "      <td>Del Rey</td>\n",
       "      <td>32</td>\n",
       "      <td>usa</td>\n",
       "    </tr>\n",
       "    <tr>\n",
       "      <th>671148</th>\n",
       "      <td>163307</td>\n",
       "      <td>0440217512</td>\n",
       "      <td>7</td>\n",
       "      <td>Wings</td>\n",
       "      <td>Danielle Steel</td>\n",
       "      <td>1995</td>\n",
       "      <td>Dell</td>\n",
       "      <td>24</td>\n",
       "      <td>usa</td>\n",
       "    </tr>\n",
       "    <tr>\n",
       "      <th>543207</th>\n",
       "      <td>130482</td>\n",
       "      <td>0553272535</td>\n",
       "      <td>10</td>\n",
       "      <td>Night</td>\n",
       "      <td>Elie Wiesel</td>\n",
       "      <td>1982</td>\n",
       "      <td>Bantam Books</td>\n",
       "      <td>54</td>\n",
       "      <td>universe</td>\n",
       "    </tr>\n",
       "    <tr>\n",
       "      <th>534021</th>\n",
       "      <td>128841</td>\n",
       "      <td>0767903595</td>\n",
       "      <td>9</td>\n",
       "      <td>Clear Your Clutter With Feng Shui</td>\n",
       "      <td>Karen Kingston</td>\n",
       "      <td>1999</td>\n",
       "      <td>Broadway Books</td>\n",
       "      <td>42</td>\n",
       "      <td>usa</td>\n",
       "    </tr>\n",
       "    <tr>\n",
       "      <th>302973</th>\n",
       "      <td>72352</td>\n",
       "      <td>0505524694</td>\n",
       "      <td>6</td>\n",
       "      <td>Out of the Blue</td>\n",
       "      <td>Katherine Deauxville</td>\n",
       "      <td>2002</td>\n",
       "      <td>Dorchester Publishing Company</td>\n",
       "      <td>49</td>\n",
       "      <td>spain</td>\n",
       "    </tr>\n",
       "    <tr>\n",
       "      <th>183256</th>\n",
       "      <td>39807</td>\n",
       "      <td>0521376106</td>\n",
       "      <td>7</td>\n",
       "      <td>Formal Semantics (Cambridge Textbooks in Lingu...</td>\n",
       "      <td>Ronnie Cann</td>\n",
       "      <td>1993</td>\n",
       "      <td>Cambridge University Press</td>\n",
       "      <td>34</td>\n",
       "      <td>united kingdom</td>\n",
       "    </tr>\n",
       "    <tr>\n",
       "      <th>210282</th>\n",
       "      <td>48973</td>\n",
       "      <td>0882822403</td>\n",
       "      <td>10</td>\n",
       "      <td>Prescription Pot: A Leading Advocate's Heroic ...</td>\n",
       "      <td>George McMahon</td>\n",
       "      <td>2003</td>\n",
       "      <td>New Horizon Press Publishers</td>\n",
       "      <td>35</td>\n",
       "      <td>usa</td>\n",
       "    </tr>\n",
       "    <tr>\n",
       "      <th>908753</th>\n",
       "      <td>220931</td>\n",
       "      <td>0886776619</td>\n",
       "      <td>10</td>\n",
       "      <td>Storm Warning (The Mage Storms, Book 1)</td>\n",
       "      <td>Mercedes Lackey</td>\n",
       "      <td>1995</td>\n",
       "      <td>Daw Books</td>\n",
       "      <td>23</td>\n",
       "      <td>usa</td>\n",
       "    </tr>\n",
       "    <tr>\n",
       "      <th>294440</th>\n",
       "      <td>69721</td>\n",
       "      <td>0880297697</td>\n",
       "      <td>7</td>\n",
       "      <td>100 Malicious Little Mysteries</td>\n",
       "      <td>Isaac Asimov</td>\n",
       "      <td>1993</td>\n",
       "      <td>Marboro Books</td>\n",
       "      <td>32</td>\n",
       "      <td>usa</td>\n",
       "    </tr>\n",
       "    <tr>\n",
       "      <th>682085</th>\n",
       "      <td>166123</td>\n",
       "      <td>0446530859</td>\n",
       "      <td>8</td>\n",
       "      <td>The Fifth Angel</td>\n",
       "      <td>Tim Green</td>\n",
       "      <td>2003</td>\n",
       "      <td>Warner Books</td>\n",
       "      <td>32</td>\n",
       "      <td>usa</td>\n",
       "    </tr>\n",
       "    <tr>\n",
       "      <th>709118</th>\n",
       "      <td>172030</td>\n",
       "      <td>0515090654</td>\n",
       "      <td>8</td>\n",
       "      <td>Twice Loved</td>\n",
       "      <td>Lavyrle Spencer</td>\n",
       "      <td>1984</td>\n",
       "      <td>Jove Books</td>\n",
       "      <td>30</td>\n",
       "      <td>usa</td>\n",
       "    </tr>\n",
       "    <tr>\n",
       "      <th>150029</th>\n",
       "      <td>33967</td>\n",
       "      <td>0671042262</td>\n",
       "      <td>8</td>\n",
       "      <td>The Blue Nowhere : A Novel</td>\n",
       "      <td>Jeffery Deaver</td>\n",
       "      <td>2002</td>\n",
       "      <td>Pocket</td>\n",
       "      <td>39</td>\n",
       "      <td>usa</td>\n",
       "    </tr>\n",
       "    <tr>\n",
       "      <th>982726</th>\n",
       "      <td>236283</td>\n",
       "      <td>0345249615</td>\n",
       "      <td>10</td>\n",
       "      <td>The Day of the Storm</td>\n",
       "      <td>Rosamunde. Pilcher</td>\n",
       "      <td>1975</td>\n",
       "      <td>St. Martin's Press</td>\n",
       "      <td>41</td>\n",
       "      <td>usa</td>\n",
       "    </tr>\n",
       "    <tr>\n",
       "      <th>42375</th>\n",
       "      <td>10865</td>\n",
       "      <td>3570205932</td>\n",
       "      <td>6</td>\n",
       "      <td>GÃ?Â¤nsehaut 32. Mein unsichtbarer Freund.</td>\n",
       "      <td>R. L. Stine</td>\n",
       "      <td>1999</td>\n",
       "      <td>Bertelsmann, MÃ?Â¼nchen</td>\n",
       "      <td>14</td>\n",
       "      <td>germany</td>\n",
       "    </tr>\n",
       "    <tr>\n",
       "      <th>134892</th>\n",
       "      <td>30810</td>\n",
       "      <td>3257225504</td>\n",
       "      <td>9</td>\n",
       "      <td>Tod in Florenz.</td>\n",
       "      <td>Magdalen Nabb</td>\n",
       "      <td>1998</td>\n",
       "      <td>Diogenes Verlag</td>\n",
       "      <td>34</td>\n",
       "      <td>germany</td>\n",
       "    </tr>\n",
       "    <tr>\n",
       "      <th>62287</th>\n",
       "      <td>12538</td>\n",
       "      <td>0962448206</td>\n",
       "      <td>8</td>\n",
       "      <td>One Hundred One Things to Do With Lutefisk</td>\n",
       "      <td>Edward Fischer</td>\n",
       "      <td>1989</td>\n",
       "      <td>Edward Fischer</td>\n",
       "      <td>18</td>\n",
       "      <td>usa</td>\n",
       "    </tr>\n",
       "    <tr>\n",
       "      <th>688097</th>\n",
       "      <td>167634</td>\n",
       "      <td>0892131284</td>\n",
       "      <td>5</td>\n",
       "      <td>The Higher Taste: A Guide to Gourmet Vegetaria...</td>\n",
       "      <td>A. C. Bhaktivedanta Swami Prabhupada et al.</td>\n",
       "      <td>1991</td>\n",
       "      <td>Bhaktivedanta Book Trust</td>\n",
       "      <td>46</td>\n",
       "      <td>usa</td>\n",
       "    </tr>\n",
       "    <tr>\n",
       "      <th>49015</th>\n",
       "      <td>11676</td>\n",
       "      <td>0395137195</td>\n",
       "      <td>9</td>\n",
       "      <td>Bronze Bow</td>\n",
       "      <td>Elizabeth George Speare</td>\n",
       "      <td>1997</td>\n",
       "      <td>Houghton Mifflin Company</td>\n",
       "      <td>34</td>\n",
       "      <td>n/a</td>\n",
       "    </tr>\n",
       "    <tr>\n",
       "      <th>429109</th>\n",
       "      <td>102615</td>\n",
       "      <td>0140319328</td>\n",
       "      <td>9</td>\n",
       "      <td>The Daring Game</td>\n",
       "      <td>Kit Pearson</td>\n",
       "      <td>1991</td>\n",
       "      <td>Penguin Books</td>\n",
       "      <td>34</td>\n",
       "      <td>canada</td>\n",
       "    </tr>\n",
       "    <tr>\n",
       "      <th>360780</th>\n",
       "      <td>86969</td>\n",
       "      <td>0399143947</td>\n",
       "      <td>8</td>\n",
       "      <td>Point of Origin</td>\n",
       "      <td>Patricia Daniels Cornwell</td>\n",
       "      <td>1998</td>\n",
       "      <td>Putnam Pub Group</td>\n",
       "      <td>59</td>\n",
       "      <td>usa</td>\n",
       "    </tr>\n",
       "  </tbody>\n",
       "</table>\n",
       "</div>"
      ],
      "text/plain": [
       "        userID        ISBN  rating  \\\n",
       "294319   69721  0345339738      10   \n",
       "671148  163307  0440217512       7   \n",
       "543207  130482  0553272535      10   \n",
       "534021  128841  0767903595       9   \n",
       "302973   72352  0505524694       6   \n",
       "183256   39807  0521376106       7   \n",
       "210282   48973  0882822403      10   \n",
       "908753  220931  0886776619      10   \n",
       "294440   69721  0880297697       7   \n",
       "682085  166123  0446530859       8   \n",
       "709118  172030  0515090654       8   \n",
       "150029   33967  0671042262       8   \n",
       "982726  236283  0345249615      10   \n",
       "42375    10865  3570205932       6   \n",
       "134892   30810  3257225504       9   \n",
       "62287    12538  0962448206       8   \n",
       "688097  167634  0892131284       5   \n",
       "49015    11676  0395137195       9   \n",
       "429109  102615  0140319328       9   \n",
       "360780   86969  0399143947       8   \n",
       "\n",
       "                                                    title  \\\n",
       "294319  The Return of the King (The Lord of the Rings,...   \n",
       "671148                                              Wings   \n",
       "543207                                              Night   \n",
       "534021                  Clear Your Clutter With Feng Shui   \n",
       "302973                                    Out of the Blue   \n",
       "183256  Formal Semantics (Cambridge Textbooks in Lingu...   \n",
       "210282  Prescription Pot: A Leading Advocate's Heroic ...   \n",
       "908753            Storm Warning (The Mage Storms, Book 1)   \n",
       "294440                     100 Malicious Little Mysteries   \n",
       "682085                                    The Fifth Angel   \n",
       "709118                                        Twice Loved   \n",
       "150029                         The Blue Nowhere : A Novel   \n",
       "982726                               The Day of the Storm   \n",
       "42375          GÃ?Â¤nsehaut 32. Mein unsichtbarer Freund.   \n",
       "134892                                    Tod in Florenz.   \n",
       "62287          One Hundred One Things to Do With Lutefisk   \n",
       "688097  The Higher Taste: A Guide to Gourmet Vegetaria...   \n",
       "49015                                          Bronze Bow   \n",
       "429109                                    The Daring Game   \n",
       "360780                                    Point of Origin   \n",
       "\n",
       "                                             author  yearOfPublication  \\\n",
       "294319                               J.R.R. TOLKIEN               1986   \n",
       "671148                               Danielle Steel               1995   \n",
       "543207                                  Elie Wiesel               1982   \n",
       "534021                               Karen Kingston               1999   \n",
       "302973                         Katherine Deauxville               2002   \n",
       "183256                                  Ronnie Cann               1993   \n",
       "210282                               George McMahon               2003   \n",
       "908753                              Mercedes Lackey               1995   \n",
       "294440                                 Isaac Asimov               1993   \n",
       "682085                                    Tim Green               2003   \n",
       "709118                              Lavyrle Spencer               1984   \n",
       "150029                               Jeffery Deaver               2002   \n",
       "982726                           Rosamunde. Pilcher               1975   \n",
       "42375                                   R. L. Stine               1999   \n",
       "134892                                Magdalen Nabb               1998   \n",
       "62287                                Edward Fischer               1989   \n",
       "688097  A. C. Bhaktivedanta Swami Prabhupada et al.               1991   \n",
       "49015                       Elizabeth George Speare               1997   \n",
       "429109                                  Kit Pearson               1991   \n",
       "360780                    Patricia Daniels Cornwell               1998   \n",
       "\n",
       "                            publisher  age          country  \n",
       "294319                        Del Rey   32              usa  \n",
       "671148                           Dell   24              usa  \n",
       "543207                   Bantam Books   54         universe  \n",
       "534021                 Broadway Books   42              usa  \n",
       "302973  Dorchester Publishing Company   49            spain  \n",
       "183256     Cambridge University Press   34   united kingdom  \n",
       "210282   New Horizon Press Publishers   35              usa  \n",
       "908753                      Daw Books   23              usa  \n",
       "294440                  Marboro Books   32              usa  \n",
       "682085                   Warner Books   32              usa  \n",
       "709118                     Jove Books   30              usa  \n",
       "150029                         Pocket   39              usa  \n",
       "982726             St. Martin's Press   41              usa  \n",
       "42375         Bertelsmann, MÃ?Â¼nchen   14          germany  \n",
       "134892                Diogenes Verlag   34          germany  \n",
       "62287                  Edward Fischer   18              usa  \n",
       "688097       Bhaktivedanta Book Trust   46              usa  \n",
       "49015        Houghton Mifflin Company   34              n/a  \n",
       "429109                  Penguin Books   34           canada  \n",
       "360780               Putnam Pub Group   59              usa  "
      ]
     },
     "execution_count": 87,
     "metadata": {},
     "output_type": "execute_result"
    }
   ],
   "source": [
    "explicit_ratings_books.sample(20)"
   ]
  },
  {
   "cell_type": "code",
   "execution_count": 88,
   "metadata": {},
   "outputs": [
    {
     "data": {
      "text/plain": [
       "userID               0\n",
       "ISBN                 0\n",
       "rating               0\n",
       "title                0\n",
       "author               1\n",
       "yearOfPublication    0\n",
       "publisher            0\n",
       "age                  0\n",
       "country              0\n",
       "dtype: int64"
      ]
     },
     "execution_count": 88,
     "metadata": {},
     "output_type": "execute_result"
    }
   ],
   "source": [
    "# Checking for any missing values\n",
    "explicit_ratings_books.isnull().sum()"
   ]
  },
  {
   "cell_type": "code",
   "execution_count": 89,
   "metadata": {},
   "outputs": [
    {
     "name": "stdout",
     "output_type": "stream",
     "text": [
      "<class 'pandas.core.frame.DataFrame'>\n",
      "Int64Index: 383842 entries, 1 to 1149778\n",
      "Data columns (total 9 columns):\n",
      "userID               383842 non-null int64\n",
      "ISBN                 383842 non-null object\n",
      "rating               383842 non-null int64\n",
      "title                383842 non-null object\n",
      "author               383841 non-null object\n",
      "yearOfPublication    383842 non-null int32\n",
      "publisher            383842 non-null object\n",
      "age                  383842 non-null int32\n",
      "country              383842 non-null object\n",
      "dtypes: int32(2), int64(2), object(5)\n",
      "memory usage: 26.4+ MB\n"
     ]
    }
   ],
   "source": [
    "explicit_ratings_books.info()"
   ]
  },
  {
   "cell_type": "code",
   "execution_count": 90,
   "metadata": {},
   "outputs": [
    {
     "data": {
      "text/plain": [
       "(383842, 9)"
      ]
     },
     "execution_count": 90,
     "metadata": {},
     "output_type": "execute_result"
    }
   ],
   "source": [
    "explicit_ratings_books.shape"
   ]
  },
  {
   "cell_type": "code",
   "execution_count": 91,
   "metadata": {},
   "outputs": [],
   "source": [
    "#save final processed data to csv\n",
    "explicit_ratings_books.to_csv(r'../data/processed/explicit_ratings_books.csv', index = None, header=True) "
   ]
  },
  {
   "cell_type": "code",
   "execution_count": null,
   "metadata": {},
   "outputs": [],
   "source": []
  }
 ],
 "metadata": {
  "kernelspec": {
   "display_name": "Python 3",
   "language": "python",
   "name": "python3"
  },
  "language_info": {
   "codemirror_mode": {
    "name": "ipython",
    "version": 3
   },
   "file_extension": ".py",
   "mimetype": "text/x-python",
   "name": "python",
   "nbconvert_exporter": "python",
   "pygments_lexer": "ipython3",
   "version": "3.7.3"
  }
 },
 "nbformat": 4,
 "nbformat_minor": 2
}
